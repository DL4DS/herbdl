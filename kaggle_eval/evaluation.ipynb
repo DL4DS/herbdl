{
 "cells": [
  {
   "cell_type": "markdown",
   "metadata": {},
   "source": [
    "# Evaluation"
   ]
  },
  {
   "cell_type": "code",
   "execution_count": 67,
   "metadata": {},
   "outputs": [],
   "source": [
    "import torch\n",
    "import torch.nn as nn\n",
    "from torch.utils.data import DataLoader, Dataset\n",
    "\n",
    "import transformers  \n",
    "from transformers import (\n",
    "    AutoFeatureExtractor,\n",
    "    AutoModel,\n",
    "    AutoTokenizer,\n",
    "    HfArgumentParser,\n",
    "    Trainer,\n",
    "    TrainingArguments,\n",
    "    set_seed,\n",
    ")\n",
    "from transformers import CLIPProcessor, CLIPModel, AutoTokenizer, CLIPTextModel, CLIPVisionModel\n",
    "from datasets import load_dataset\n",
    "from torch.nn.parallel import DistributedDataParallel, DataParallel\n",
    "import json\n",
    "import pandas as pd\n",
    "import os\n",
    "import pickle\n",
    "import random\n",
    "import numpy as np\n",
    "import seaborn as sns\n",
    "import plotly as px\n",
    "seed = 0\n",
    "random.seed(seed)\n",
    "np.random.seed(seed)\n",
    "torch.manual_seed(seed)\n",
    "torch.cuda.manual_seed(seed)\n",
    "torch.backends.cudnn.deterministic = True\n",
    "torch.backends.cudnn.benchmark = False\n",
    "\n",
    "os.environ[\"TOKENIZERS_PARALLELISM\"] = \"true\"\n",
    "\n",
    "MODEL_CPKT = \"openai/clip-vit-large-patch14-336\"\n",
    "PRETRAINED_MODEL = \"dl4ds/herbaria_foundation_model\"\n",
    "\n",
    "tokenizer = AutoTokenizer.from_pretrained(MODEL_CPKT, cache_dir=\".\")\n",
    "processor = CLIPProcessor.from_pretrained(MODEL_CPKT, cache_dir=\".\")\n",
    "\n",
    "model = CLIPModel.from_pretrained(PRETRAINED_MODEL, cache_dir=\".\")\n",
    "\n",
    "clip_text = CLIPTextModel.from_pretrained(PRETRAINED_MODEL, cache_dir=\".\")\n",
    "clip_vision = CLIPVisionModel.from_pretrained(PRETRAINED_MODEL, cache_dir=\".\")\n",
    "\n",
    "device = torch.device(\"cuda\" if torch.cuda.is_available() else \"cpu\")\n",
    "num_gpus = torch.cuda.device_count()"
   ]
  },
  {
   "cell_type": "markdown",
   "metadata": {},
   "source": [
    "## Model definition"
   ]
  },
  {
   "cell_type": "code",
   "execution_count": 2,
   "metadata": {
    "slideshow": {
     "slide_type": "skip"
    }
   },
   "outputs": [
    {
     "data": {
      "text/plain": [
       "CLIPConfig {\n",
       "  \"_name_or_path\": \"dl4ds/herbaria_foundation_model\",\n",
       "  \"architectures\": [\n",
       "    \"CLIPModel\"\n",
       "  ],\n",
       "  \"initializer_factor\": 1.0,\n",
       "  \"logit_scale_init_value\": 2.6592,\n",
       "  \"model_type\": \"clip\",\n",
       "  \"projection_dim\": 768,\n",
       "  \"text_config\": {\n",
       "    \"dropout\": 0.0,\n",
       "    \"hidden_size\": 768,\n",
       "    \"intermediate_size\": 3072,\n",
       "    \"model_type\": \"clip_text_model\",\n",
       "    \"num_attention_heads\": 12,\n",
       "    \"projection_dim\": 768\n",
       "  },\n",
       "  \"torch_dtype\": \"float32\",\n",
       "  \"transformers_version\": \"4.33.3\",\n",
       "  \"vision_config\": {\n",
       "    \"dropout\": 0.0,\n",
       "    \"hidden_size\": 1024,\n",
       "    \"image_size\": 336,\n",
       "    \"intermediate_size\": 4096,\n",
       "    \"model_type\": \"clip_vision_model\",\n",
       "    \"num_attention_heads\": 16,\n",
       "    \"num_hidden_layers\": 24,\n",
       "    \"patch_size\": 14,\n",
       "    \"projection_dim\": 768\n",
       "  }\n",
       "}"
      ]
     },
     "execution_count": 2,
     "metadata": {},
     "output_type": "execute_result"
    }
   ],
   "source": [
    "model.config"
   ]
  },
  {
   "cell_type": "markdown",
   "metadata": {},
   "source": [
    "## Dataset"
   ]
  },
  {
   "cell_type": "code",
   "execution_count": 3,
   "metadata": {},
   "outputs": [
    {
     "data": {
      "text/html": [
       "<div>\n",
       "<style scoped>\n",
       "    .dataframe tbody tr th:only-of-type {\n",
       "        vertical-align: middle;\n",
       "    }\n",
       "\n",
       "    .dataframe tbody tr th {\n",
       "        vertical-align: top;\n",
       "    }\n",
       "\n",
       "    .dataframe thead th {\n",
       "        text-align: right;\n",
       "    }\n",
       "</style>\n",
       "<table border=\"1\" class=\"dataframe\">\n",
       "  <thead>\n",
       "    <tr style=\"text-align: right;\">\n",
       "      <th></th>\n",
       "      <th>image_id</th>\n",
       "      <th>file_name</th>\n",
       "      <th>license</th>\n",
       "    </tr>\n",
       "  </thead>\n",
       "  <tbody>\n",
       "    <tr>\n",
       "      <th>0</th>\n",
       "      <td>0</td>\n",
       "      <td>000/test-000000.jpg</td>\n",
       "      <td>0</td>\n",
       "    </tr>\n",
       "    <tr>\n",
       "      <th>1</th>\n",
       "      <td>1</td>\n",
       "      <td>000/test-000001.jpg</td>\n",
       "      <td>0</td>\n",
       "    </tr>\n",
       "    <tr>\n",
       "      <th>2</th>\n",
       "      <td>2</td>\n",
       "      <td>000/test-000002.jpg</td>\n",
       "      <td>0</td>\n",
       "    </tr>\n",
       "    <tr>\n",
       "      <th>3</th>\n",
       "      <td>3</td>\n",
       "      <td>000/test-000003.jpg</td>\n",
       "      <td>0</td>\n",
       "    </tr>\n",
       "    <tr>\n",
       "      <th>4</th>\n",
       "      <td>4</td>\n",
       "      <td>000/test-000004.jpg</td>\n",
       "      <td>0</td>\n",
       "    </tr>\n",
       "  </tbody>\n",
       "</table>\n",
       "</div>"
      ],
      "text/plain": [
       "  image_id            file_name  license\n",
       "0        0  000/test-000000.jpg        0\n",
       "1        1  000/test-000001.jpg        0\n",
       "2        2  000/test-000002.jpg        0\n",
       "3        3  000/test-000003.jpg        0\n",
       "4        4  000/test-000004.jpg        0"
      ]
     },
     "execution_count": 3,
     "metadata": {},
     "output_type": "execute_result"
    }
   ],
   "source": [
    "IMAGE_BASE_DIR = \"/projectnb/herbdl/data/kaggle-herbaria/herbarium-2022/test_images\"\n",
    "TRAIN_BASE_DIR = \"/projectnb/herbdl/data/kaggle-herbaria/herbarium-2022/train_images\"\n",
    "TRAIN_METADATA = \"/projectnb/herbdl/data/kaggle-herbaria/herbarium-2022/train_metadata.json\"\n",
    "TEST_METADATA = \"/projectnb/herbdl/data/kaggle-herbaria/herbarium-2022/test_metadata.json\"\n",
    "\n",
    "os.listdir(IMAGE_BASE_DIR)\n",
    "\n",
    "metadata = json.load(open(TEST_METADATA))\n",
    "\n",
    "IMAGE_PATHS = [os.path.join(IMAGE_BASE_DIR, image['file_name']) for image in metadata]\n",
    "N_IMAGES = len(IMAGE_PATHS)\n",
    "\n",
    "test_annotations = pd.DataFrame(metadata)\n",
    "test_annotations.head()"
   ]
  },
  {
   "cell_type": "code",
   "execution_count": 4,
   "metadata": {},
   "outputs": [],
   "source": [
    "train_metadata = json.load(open(TRAIN_METADATA))\n"
   ]
  },
  {
   "cell_type": "code",
   "execution_count": 5,
   "metadata": {},
   "outputs": [
    {
     "data": {
      "text/plain": [
       "['/projectnb/herbdl/data/kaggle-herbaria/herbarium-2022/train_images/000/00/00000__001.jpg',\n",
       " '/projectnb/herbdl/data/kaggle-herbaria/herbarium-2022/train_images/000/00/00000__002.jpg',\n",
       " '/projectnb/herbdl/data/kaggle-herbaria/herbarium-2022/train_images/000/00/00000__003.jpg',\n",
       " '/projectnb/herbdl/data/kaggle-herbaria/herbarium-2022/train_images/000/00/00000__004.jpg',\n",
       " '/projectnb/herbdl/data/kaggle-herbaria/herbarium-2022/train_images/000/00/00000__005.jpg',\n",
       " '/projectnb/herbdl/data/kaggle-herbaria/herbarium-2022/train_images/000/00/00000__006.jpg',\n",
       " '/projectnb/herbdl/data/kaggle-herbaria/herbarium-2022/train_images/000/00/00000__007.jpg',\n",
       " '/projectnb/herbdl/data/kaggle-herbaria/herbarium-2022/train_images/000/00/00000__008.jpg',\n",
       " '/projectnb/herbdl/data/kaggle-herbaria/herbarium-2022/train_images/000/00/00000__009.jpg',\n",
       " '/projectnb/herbdl/data/kaggle-herbaria/herbarium-2022/train_images/000/00/00000__011.jpg']"
      ]
     },
     "execution_count": 5,
     "metadata": {},
     "output_type": "execute_result"
    }
   ],
   "source": [
    "TRAIN_IMAGE_PATHS = [os.path.join(TRAIN_BASE_DIR, image['file_name']) for image in train_metadata['images']][:10]\n",
    "TRAIN_IMAGE_PATHS"
   ]
  },
  {
   "cell_type": "code",
   "execution_count": 6,
   "metadata": {},
   "outputs": [
    {
     "data": {
      "text/plain": [
       "DatasetDict({\n",
       "    train: Dataset({\n",
       "        features: ['image', 'caption'],\n",
       "        num_rows: 839772\n",
       "    })\n",
       "})"
      ]
     },
     "execution_count": 6,
     "metadata": {},
     "output_type": "execute_result"
    }
   ],
   "source": [
    "from datasets import load_dataset\n",
    "\n",
    "root_csv = \"/projectnb/herbdl/data/kaggle-herbaria/train_2022_labeled.csv\"\n",
    "out_json = \"/projectnb/herbdl/workspaces/smritis/finetuning/training/pairs.json\"\n",
    "\n",
    "dataset = load_dataset(\"json\", data_files=out_json)\n",
    "dataset"
   ]
  },
  {
   "cell_type": "markdown",
   "metadata": {},
   "source": [
    "### Captions"
   ]
  },
  {
   "cell_type": "code",
   "execution_count": 7,
   "metadata": {},
   "outputs": [
    {
     "name": "stdout",
     "output_type": "stream",
     "text": [
      "first image: /projectnb/herbdl/data/kaggle-herbaria/herbarium-2022/train_images/000/00/00000__001.jpg, caption: 'This is an image of species amabilis, in the genus Abies of family Pinaceae. It is part of the collection of institution A.'\n",
      "unique captions: 119173\n"
     ]
    }
   ],
   "source": [
    "root_csv = \"/projectnb/herbdl/data/kaggle-herbaria/train_2022_labeled.csv\"\n",
    "out_json = \"/projectnb/herbdl/workspaces/smritis/finetuning/training/pairs.json\"\n",
    "\n",
    "dataset = load_dataset(\"json\", data_files=out_json)\n",
    "index = 0\n",
    "print(f\"first image: {dataset['train'][index]['image']}, caption: '{dataset['train'][index]['caption']}'\")\n",
    "\n",
    "unique_captions = sorted(list(set(dataset['train']['caption'])))\n",
    "print(f\"unique captions: {len(unique_captions)}\")"
   ]
  },
  {
   "cell_type": "code",
   "execution_count": 8,
   "metadata": {},
   "outputs": [
    {
     "data": {
      "text/html": [
       "<div>\n",
       "<style scoped>\n",
       "    .dataframe tbody tr th:only-of-type {\n",
       "        vertical-align: middle;\n",
       "    }\n",
       "\n",
       "    .dataframe tbody tr th {\n",
       "        vertical-align: top;\n",
       "    }\n",
       "\n",
       "    .dataframe thead th {\n",
       "        text-align: right;\n",
       "    }\n",
       "</style>\n",
       "<table border=\"1\" class=\"dataframe\">\n",
       "  <thead>\n",
       "    <tr style=\"text-align: right;\">\n",
       "      <th></th>\n",
       "      <th>category_id</th>\n",
       "      <th>scientificName</th>\n",
       "      <th>family</th>\n",
       "      <th>genus</th>\n",
       "      <th>species</th>\n",
       "      <th>authors</th>\n",
       "    </tr>\n",
       "  </thead>\n",
       "  <tbody>\n",
       "    <tr>\n",
       "      <th>0</th>\n",
       "      <td>0</td>\n",
       "      <td>Abies amabilis (Douglas ex Loudon) J.Forbes</td>\n",
       "      <td>Pinaceae</td>\n",
       "      <td>Abies</td>\n",
       "      <td>amabilis</td>\n",
       "      <td>(Douglas ex Loudon) J.Forbes</td>\n",
       "    </tr>\n",
       "    <tr>\n",
       "      <th>1</th>\n",
       "      <td>1</td>\n",
       "      <td>Abies balsamea (L.) Mill.</td>\n",
       "      <td>Pinaceae</td>\n",
       "      <td>Abies</td>\n",
       "      <td>balsamea</td>\n",
       "      <td>(L.) Mill.</td>\n",
       "    </tr>\n",
       "    <tr>\n",
       "      <th>2</th>\n",
       "      <td>2</td>\n",
       "      <td>Abies bracteata (D.Don) Poit.</td>\n",
       "      <td>Pinaceae</td>\n",
       "      <td>Abies</td>\n",
       "      <td>bracteata</td>\n",
       "      <td>(D.Don) Poit.</td>\n",
       "    </tr>\n",
       "    <tr>\n",
       "      <th>3</th>\n",
       "      <td>3</td>\n",
       "      <td>Abies concolor (Gordon &amp; Glend.) Lindl. ex Hil...</td>\n",
       "      <td>Pinaceae</td>\n",
       "      <td>Abies</td>\n",
       "      <td>concolor</td>\n",
       "      <td>(Gordon &amp; Glend.) Lindl. ex Hildebr.</td>\n",
       "    </tr>\n",
       "    <tr>\n",
       "      <th>4</th>\n",
       "      <td>4</td>\n",
       "      <td>Abies fraseri (Pursh) Poir.</td>\n",
       "      <td>Pinaceae</td>\n",
       "      <td>Abies</td>\n",
       "      <td>fraseri</td>\n",
       "      <td>(Pursh) Poir.</td>\n",
       "    </tr>\n",
       "  </tbody>\n",
       "</table>\n",
       "</div>"
      ],
      "text/plain": [
       "   category_id                                     scientificName    family  \\\n",
       "0            0        Abies amabilis (Douglas ex Loudon) J.Forbes  Pinaceae   \n",
       "1            1                          Abies balsamea (L.) Mill.  Pinaceae   \n",
       "2            2                      Abies bracteata (D.Don) Poit.  Pinaceae   \n",
       "3            3  Abies concolor (Gordon & Glend.) Lindl. ex Hil...  Pinaceae   \n",
       "4            4                        Abies fraseri (Pursh) Poir.  Pinaceae   \n",
       "\n",
       "   genus    species                               authors  \n",
       "0  Abies   amabilis          (Douglas ex Loudon) J.Forbes  \n",
       "1  Abies   balsamea                            (L.) Mill.  \n",
       "2  Abies  bracteata                         (D.Don) Poit.  \n",
       "3  Abies   concolor  (Gordon & Glend.) Lindl. ex Hildebr.  \n",
       "4  Abies    fraseri                         (Pursh) Poir.  "
      ]
     },
     "execution_count": 8,
     "metadata": {},
     "output_type": "execute_result"
    }
   ],
   "source": [
    "TRAIN_METADATA = \"/projectnb/herbdl/data/kaggle-herbaria/herbarium-2022/train_metadata.json\"\n",
    "\n",
    "train_metadata = json.load(open(TRAIN_METADATA))\n",
    "categories = train_metadata['categories']\n",
    "\n",
    "label_df = pd.read_csv(root_csv)\n",
    "label_df.drop(columns=['Unnamed: 0'], inplace=True)\n",
    "\n",
    "categories_df = pd.DataFrame(categories)\n",
    "categories_df.head()"
   ]
  },
  {
   "cell_type": "markdown",
   "metadata": {},
   "source": [
    "Mapping species, genus and family taxons to category."
   ]
  },
  {
   "cell_type": "code",
   "execution_count": 9,
   "metadata": {},
   "outputs": [],
   "source": [
    "def map_label_to_category(label):\n",
    "    label = label.split(\" \")\n",
    "    species, genus, family = label[6][:-1], label[10], label[13][:-1]\n",
    "\n",
    "    category = categories_df[(categories_df['species'] == species) & (categories_df['genus'] == genus) & (categories_df['family'] == family)].iloc[0]['category_id']\n",
    "\n",
    "    return category\n",
    "\n",
    "def label_to_taxons(label):\n",
    "    label = label.split(\" \")\n",
    "    species, genus, family = label[6][:-1], label[10], label[13][:-1]\n",
    "\n",
    "    return species, genus, family"
   ]
  },
  {
   "cell_type": "markdown",
   "metadata": {},
   "source": [
    "## Transformation"
   ]
  },
  {
   "cell_type": "code",
   "execution_count": 10,
   "metadata": {},
   "outputs": [],
   "source": [
    "from PIL import Image\n",
    "\n",
    "def preprocess_image(image_path):\n",
    "    image = Image.open(image_path)\n",
    "    \n",
    "    return processor(images=image, return_tensors=\"pt\",).pixel_values.squeeze()"
   ]
  },
  {
   "cell_type": "markdown",
   "metadata": {},
   "source": [
    "preprocessed_images = []\n",
    "\n",
    "if not os.path.exists(\"./preprocessed_images.pt\"):\n",
    "    print(\"Images do not exist on path\")\n",
    "    preprocessed_images = [{'pixel_values': preprocess_image(image_path), \n",
    "                            \"image_path\": image_path} for image_path in IMAGE_PATHS]\n",
    "\n",
    "    torch.save(preprocessed_images, \"preprocessed_images.pt\")\n",
    "\n",
    "else:\n",
    "    preprocessed_images = torch.load(\"preprocessed_images.pt\")\n",
    "\n",
    "print(preprocessed_images[0]['pixel_values'].size())"
   ]
  },
  {
   "cell_type": "markdown",
   "metadata": {},
   "source": [
    "### Image Datasets and Loaders"
   ]
  },
  {
   "cell_type": "code",
   "execution_count": 16,
   "metadata": {},
   "outputs": [
    {
     "data": {
      "text/plain": [
       "{'image': '/projectnb/herbdl/data/kaggle-herbaria/herbarium-2022/train_images/155/04/15504__037.jpg',\n",
       " 'caption': 'This is an image of species pachyacanthum, in the genus Zygophyllum of family Zygophyllaceae. It is part of the collection of institution COLO.'}"
      ]
     },
     "execution_count": 16,
     "metadata": {},
     "output_type": "execute_result"
    }
   ],
   "source": [
    "dataset['train'][-1]"
   ]
  },
  {
   "cell_type": "code",
   "execution_count": 22,
   "metadata": {},
   "outputs": [],
   "source": [
    "class ImageDatasetTrain:\n",
    "    def __init__(self, image_paths, labels):\n",
    "        self.images = image_paths\n",
    "        self.labels = labels\n",
    "        \n",
    "    def __len__(self):\n",
    "        return len(self.images)\n",
    "\n",
    "    def __getitem__(self, idx):\n",
    "        path = self.images[idx]\n",
    "        label = self.labels[idx]\n",
    "        category = map_label_to_category(label)\n",
    "        file_name = os.path.basename(path)\n",
    "        image_id = int(file_name.split(\".\")[0].replace(\"__\", \"\"))\n",
    "        return {\"pixel_values\": preprocess_image(path), \"image_id\": image_id, \"label\": label, \"category\": category, 'image_path': path}\n",
    "\n",
    "train_dataset = ImageDatasetTrain(dataset['train']['image'], dataset['train']['caption'])\n",
    "train_loader = DataLoader(train_dataset, batch_size=2, shuffle=False)"
   ]
  },
  {
   "cell_type": "code",
   "execution_count": 27,
   "metadata": {},
   "outputs": [
    {
     "data": {
      "text/plain": [
       "{'pixel_values': tensor([[[ 0.3683,  1.4340,  1.3902,  ..., -0.3324, -0.0113, -0.1718],\n",
       "          [ 0.3829,  1.4340,  1.3902,  ..., -0.3032, -0.0259, -0.2448],\n",
       "          [ 0.3975,  1.4486,  1.3756,  ..., -0.3324, -0.0405, -0.2010],\n",
       "          ...,\n",
       "          [ 0.3099,  1.3464,  1.3026,  ...,  1.9303,  1.9303,  1.9303],\n",
       "          [ 0.3099,  1.3318,  1.3026,  ...,  1.9303,  1.9303,  1.9303],\n",
       "          [ 0.2953,  1.3026,  1.3026,  ...,  1.9303,  1.9303,  1.9303]],\n",
       " \n",
       "         [[ 0.4090,  1.4746,  1.4145,  ..., -0.2963,  0.0338, -0.1163],\n",
       "          [ 0.4240,  1.4746,  1.4295,  ..., -0.2363,  0.0188, -0.2063],\n",
       "          [ 0.4240,  1.4896,  1.4145,  ..., -0.2363,  0.0038, -0.1913],\n",
       "          ...,\n",
       "          [ 0.3640,  1.4145,  1.3545,  ...,  2.0749,  2.0749,  2.0749],\n",
       "          [ 0.3640,  1.4145,  1.3545,  ...,  2.0749,  2.0749,  2.0749],\n",
       "          [ 0.3490,  1.3845,  1.3395,  ...,  2.0749,  2.0749,  2.0749]],\n",
       " \n",
       "         [[ 0.3968,  1.3496,  1.2500,  ..., -0.2004,  0.1266,  0.0271],\n",
       "          [ 0.4110,  1.3496,  1.2643,  ..., -0.1435,  0.1124, -0.0582],\n",
       "          [ 0.4110,  1.3638,  1.2500,  ..., -0.1435,  0.1124, -0.0156],\n",
       "          ...,\n",
       "          [ 0.3115,  1.2643,  1.1647,  ...,  2.1459,  2.1459,  2.1459],\n",
       "          [ 0.3115,  1.2500,  1.1789,  ...,  2.1459,  2.1459,  2.1459],\n",
       "          [ 0.2973,  1.2358,  1.1647,  ...,  2.1459,  2.1459,  2.1459]]]),\n",
       " 'image_id': 223649,\n",
       " 'path': '/projectnb/herbdl/data/kaggle-herbaria/herbarium-2022/test_images/223/test-223649.jpg'}"
      ]
     },
     "execution_count": 27,
     "metadata": {},
     "output_type": "execute_result"
    }
   ],
   "source": [
    "class ImageDataset(Dataset):\n",
    "    def __init__(self, images):\n",
    "        self.images = images\n",
    "\n",
    "    def __len__(self):\n",
    "        return len(self.images)\n",
    "\n",
    "    def __getitem__(self, idx):\n",
    "        path = self.images[idx]\n",
    "        file_name = os.path.basename(path)\n",
    "        image_id = int(file_name.split(\".\")[0].split(\"-\")[1])\n",
    "        return {\"pixel_values\": preprocess_image(path), \"image_id\": image_id, 'path': path}\n",
    "\n",
    "\n",
    "image_dataset = ImageDataset(IMAGE_PATHS)\n",
    "image_loader = DataLoader(image_dataset, batch_size=8, shuffle=False)"
   ]
  },
  {
   "cell_type": "markdown",
   "metadata": {},
   "source": [
    "### Evaluation"
   ]
  },
  {
   "cell_type": "code",
   "execution_count": 13,
   "metadata": {},
   "outputs": [
    {
     "ename": "NameError",
     "evalue": "name 'unique_captions' is not defined",
     "output_type": "error",
     "traceback": [
      "\u001b[0;31m---------------------------------------------------------------------------\u001b[0m",
      "\u001b[0;31mNameError\u001b[0m                                 Traceback (most recent call last)",
      "Cell \u001b[0;32mIn[13], line 16\u001b[0m\n\u001b[1;32m     12\u001b[0m         encoded \u001b[38;5;241m=\u001b[39m \u001b[38;5;28mself\u001b[39m\u001b[38;5;241m.\u001b[39mtokenizer(caption, return_tensors\u001b[38;5;241m=\u001b[39m\u001b[38;5;124m\"\u001b[39m\u001b[38;5;124mpt\u001b[39m\u001b[38;5;124m\"\u001b[39m, padding\u001b[38;5;241m=\u001b[39m\u001b[38;5;124m'\u001b[39m\u001b[38;5;124mmax_length\u001b[39m\u001b[38;5;124m'\u001b[39m, truncation\u001b[38;5;241m=\u001b[39m\u001b[38;5;28;01mTrue\u001b[39;00m, max_length\u001b[38;5;241m=\u001b[39m\u001b[38;5;28mself\u001b[39m\u001b[38;5;241m.\u001b[39mmax_length)\u001b[38;5;241m.\u001b[39mto(device)\n\u001b[1;32m     13\u001b[0m         \u001b[38;5;28;01mreturn\u001b[39;00m {key: val\u001b[38;5;241m.\u001b[39msqueeze() \u001b[38;5;28;01mfor\u001b[39;00m key, val \u001b[38;5;129;01min\u001b[39;00m encoded\u001b[38;5;241m.\u001b[39mitems()}\n\u001b[0;32m---> 16\u001b[0m n_captions \u001b[38;5;241m=\u001b[39m \u001b[38;5;28mlen\u001b[39m(\u001b[43munique_captions\u001b[49m)\n\u001b[1;32m     17\u001b[0m batch_size \u001b[38;5;241m=\u001b[39m n_captions\u001b[38;5;241m/\u001b[39m\u001b[38;5;241m/\u001b[39m\u001b[38;5;241m256\u001b[39m\n\u001b[1;32m     19\u001b[0m caption_dataset \u001b[38;5;241m=\u001b[39m CaptionsDataset(unique_captions, tokenizer)\n",
      "\u001b[0;31mNameError\u001b[0m: name 'unique_captions' is not defined"
     ]
    }
   ],
   "source": [
    "class CaptionsDataset(Dataset):\n",
    "    def __init__(self, captions, tokenizer, max_length=38):\n",
    "        self.captions = captions\n",
    "        self.tokenizer = tokenizer\n",
    "        self.max_length = max_length\n",
    "\n",
    "    def __len__(self):\n",
    "        return len(self.captions)\n",
    "\n",
    "    def __getitem__(self, idx):\n",
    "        caption = self.captions[idx]\n",
    "        encoded = self.tokenizer(caption, return_tensors=\"pt\", padding='max_length', truncation=True, max_length=self.max_length).to(device)\n",
    "        return {key: val.squeeze() for key, val in encoded.items()}\n",
    "\n",
    "\n",
    "n_captions = len(unique_captions)\n",
    "batch_size = n_captions//256\n",
    "\n",
    "caption_dataset = CaptionsDataset(unique_captions, tokenizer)\n",
    "caption_loader = DataLoader(caption_dataset, batch_size=batch_size, shuffle=False)"
   ]
  },
  {
   "cell_type": "code",
   "execution_count": 12,
   "metadata": {},
   "outputs": [
    {
     "data": {
      "text/plain": [
       "CLIPModel(\n",
       "  (text_model): CLIPTextTransformer(\n",
       "    (embeddings): CLIPTextEmbeddings(\n",
       "      (token_embedding): Embedding(49408, 768)\n",
       "      (position_embedding): Embedding(77, 768)\n",
       "    )\n",
       "    (encoder): CLIPEncoder(\n",
       "      (layers): ModuleList(\n",
       "        (0-11): 12 x CLIPEncoderLayer(\n",
       "          (self_attn): CLIPAttention(\n",
       "            (k_proj): Linear(in_features=768, out_features=768, bias=True)\n",
       "            (v_proj): Linear(in_features=768, out_features=768, bias=True)\n",
       "            (q_proj): Linear(in_features=768, out_features=768, bias=True)\n",
       "            (out_proj): Linear(in_features=768, out_features=768, bias=True)\n",
       "          )\n",
       "          (layer_norm1): LayerNorm((768,), eps=1e-05, elementwise_affine=True)\n",
       "          (mlp): CLIPMLP(\n",
       "            (activation_fn): QuickGELUActivation()\n",
       "            (fc1): Linear(in_features=768, out_features=3072, bias=True)\n",
       "            (fc2): Linear(in_features=3072, out_features=768, bias=True)\n",
       "          )\n",
       "          (layer_norm2): LayerNorm((768,), eps=1e-05, elementwise_affine=True)\n",
       "        )\n",
       "      )\n",
       "    )\n",
       "    (final_layer_norm): LayerNorm((768,), eps=1e-05, elementwise_affine=True)\n",
       "  )\n",
       "  (vision_model): CLIPVisionTransformer(\n",
       "    (embeddings): CLIPVisionEmbeddings(\n",
       "      (patch_embedding): Conv2d(3, 1024, kernel_size=(14, 14), stride=(14, 14), bias=False)\n",
       "      (position_embedding): Embedding(577, 1024)\n",
       "    )\n",
       "    (pre_layrnorm): LayerNorm((1024,), eps=1e-05, elementwise_affine=True)\n",
       "    (encoder): CLIPEncoder(\n",
       "      (layers): ModuleList(\n",
       "        (0-23): 24 x CLIPEncoderLayer(\n",
       "          (self_attn): CLIPAttention(\n",
       "            (k_proj): Linear(in_features=1024, out_features=1024, bias=True)\n",
       "            (v_proj): Linear(in_features=1024, out_features=1024, bias=True)\n",
       "            (q_proj): Linear(in_features=1024, out_features=1024, bias=True)\n",
       "            (out_proj): Linear(in_features=1024, out_features=1024, bias=True)\n",
       "          )\n",
       "          (layer_norm1): LayerNorm((1024,), eps=1e-05, elementwise_affine=True)\n",
       "          (mlp): CLIPMLP(\n",
       "            (activation_fn): QuickGELUActivation()\n",
       "            (fc1): Linear(in_features=1024, out_features=4096, bias=True)\n",
       "            (fc2): Linear(in_features=4096, out_features=1024, bias=True)\n",
       "          )\n",
       "          (layer_norm2): LayerNorm((1024,), eps=1e-05, elementwise_affine=True)\n",
       "        )\n",
       "      )\n",
       "    )\n",
       "    (post_layernorm): LayerNorm((1024,), eps=1e-05, elementwise_affine=True)\n",
       "  )\n",
       "  (visual_projection): Linear(in_features=1024, out_features=768, bias=False)\n",
       "  (text_projection): Linear(in_features=768, out_features=768, bias=False)\n",
       ")"
      ]
     },
     "execution_count": 12,
     "metadata": {},
     "output_type": "execute_result"
    }
   ],
   "source": [
    "#model = DataParallel(model.eval())\n",
    "model = model.eval()\n",
    "model.to(device)"
   ]
  },
  {
   "cell_type": "markdown",
   "metadata": {},
   "source": [
    "### Matrix multiplying image and text features"
   ]
  },
  {
   "cell_type": "code",
   "execution_count": 37,
   "metadata": {},
   "outputs": [
    {
     "data": {
      "text/plain": [
       "torch.Size([119173, 768])"
      ]
     },
     "execution_count": 37,
     "metadata": {},
     "output_type": "execute_result"
    }
   ],
   "source": [
    "caption_embeddings = []\n",
    "\n",
    "if not os.path.exists(\"./caption_embeddings.pt\"):\n",
    "    for caption in unique_captions:\n",
    "        inputs = processor(text=caption, return_tensors='pt', padding=True).to(device)\n",
    "        with torch.no_grad():\n",
    "            caption_embedding = model.get_text_features(**inputs)\n",
    "        caption_embeddings.append(caption_embedding.cpu())\n",
    "\n",
    "    text_features = torch.stack(caption_embeddings).squeeze(1)\n",
    "    torch.save(text_features, \"caption_embeddings.pt\")\n",
    "\n",
    "else:\n",
    "    text_features = torch.load('caption_embeddings.pt').to(device)\n",
    "\n",
    "text_features.size()"
   ]
  },
  {
   "cell_type": "code",
   "execution_count": 15,
   "metadata": {},
   "outputs": [
    {
     "name": "stdout",
     "output_type": "stream",
     "text": [
      "Image ids: tensor([0, 1, 2, 3, 4, 5, 6, 7])\n",
      "Image ids: tensor([ 8, 10, 12, 13, 14, 15, 16, 17])\n",
      "Image ids: tensor([18, 20, 21, 22, 24, 25, 26, 27])\n",
      "Image ids: tensor([28, 29, 30, 31, 32, 33, 34, 35])\n",
      "Image ids: tensor([36, 37, 38, 39, 40, 42, 43, 44])\n",
      "Image ids: tensor([45, 46, 47, 48, 49, 50, 51, 52])\n",
      "Image ids: tensor([53, 54, 56, 57, 58, 59, 60, 61])\n",
      "Image ids: tensor([62, 64, 65, 66, 67, 68, 69, 70])\n",
      "Image ids: tensor([71, 72, 73, 74, 75, 76, 77, 78])\n",
      "Image ids: tensor([79, 80, 81, 82, 83, 84, 85, 86])\n",
      "Image ids: tensor([87, 88, 89, 90, 91, 92, 93, 94])\n",
      "Image ids: tensor([ 95,  96,  97,  98,  99, 100, 101, 102])\n",
      "Image ids: tensor([103, 104, 105, 106, 107, 108, 109, 110])\n",
      "Image ids: tensor([111, 112, 113, 114, 115, 116, 117, 118])\n",
      "Image ids: tensor([119, 121, 122, 123, 124, 125, 126, 127])\n",
      "Image ids: tensor([128, 129, 130, 132, 133, 134, 135, 136])\n",
      "Image ids: tensor([138, 139, 140, 141, 142, 143, 144, 146])\n",
      "Image ids: tensor([147, 148, 149, 150, 151, 152, 153, 154])\n",
      "Image ids: tensor([155, 156, 157, 158, 159, 160, 161, 162])\n",
      "Image ids: tensor([163, 164, 165, 166, 167, 168, 169, 170])\n",
      "Image ids: tensor([171, 172, 173, 174, 175, 177, 178, 179])\n",
      "Image ids: tensor([180, 181, 182, 183, 184, 186, 187, 188])\n",
      "Image ids: tensor([189, 190, 191, 192, 193, 194, 195, 196])\n",
      "Image ids: tensor([197, 198, 199, 200, 201, 202, 203, 204])\n",
      "Image ids: tensor([205, 206, 207, 208, 209, 210, 211, 212])\n",
      "Image ids: tensor([213, 214, 215, 216, 217, 218, 220, 221])\n",
      "Image ids: tensor([222, 223, 224, 225, 226, 227, 228, 229])\n",
      "Image ids: tensor([230, 231, 232, 233, 234, 235, 236, 237])\n",
      "Image ids: tensor([238, 239, 240, 241, 242, 243, 244, 245])\n",
      "Image ids: tensor([246, 248, 249, 250, 251, 252, 253, 254])\n",
      "Image ids: tensor([255, 256, 257, 258, 259, 260, 261, 262])\n",
      "Image ids: tensor([263, 264, 265, 266, 267, 268, 269, 270])\n",
      "Image ids: tensor([271, 272, 273, 274, 275, 276, 277, 279])\n",
      "Image ids: tensor([280, 282, 283, 284, 285, 286, 287, 288])\n",
      "Image ids: tensor([289, 290, 292, 293, 294, 295, 296, 297])\n",
      "Image ids: tensor([298, 299, 300, 301, 302, 303, 304, 305])\n",
      "Image ids: tensor([306, 307, 308, 309, 310, 311, 312, 314])\n",
      "Image ids: tensor([315, 316, 317, 319, 320, 321, 322, 323])\n",
      "Image ids: tensor([324, 325, 326, 327, 328, 329, 330, 331])\n",
      "Image ids: tensor([332, 333, 334, 335, 336, 337, 339, 340])\n",
      "Image ids: tensor([341, 342, 343, 344, 345, 346, 348, 349])\n",
      "Image ids: tensor([350, 351, 353, 354, 355, 356, 357, 358])\n",
      "Image ids: tensor([359, 360, 361, 362, 363, 364, 365, 366])\n",
      "Image ids: tensor([367, 368, 370, 371, 372, 373, 374, 375])\n",
      "Image ids: tensor([376, 377, 378, 379, 380, 381, 382, 383])\n",
      "Image ids: tensor([384, 385, 386, 387, 388, 389, 390, 391])\n",
      "Image ids: tensor([392, 394, 396, 397, 398, 399, 400, 401])\n",
      "Image ids: tensor([402, 403, 404, 405, 406, 407, 408, 409])\n",
      "Image ids: tensor([410, 411, 412, 413, 414, 415, 416, 417])\n",
      "Image ids: tensor([418, 419, 420, 421, 422, 423, 424, 425])\n",
      "Image ids: tensor([426, 427, 428, 429, 431, 432, 433, 434])\n",
      "Image ids: tensor([435, 436, 437, 438, 439, 440, 441, 442])\n",
      "Image ids: tensor([443, 444, 446, 447, 448, 449, 450, 451])\n",
      "Image ids: tensor([453, 454, 456, 457, 458, 459, 460, 461])\n",
      "Image ids: tensor([462, 463, 464, 465, 466, 467, 468, 469])\n",
      "Image ids: tensor([470, 471, 472, 473, 474, 475, 476, 477])\n",
      "Image ids: tensor([478, 480, 481, 482, 483, 484, 485, 486])\n",
      "Image ids: tensor([487, 488, 489, 490, 491, 492, 493, 494])\n",
      "Image ids: tensor([495, 496, 497, 498, 499, 500, 501, 502])\n",
      "Image ids: tensor([503, 504, 505, 506, 507, 508, 509, 510])\n",
      "Image ids: tensor([511, 512, 513, 514, 515, 516, 517, 518])\n",
      "Image ids: tensor([519, 520, 521, 522, 523, 524, 525, 526])\n",
      "Image ids: tensor([527, 528, 529, 530, 531, 532, 533, 535])\n",
      "Image ids: tensor([536, 537, 538, 539, 540, 541, 542, 543])\n",
      "Image ids: tensor([544, 545, 546, 547, 548, 549, 550, 551])\n",
      "Image ids: tensor([552, 553, 554, 555, 556, 557, 558, 559])\n",
      "Image ids: tensor([560, 561, 562, 563, 564, 565, 566, 567])\n",
      "Image ids: tensor([568, 569, 570, 571, 572, 573, 574, 575])\n",
      "Image ids: tensor([576, 577, 578, 579, 580, 581, 582, 583])\n",
      "Image ids: tensor([584, 585, 586, 588, 589, 590, 591, 592])\n",
      "Image ids: tensor([594, 595, 596, 597, 598, 599, 600, 601])\n",
      "Image ids: tensor([602, 603, 604, 605, 608, 609, 610, 611])\n",
      "Image ids: tensor([612, 613, 614, 615, 617, 618, 619, 620])\n",
      "Image ids: tensor([621, 622, 623, 624, 625, 626, 627, 628])\n",
      "Image ids: tensor([629, 630, 631, 632, 633, 634, 636, 637])\n",
      "Image ids: tensor([638, 639, 640, 641, 642, 643, 644, 645])\n",
      "Image ids: tensor([646, 647, 648, 649, 650, 651, 652, 653])\n",
      "Image ids: tensor([654, 655, 656, 659, 660, 661, 663, 664])\n",
      "Image ids: tensor([665, 666, 667, 668, 669, 670, 671, 672])\n",
      "Image ids: tensor([673, 674, 675, 677, 678, 679, 680, 681])\n",
      "Image ids: tensor([682, 683, 684, 685, 686, 687, 688, 689])\n",
      "Image ids: tensor([690, 691, 692, 693, 694, 695, 696, 697])\n",
      "Image ids: tensor([698, 699, 700, 701, 703, 704, 705, 706])\n",
      "Image ids: tensor([707, 708, 709, 710, 711, 712, 713, 714])\n",
      "Image ids: tensor([716, 717, 718, 719, 720, 721, 722, 723])\n",
      "Image ids: tensor([724, 725, 726, 727, 728, 729, 730, 731])\n",
      "Image ids: tensor([732, 733, 734, 735, 736, 737, 738, 739])\n",
      "Image ids: tensor([741, 742, 743, 744, 745, 746, 747, 748])\n",
      "Image ids: tensor([749, 750, 751, 752, 753, 754, 755, 756])\n",
      "Image ids: tensor([757, 758, 759, 760, 761, 762, 763, 764])\n",
      "Image ids: tensor([765, 766, 767, 768, 769, 770, 771, 772])\n",
      "Image ids: tensor([773, 774, 775, 776, 777, 778, 779, 780])\n",
      "Image ids: tensor([781, 782, 783, 784, 785, 787, 788, 789])\n",
      "Image ids: tensor([790, 791, 792, 793, 794, 795, 796, 797])\n",
      "Image ids: tensor([798, 799, 800, 801, 802, 804, 805, 806])\n",
      "Image ids: tensor([807, 808, 809, 810, 811, 813, 814, 815])\n",
      "Image ids: tensor([816, 817, 818, 819, 820, 821, 822, 823])\n",
      "Image ids: tensor([824, 825, 826, 827, 828, 829, 830, 832])\n",
      "Image ids: tensor([833, 834, 835, 836, 837, 838, 840, 841])\n",
      "Image ids: tensor([842, 843, 844, 845, 846, 848, 849, 850])\n",
      "Image ids: tensor([851, 852, 853, 854, 855, 856, 857, 858])\n",
      "Image ids: tensor([859, 860, 861, 862, 863, 864, 865, 866])\n",
      "Image ids: tensor([867, 868, 869, 870, 871, 872, 873, 874])\n",
      "Image ids: tensor([875, 876, 877, 878, 879, 880, 881, 882])\n",
      "Image ids: tensor([883, 884, 885, 886, 887, 888, 890, 891])\n",
      "Image ids: tensor([892, 893, 894, 895, 896, 897, 898, 899])\n",
      "Image ids: tensor([900, 901, 902, 903, 904, 905, 906, 907])\n",
      "Image ids: tensor([909, 910, 911, 912, 913, 914, 915, 916])\n",
      "Image ids: tensor([917, 918, 919, 920, 921, 922, 923, 925])\n",
      "Image ids: tensor([926, 928, 929, 930, 931, 932, 933, 934])\n",
      "Image ids: tensor([935, 936, 937, 938, 940, 941, 942, 943])\n",
      "Image ids: tensor([944, 946, 947, 948, 949, 950, 951, 952])\n",
      "Image ids: tensor([953, 954, 955, 956, 957, 958, 960, 961])\n",
      "Image ids: tensor([962, 963, 964, 965, 966, 967, 968, 969])\n",
      "Image ids: tensor([970, 971, 972, 973, 974, 975, 976, 977])\n",
      "Image ids: tensor([978, 979, 980, 982, 983, 984, 985, 986])\n",
      "Image ids: tensor([987, 989, 990, 992, 993, 994, 995, 996])\n",
      "Image ids: tensor([ 997,  998,  999, 1000, 1001, 1002, 1003, 1004])\n",
      "Image ids: tensor([1005, 1006, 1007, 1008, 1009, 1010, 1011, 1012])\n",
      "Image ids: tensor([1013, 1014, 1015, 1016, 1017, 1018, 1019, 1020])\n",
      "Image ids: tensor([1021, 1022, 1023, 1024, 1025, 1027, 1028, 1029])\n",
      "Image ids: tensor([1030, 1031, 1032, 1033, 1035, 1036, 1037, 1038])\n",
      "Image ids: tensor([1039, 1040, 1042, 1043, 1044, 1045, 1046, 1047])\n",
      "Image ids: tensor([1048, 1049, 1050, 1051, 1052, 1053, 1054, 1055])\n",
      "Image ids: tensor([1057, 1058, 1060, 1061, 1062, 1063, 1064, 1065])\n",
      "Image ids: tensor([1066, 1067, 1068, 1069, 1070, 1071, 1072, 1073])\n",
      "Image ids: tensor([1074, 1075, 1076, 1077, 1078, 1079, 1080, 1081])\n",
      "Image ids: tensor([1082, 1083, 1084, 1085, 1086, 1087, 1088, 1089])\n",
      "Image ids: tensor([1091, 1092, 1093, 1094, 1095, 1096, 1097, 1098])\n",
      "Image ids: tensor([1099, 1100, 1101, 1102, 1103, 1104, 1105, 1106])\n",
      "Image ids: tensor([1107, 1108, 1109, 1110, 1111, 1112, 1113, 1114])\n",
      "Image ids: tensor([1115, 1116, 1117, 1118, 1119, 1121, 1122, 1123])\n",
      "Image ids: tensor([1124, 1125, 1126, 1127, 1128, 1129, 1130, 1131])\n",
      "Image ids: tensor([1132, 1133, 1134, 1135, 1136, 1137, 1138, 1139])\n",
      "Image ids: tensor([1140, 1141, 1143, 1144, 1145, 1146, 1147, 1148])\n",
      "Image ids: tensor([1149, 1150, 1151, 1152, 1153, 1154, 1155, 1156])\n",
      "Image ids: tensor([1157, 1158, 1159, 1160, 1161, 1162, 1163, 1164])\n",
      "Image ids: tensor([1165, 1166, 1167, 1168, 1169, 1170, 1171, 1172])\n",
      "Image ids: tensor([1173, 1174, 1175, 1176, 1177, 1178, 1179, 1180])\n",
      "Image ids: tensor([1181, 1182, 1183, 1184, 1185, 1186, 1187, 1188])\n",
      "Image ids: tensor([1189, 1190, 1191, 1192, 1193, 1194, 1195, 1196])\n",
      "Image ids: tensor([1197, 1198, 1199, 1200, 1201, 1202, 1203, 1204])\n",
      "Image ids: tensor([1205, 1206, 1207, 1208, 1209, 1210, 1211, 1212])\n",
      "Image ids: tensor([1213, 1214, 1215, 1216, 1217, 1218, 1219, 1220])\n",
      "Image ids: tensor([1221, 1223, 1224, 1225, 1226, 1227, 1228, 1229])\n",
      "Image ids: tensor([1230, 1231, 1232, 1233, 1234, 1235, 1236, 1237])\n",
      "Image ids: tensor([1238, 1239, 1240, 1241, 1242, 1243, 1244, 1245])\n"
     ]
    },
    {
     "ename": "KeyboardInterrupt",
     "evalue": "",
     "output_type": "error",
     "traceback": [
      "\u001b[0;31m---------------------------------------------------------------------------\u001b[0m",
      "\u001b[0;31mKeyboardInterrupt\u001b[0m                         Traceback (most recent call last)",
      "Cell \u001b[0;32mIn[15], line 1\u001b[0m\n\u001b[0;32m----> 1\u001b[0m \u001b[38;5;28;43;01mfor\u001b[39;49;00m\u001b[43m \u001b[49m\u001b[43mbatch\u001b[49m\u001b[43m \u001b[49m\u001b[38;5;129;43;01min\u001b[39;49;00m\u001b[43m \u001b[49m\u001b[43mimage_loader\u001b[49m\u001b[43m:\u001b[49m\n\u001b[1;32m      3\u001b[0m \u001b[43m    \u001b[49m\u001b[43mpixel_values\u001b[49m\u001b[43m \u001b[49m\u001b[38;5;241;43m=\u001b[39;49m\u001b[43m \u001b[49m\u001b[43mbatch\u001b[49m\u001b[43m[\u001b[49m\u001b[38;5;124;43m'\u001b[39;49m\u001b[38;5;124;43mpixel_values\u001b[39;49m\u001b[38;5;124;43m'\u001b[39;49m\u001b[43m]\u001b[49m\n\u001b[1;32m      4\u001b[0m \u001b[43m    \u001b[49m\u001b[43mimage_ids\u001b[49m\u001b[43m \u001b[49m\u001b[38;5;241;43m=\u001b[39;49m\u001b[43m \u001b[49m\u001b[43mbatch\u001b[49m\u001b[43m[\u001b[49m\u001b[38;5;124;43m'\u001b[39;49m\u001b[38;5;124;43mimage_id\u001b[39;49m\u001b[38;5;124;43m'\u001b[39;49m\u001b[43m]\u001b[49m\n",
      "File \u001b[0;32m/share/pkg.8/academic-ml/spring-2024/install/spring-2024-pyt/lib/python3.11/site-packages/torch/utils/data/dataloader.py:630\u001b[0m, in \u001b[0;36m_BaseDataLoaderIter.__next__\u001b[0;34m(self)\u001b[0m\n\u001b[1;32m    627\u001b[0m \u001b[38;5;28;01mif\u001b[39;00m \u001b[38;5;28mself\u001b[39m\u001b[38;5;241m.\u001b[39m_sampler_iter \u001b[38;5;129;01mis\u001b[39;00m \u001b[38;5;28;01mNone\u001b[39;00m:\n\u001b[1;32m    628\u001b[0m     \u001b[38;5;66;03m# TODO(https://github.com/pytorch/pytorch/issues/76750)\u001b[39;00m\n\u001b[1;32m    629\u001b[0m     \u001b[38;5;28mself\u001b[39m\u001b[38;5;241m.\u001b[39m_reset()  \u001b[38;5;66;03m# type: ignore[call-arg]\u001b[39;00m\n\u001b[0;32m--> 630\u001b[0m data \u001b[38;5;241m=\u001b[39m \u001b[38;5;28;43mself\u001b[39;49m\u001b[38;5;241;43m.\u001b[39;49m\u001b[43m_next_data\u001b[49m\u001b[43m(\u001b[49m\u001b[43m)\u001b[49m\n\u001b[1;32m    631\u001b[0m \u001b[38;5;28mself\u001b[39m\u001b[38;5;241m.\u001b[39m_num_yielded \u001b[38;5;241m+\u001b[39m\u001b[38;5;241m=\u001b[39m \u001b[38;5;241m1\u001b[39m\n\u001b[1;32m    632\u001b[0m \u001b[38;5;28;01mif\u001b[39;00m \u001b[38;5;28mself\u001b[39m\u001b[38;5;241m.\u001b[39m_dataset_kind \u001b[38;5;241m==\u001b[39m _DatasetKind\u001b[38;5;241m.\u001b[39mIterable \u001b[38;5;129;01mand\u001b[39;00m \\\n\u001b[1;32m    633\u001b[0m         \u001b[38;5;28mself\u001b[39m\u001b[38;5;241m.\u001b[39m_IterableDataset_len_called \u001b[38;5;129;01mis\u001b[39;00m \u001b[38;5;129;01mnot\u001b[39;00m \u001b[38;5;28;01mNone\u001b[39;00m \u001b[38;5;129;01mand\u001b[39;00m \\\n\u001b[1;32m    634\u001b[0m         \u001b[38;5;28mself\u001b[39m\u001b[38;5;241m.\u001b[39m_num_yielded \u001b[38;5;241m>\u001b[39m \u001b[38;5;28mself\u001b[39m\u001b[38;5;241m.\u001b[39m_IterableDataset_len_called:\n",
      "File \u001b[0;32m/share/pkg.8/academic-ml/spring-2024/install/spring-2024-pyt/lib/python3.11/site-packages/torch/utils/data/dataloader.py:674\u001b[0m, in \u001b[0;36m_SingleProcessDataLoaderIter._next_data\u001b[0;34m(self)\u001b[0m\n\u001b[1;32m    672\u001b[0m \u001b[38;5;28;01mdef\u001b[39;00m \u001b[38;5;21m_next_data\u001b[39m(\u001b[38;5;28mself\u001b[39m):\n\u001b[1;32m    673\u001b[0m     index \u001b[38;5;241m=\u001b[39m \u001b[38;5;28mself\u001b[39m\u001b[38;5;241m.\u001b[39m_next_index()  \u001b[38;5;66;03m# may raise StopIteration\u001b[39;00m\n\u001b[0;32m--> 674\u001b[0m     data \u001b[38;5;241m=\u001b[39m \u001b[38;5;28;43mself\u001b[39;49m\u001b[38;5;241;43m.\u001b[39;49m\u001b[43m_dataset_fetcher\u001b[49m\u001b[38;5;241;43m.\u001b[39;49m\u001b[43mfetch\u001b[49m\u001b[43m(\u001b[49m\u001b[43mindex\u001b[49m\u001b[43m)\u001b[49m  \u001b[38;5;66;03m# may raise StopIteration\u001b[39;00m\n\u001b[1;32m    675\u001b[0m     \u001b[38;5;28;01mif\u001b[39;00m \u001b[38;5;28mself\u001b[39m\u001b[38;5;241m.\u001b[39m_pin_memory:\n\u001b[1;32m    676\u001b[0m         data \u001b[38;5;241m=\u001b[39m _utils\u001b[38;5;241m.\u001b[39mpin_memory\u001b[38;5;241m.\u001b[39mpin_memory(data, \u001b[38;5;28mself\u001b[39m\u001b[38;5;241m.\u001b[39m_pin_memory_device)\n",
      "File \u001b[0;32m/share/pkg.8/academic-ml/spring-2024/install/spring-2024-pyt/lib/python3.11/site-packages/torch/utils/data/_utils/fetch.py:51\u001b[0m, in \u001b[0;36m_MapDatasetFetcher.fetch\u001b[0;34m(self, possibly_batched_index)\u001b[0m\n\u001b[1;32m     49\u001b[0m         data \u001b[38;5;241m=\u001b[39m \u001b[38;5;28mself\u001b[39m\u001b[38;5;241m.\u001b[39mdataset\u001b[38;5;241m.\u001b[39m__getitems__(possibly_batched_index)\n\u001b[1;32m     50\u001b[0m     \u001b[38;5;28;01melse\u001b[39;00m:\n\u001b[0;32m---> 51\u001b[0m         data \u001b[38;5;241m=\u001b[39m \u001b[43m[\u001b[49m\u001b[38;5;28;43mself\u001b[39;49m\u001b[38;5;241;43m.\u001b[39;49m\u001b[43mdataset\u001b[49m\u001b[43m[\u001b[49m\u001b[43midx\u001b[49m\u001b[43m]\u001b[49m\u001b[43m \u001b[49m\u001b[38;5;28;43;01mfor\u001b[39;49;00m\u001b[43m \u001b[49m\u001b[43midx\u001b[49m\u001b[43m \u001b[49m\u001b[38;5;129;43;01min\u001b[39;49;00m\u001b[43m \u001b[49m\u001b[43mpossibly_batched_index\u001b[49m\u001b[43m]\u001b[49m\n\u001b[1;32m     52\u001b[0m \u001b[38;5;28;01melse\u001b[39;00m:\n\u001b[1;32m     53\u001b[0m     data \u001b[38;5;241m=\u001b[39m \u001b[38;5;28mself\u001b[39m\u001b[38;5;241m.\u001b[39mdataset[possibly_batched_index]\n",
      "File \u001b[0;32m/share/pkg.8/academic-ml/spring-2024/install/spring-2024-pyt/lib/python3.11/site-packages/torch/utils/data/_utils/fetch.py:51\u001b[0m, in \u001b[0;36m<listcomp>\u001b[0;34m(.0)\u001b[0m\n\u001b[1;32m     49\u001b[0m         data \u001b[38;5;241m=\u001b[39m \u001b[38;5;28mself\u001b[39m\u001b[38;5;241m.\u001b[39mdataset\u001b[38;5;241m.\u001b[39m__getitems__(possibly_batched_index)\n\u001b[1;32m     50\u001b[0m     \u001b[38;5;28;01melse\u001b[39;00m:\n\u001b[0;32m---> 51\u001b[0m         data \u001b[38;5;241m=\u001b[39m [\u001b[38;5;28;43mself\u001b[39;49m\u001b[38;5;241;43m.\u001b[39;49m\u001b[43mdataset\u001b[49m\u001b[43m[\u001b[49m\u001b[43midx\u001b[49m\u001b[43m]\u001b[49m \u001b[38;5;28;01mfor\u001b[39;00m idx \u001b[38;5;129;01min\u001b[39;00m possibly_batched_index]\n\u001b[1;32m     52\u001b[0m \u001b[38;5;28;01melse\u001b[39;00m:\n\u001b[1;32m     53\u001b[0m     data \u001b[38;5;241m=\u001b[39m \u001b[38;5;28mself\u001b[39m\u001b[38;5;241m.\u001b[39mdataset[possibly_batched_index]\n",
      "Cell \u001b[0;32mIn[12], line 12\u001b[0m, in \u001b[0;36mImageDataset.__getitem__\u001b[0;34m(self, idx)\u001b[0m\n\u001b[1;32m     10\u001b[0m file_name \u001b[38;5;241m=\u001b[39m os\u001b[38;5;241m.\u001b[39mpath\u001b[38;5;241m.\u001b[39mbasename(path)\n\u001b[1;32m     11\u001b[0m image_id \u001b[38;5;241m=\u001b[39m \u001b[38;5;28mint\u001b[39m(file_name\u001b[38;5;241m.\u001b[39msplit(\u001b[38;5;124m\"\u001b[39m\u001b[38;5;124m.\u001b[39m\u001b[38;5;124m\"\u001b[39m)[\u001b[38;5;241m0\u001b[39m]\u001b[38;5;241m.\u001b[39msplit(\u001b[38;5;124m\"\u001b[39m\u001b[38;5;124m-\u001b[39m\u001b[38;5;124m\"\u001b[39m)[\u001b[38;5;241m1\u001b[39m])\n\u001b[0;32m---> 12\u001b[0m \u001b[38;5;28;01mreturn\u001b[39;00m {\u001b[38;5;124m\"\u001b[39m\u001b[38;5;124mpixel_values\u001b[39m\u001b[38;5;124m\"\u001b[39m: \u001b[43mpreprocess_image\u001b[49m\u001b[43m(\u001b[49m\u001b[43mpath\u001b[49m\u001b[43m)\u001b[49m, \u001b[38;5;124m\"\u001b[39m\u001b[38;5;124mimage_id\u001b[39m\u001b[38;5;124m\"\u001b[39m: image_id}\n",
      "Cell \u001b[0;32mIn[10], line 6\u001b[0m, in \u001b[0;36mpreprocess_image\u001b[0;34m(image_path)\u001b[0m\n\u001b[1;32m      3\u001b[0m \u001b[38;5;28;01mdef\u001b[39;00m \u001b[38;5;21mpreprocess_image\u001b[39m(image_path):\n\u001b[1;32m      4\u001b[0m     image \u001b[38;5;241m=\u001b[39m Image\u001b[38;5;241m.\u001b[39mopen(image_path)\n\u001b[0;32m----> 6\u001b[0m     \u001b[38;5;28;01mreturn\u001b[39;00m \u001b[43mprocessor\u001b[49m\u001b[43m(\u001b[49m\u001b[43mimages\u001b[49m\u001b[38;5;241;43m=\u001b[39;49m\u001b[43mimage\u001b[49m\u001b[43m,\u001b[49m\u001b[43m \u001b[49m\u001b[43mreturn_tensors\u001b[49m\u001b[38;5;241;43m=\u001b[39;49m\u001b[38;5;124;43m\"\u001b[39;49m\u001b[38;5;124;43mpt\u001b[39;49m\u001b[38;5;124;43m\"\u001b[39;49m\u001b[43m,\u001b[49m\u001b[43m)\u001b[49m\u001b[38;5;241m.\u001b[39mpixel_values\u001b[38;5;241m.\u001b[39msqueeze()\n",
      "File \u001b[0;32m/share/pkg.8/academic-ml/spring-2024/install/spring-2024-pyt/lib/python3.11/site-packages/transformers/models/clip/processing_clip.py:103\u001b[0m, in \u001b[0;36mCLIPProcessor.__call__\u001b[0;34m(self, text, images, return_tensors, **kwargs)\u001b[0m\n\u001b[1;32m    100\u001b[0m     encoding \u001b[38;5;241m=\u001b[39m \u001b[38;5;28mself\u001b[39m\u001b[38;5;241m.\u001b[39mtokenizer(text, return_tensors\u001b[38;5;241m=\u001b[39mreturn_tensors, \u001b[38;5;241m*\u001b[39m\u001b[38;5;241m*\u001b[39mkwargs)\n\u001b[1;32m    102\u001b[0m \u001b[38;5;28;01mif\u001b[39;00m images \u001b[38;5;129;01mis\u001b[39;00m \u001b[38;5;129;01mnot\u001b[39;00m \u001b[38;5;28;01mNone\u001b[39;00m:\n\u001b[0;32m--> 103\u001b[0m     image_features \u001b[38;5;241m=\u001b[39m \u001b[38;5;28;43mself\u001b[39;49m\u001b[38;5;241;43m.\u001b[39;49m\u001b[43mimage_processor\u001b[49m\u001b[43m(\u001b[49m\u001b[43mimages\u001b[49m\u001b[43m,\u001b[49m\u001b[43m \u001b[49m\u001b[43mreturn_tensors\u001b[49m\u001b[38;5;241;43m=\u001b[39;49m\u001b[43mreturn_tensors\u001b[49m\u001b[43m,\u001b[49m\u001b[43m \u001b[49m\u001b[38;5;241;43m*\u001b[39;49m\u001b[38;5;241;43m*\u001b[39;49m\u001b[43mkwargs\u001b[49m\u001b[43m)\u001b[49m\n\u001b[1;32m    105\u001b[0m \u001b[38;5;28;01mif\u001b[39;00m text \u001b[38;5;129;01mis\u001b[39;00m \u001b[38;5;129;01mnot\u001b[39;00m \u001b[38;5;28;01mNone\u001b[39;00m \u001b[38;5;129;01mand\u001b[39;00m images \u001b[38;5;129;01mis\u001b[39;00m \u001b[38;5;129;01mnot\u001b[39;00m \u001b[38;5;28;01mNone\u001b[39;00m:\n\u001b[1;32m    106\u001b[0m     encoding[\u001b[38;5;124m\"\u001b[39m\u001b[38;5;124mpixel_values\u001b[39m\u001b[38;5;124m\"\u001b[39m] \u001b[38;5;241m=\u001b[39m image_features\u001b[38;5;241m.\u001b[39mpixel_values\n",
      "File \u001b[0;32m/share/pkg.8/academic-ml/spring-2024/install/spring-2024-pyt/lib/python3.11/site-packages/transformers/image_processing_utils.py:546\u001b[0m, in \u001b[0;36mBaseImageProcessor.__call__\u001b[0;34m(self, images, **kwargs)\u001b[0m\n\u001b[1;32m    544\u001b[0m \u001b[38;5;28;01mdef\u001b[39;00m \u001b[38;5;21m__call__\u001b[39m(\u001b[38;5;28mself\u001b[39m, images, \u001b[38;5;241m*\u001b[39m\u001b[38;5;241m*\u001b[39mkwargs) \u001b[38;5;241m-\u001b[39m\u001b[38;5;241m>\u001b[39m BatchFeature:\n\u001b[1;32m    545\u001b[0m \u001b[38;5;250m    \u001b[39m\u001b[38;5;124;03m\"\"\"Preprocess an image or a batch of images.\"\"\"\u001b[39;00m\n\u001b[0;32m--> 546\u001b[0m     \u001b[38;5;28;01mreturn\u001b[39;00m \u001b[38;5;28;43mself\u001b[39;49m\u001b[38;5;241;43m.\u001b[39;49m\u001b[43mpreprocess\u001b[49m\u001b[43m(\u001b[49m\u001b[43mimages\u001b[49m\u001b[43m,\u001b[49m\u001b[43m \u001b[49m\u001b[38;5;241;43m*\u001b[39;49m\u001b[38;5;241;43m*\u001b[39;49m\u001b[43mkwargs\u001b[49m\u001b[43m)\u001b[49m\n",
      "File \u001b[0;32m/share/pkg.8/academic-ml/spring-2024/install/spring-2024-pyt/lib/python3.11/site-packages/transformers/models/clip/image_processing_clip.py:285\u001b[0m, in \u001b[0;36mCLIPImageProcessor.preprocess\u001b[0;34m(self, images, do_resize, size, resample, do_center_crop, crop_size, do_rescale, rescale_factor, do_normalize, image_mean, image_std, do_convert_rgb, return_tensors, data_format, input_data_format, **kwargs)\u001b[0m\n\u001b[1;32m    282\u001b[0m     input_data_format \u001b[38;5;241m=\u001b[39m infer_channel_dimension_format(images[\u001b[38;5;241m0\u001b[39m])\n\u001b[1;32m    284\u001b[0m \u001b[38;5;28;01mif\u001b[39;00m do_resize:\n\u001b[0;32m--> 285\u001b[0m     images \u001b[38;5;241m=\u001b[39m \u001b[43m[\u001b[49m\n\u001b[1;32m    286\u001b[0m \u001b[43m        \u001b[49m\u001b[38;5;28;43mself\u001b[39;49m\u001b[38;5;241;43m.\u001b[39;49m\u001b[43mresize\u001b[49m\u001b[43m(\u001b[49m\u001b[43mimage\u001b[49m\u001b[38;5;241;43m=\u001b[39;49m\u001b[43mimage\u001b[49m\u001b[43m,\u001b[49m\u001b[43m \u001b[49m\u001b[43msize\u001b[49m\u001b[38;5;241;43m=\u001b[39;49m\u001b[43msize\u001b[49m\u001b[43m,\u001b[49m\u001b[43m \u001b[49m\u001b[43mresample\u001b[49m\u001b[38;5;241;43m=\u001b[39;49m\u001b[43mresample\u001b[49m\u001b[43m,\u001b[49m\u001b[43m \u001b[49m\u001b[43minput_data_format\u001b[49m\u001b[38;5;241;43m=\u001b[39;49m\u001b[43minput_data_format\u001b[49m\u001b[43m)\u001b[49m\n\u001b[1;32m    287\u001b[0m \u001b[43m        \u001b[49m\u001b[38;5;28;43;01mfor\u001b[39;49;00m\u001b[43m \u001b[49m\u001b[43mimage\u001b[49m\u001b[43m \u001b[49m\u001b[38;5;129;43;01min\u001b[39;49;00m\u001b[43m \u001b[49m\u001b[43mimages\u001b[49m\n\u001b[1;32m    288\u001b[0m \u001b[43m    \u001b[49m\u001b[43m]\u001b[49m\n\u001b[1;32m    290\u001b[0m \u001b[38;5;28;01mif\u001b[39;00m do_center_crop:\n\u001b[1;32m    291\u001b[0m     images \u001b[38;5;241m=\u001b[39m [\n\u001b[1;32m    292\u001b[0m         \u001b[38;5;28mself\u001b[39m\u001b[38;5;241m.\u001b[39mcenter_crop(image\u001b[38;5;241m=\u001b[39mimage, size\u001b[38;5;241m=\u001b[39mcrop_size, input_data_format\u001b[38;5;241m=\u001b[39minput_data_format) \u001b[38;5;28;01mfor\u001b[39;00m image \u001b[38;5;129;01min\u001b[39;00m images\n\u001b[1;32m    293\u001b[0m     ]\n",
      "File \u001b[0;32m/share/pkg.8/academic-ml/spring-2024/install/spring-2024-pyt/lib/python3.11/site-packages/transformers/models/clip/image_processing_clip.py:286\u001b[0m, in \u001b[0;36m<listcomp>\u001b[0;34m(.0)\u001b[0m\n\u001b[1;32m    282\u001b[0m     input_data_format \u001b[38;5;241m=\u001b[39m infer_channel_dimension_format(images[\u001b[38;5;241m0\u001b[39m])\n\u001b[1;32m    284\u001b[0m \u001b[38;5;28;01mif\u001b[39;00m do_resize:\n\u001b[1;32m    285\u001b[0m     images \u001b[38;5;241m=\u001b[39m [\n\u001b[0;32m--> 286\u001b[0m         \u001b[38;5;28;43mself\u001b[39;49m\u001b[38;5;241;43m.\u001b[39;49m\u001b[43mresize\u001b[49m\u001b[43m(\u001b[49m\u001b[43mimage\u001b[49m\u001b[38;5;241;43m=\u001b[39;49m\u001b[43mimage\u001b[49m\u001b[43m,\u001b[49m\u001b[43m \u001b[49m\u001b[43msize\u001b[49m\u001b[38;5;241;43m=\u001b[39;49m\u001b[43msize\u001b[49m\u001b[43m,\u001b[49m\u001b[43m \u001b[49m\u001b[43mresample\u001b[49m\u001b[38;5;241;43m=\u001b[39;49m\u001b[43mresample\u001b[49m\u001b[43m,\u001b[49m\u001b[43m \u001b[49m\u001b[43minput_data_format\u001b[49m\u001b[38;5;241;43m=\u001b[39;49m\u001b[43minput_data_format\u001b[49m\u001b[43m)\u001b[49m\n\u001b[1;32m    287\u001b[0m         \u001b[38;5;28;01mfor\u001b[39;00m image \u001b[38;5;129;01min\u001b[39;00m images\n\u001b[1;32m    288\u001b[0m     ]\n\u001b[1;32m    290\u001b[0m \u001b[38;5;28;01mif\u001b[39;00m do_center_crop:\n\u001b[1;32m    291\u001b[0m     images \u001b[38;5;241m=\u001b[39m [\n\u001b[1;32m    292\u001b[0m         \u001b[38;5;28mself\u001b[39m\u001b[38;5;241m.\u001b[39mcenter_crop(image\u001b[38;5;241m=\u001b[39mimage, size\u001b[38;5;241m=\u001b[39mcrop_size, input_data_format\u001b[38;5;241m=\u001b[39minput_data_format) \u001b[38;5;28;01mfor\u001b[39;00m image \u001b[38;5;129;01min\u001b[39;00m images\n\u001b[1;32m    293\u001b[0m     ]\n",
      "File \u001b[0;32m/share/pkg.8/academic-ml/spring-2024/install/spring-2024-pyt/lib/python3.11/site-packages/transformers/models/clip/image_processing_clip.py:154\u001b[0m, in \u001b[0;36mCLIPImageProcessor.resize\u001b[0;34m(self, image, size, resample, data_format, input_data_format, **kwargs)\u001b[0m\n\u001b[1;32m    150\u001b[0m     \u001b[38;5;28;01mraise\u001b[39;00m \u001b[38;5;167;01mValueError\u001b[39;00m(\u001b[38;5;124mf\u001b[39m\u001b[38;5;124m\"\u001b[39m\u001b[38;5;124mThe `size` parameter must contain the key `shortest_edge`. Got \u001b[39m\u001b[38;5;132;01m{\u001b[39;00msize\u001b[38;5;241m.\u001b[39mkeys()\u001b[38;5;132;01m}\u001b[39;00m\u001b[38;5;124m\"\u001b[39m)\n\u001b[1;32m    151\u001b[0m output_size \u001b[38;5;241m=\u001b[39m get_resize_output_image_size(\n\u001b[1;32m    152\u001b[0m     image, size\u001b[38;5;241m=\u001b[39msize[\u001b[38;5;124m\"\u001b[39m\u001b[38;5;124mshortest_edge\u001b[39m\u001b[38;5;124m\"\u001b[39m], default_to_square\u001b[38;5;241m=\u001b[39m\u001b[38;5;28;01mFalse\u001b[39;00m, input_data_format\u001b[38;5;241m=\u001b[39minput_data_format\n\u001b[1;32m    153\u001b[0m )\n\u001b[0;32m--> 154\u001b[0m \u001b[38;5;28;01mreturn\u001b[39;00m \u001b[43mresize\u001b[49m\u001b[43m(\u001b[49m\n\u001b[1;32m    155\u001b[0m \u001b[43m    \u001b[49m\u001b[43mimage\u001b[49m\u001b[43m,\u001b[49m\n\u001b[1;32m    156\u001b[0m \u001b[43m    \u001b[49m\u001b[43msize\u001b[49m\u001b[38;5;241;43m=\u001b[39;49m\u001b[43moutput_size\u001b[49m\u001b[43m,\u001b[49m\n\u001b[1;32m    157\u001b[0m \u001b[43m    \u001b[49m\u001b[43mresample\u001b[49m\u001b[38;5;241;43m=\u001b[39;49m\u001b[43mresample\u001b[49m\u001b[43m,\u001b[49m\n\u001b[1;32m    158\u001b[0m \u001b[43m    \u001b[49m\u001b[43mdata_format\u001b[49m\u001b[38;5;241;43m=\u001b[39;49m\u001b[43mdata_format\u001b[49m\u001b[43m,\u001b[49m\n\u001b[1;32m    159\u001b[0m \u001b[43m    \u001b[49m\u001b[43minput_data_format\u001b[49m\u001b[38;5;241;43m=\u001b[39;49m\u001b[43minput_data_format\u001b[49m\u001b[43m,\u001b[49m\n\u001b[1;32m    160\u001b[0m \u001b[43m    \u001b[49m\u001b[38;5;241;43m*\u001b[39;49m\u001b[38;5;241;43m*\u001b[39;49m\u001b[43mkwargs\u001b[49m\u001b[43m,\u001b[49m\n\u001b[1;32m    161\u001b[0m \u001b[43m\u001b[49m\u001b[43m)\u001b[49m\n",
      "File \u001b[0;32m/share/pkg.8/academic-ml/spring-2024/install/spring-2024-pyt/lib/python3.11/site-packages/transformers/image_transforms.py:330\u001b[0m, in \u001b[0;36mresize\u001b[0;34m(image, size, resample, reducing_gap, data_format, return_numpy, input_data_format)\u001b[0m\n\u001b[1;32m    328\u001b[0m height, width \u001b[38;5;241m=\u001b[39m size\n\u001b[1;32m    329\u001b[0m \u001b[38;5;66;03m# PIL images are in the format (width, height)\u001b[39;00m\n\u001b[0;32m--> 330\u001b[0m resized_image \u001b[38;5;241m=\u001b[39m \u001b[43mimage\u001b[49m\u001b[38;5;241;43m.\u001b[39;49m\u001b[43mresize\u001b[49m\u001b[43m(\u001b[49m\u001b[43m(\u001b[49m\u001b[43mwidth\u001b[49m\u001b[43m,\u001b[49m\u001b[43m \u001b[49m\u001b[43mheight\u001b[49m\u001b[43m)\u001b[49m\u001b[43m,\u001b[49m\u001b[43m \u001b[49m\u001b[43mresample\u001b[49m\u001b[38;5;241;43m=\u001b[39;49m\u001b[43mresample\u001b[49m\u001b[43m,\u001b[49m\u001b[43m \u001b[49m\u001b[43mreducing_gap\u001b[49m\u001b[38;5;241;43m=\u001b[39;49m\u001b[43mreducing_gap\u001b[49m\u001b[43m)\u001b[49m\n\u001b[1;32m    332\u001b[0m \u001b[38;5;28;01mif\u001b[39;00m return_numpy:\n\u001b[1;32m    333\u001b[0m     resized_image \u001b[38;5;241m=\u001b[39m np\u001b[38;5;241m.\u001b[39marray(resized_image)\n",
      "File \u001b[0;32m/share/pkg.8/academic-ml/spring-2024/install/spring-2024-pyt/lib/python3.11/site-packages/PIL/Image.py:2192\u001b[0m, in \u001b[0;36mImage.resize\u001b[0;34m(self, size, resample, box, reducing_gap)\u001b[0m\n\u001b[1;32m   2184\u001b[0m             \u001b[38;5;28mself\u001b[39m \u001b[38;5;241m=\u001b[39m Image\u001b[38;5;241m.\u001b[39mreduce(\u001b[38;5;28mself\u001b[39m, factor, box\u001b[38;5;241m=\u001b[39mreduce_box)\n\u001b[1;32m   2185\u001b[0m         box \u001b[38;5;241m=\u001b[39m (\n\u001b[1;32m   2186\u001b[0m             (box[\u001b[38;5;241m0\u001b[39m] \u001b[38;5;241m-\u001b[39m reduce_box[\u001b[38;5;241m0\u001b[39m]) \u001b[38;5;241m/\u001b[39m factor_x,\n\u001b[1;32m   2187\u001b[0m             (box[\u001b[38;5;241m1\u001b[39m] \u001b[38;5;241m-\u001b[39m reduce_box[\u001b[38;5;241m1\u001b[39m]) \u001b[38;5;241m/\u001b[39m factor_y,\n\u001b[1;32m   2188\u001b[0m             (box[\u001b[38;5;241m2\u001b[39m] \u001b[38;5;241m-\u001b[39m reduce_box[\u001b[38;5;241m0\u001b[39m]) \u001b[38;5;241m/\u001b[39m factor_x,\n\u001b[1;32m   2189\u001b[0m             (box[\u001b[38;5;241m3\u001b[39m] \u001b[38;5;241m-\u001b[39m reduce_box[\u001b[38;5;241m1\u001b[39m]) \u001b[38;5;241m/\u001b[39m factor_y,\n\u001b[1;32m   2190\u001b[0m         )\n\u001b[0;32m-> 2192\u001b[0m \u001b[38;5;28;01mreturn\u001b[39;00m \u001b[38;5;28mself\u001b[39m\u001b[38;5;241m.\u001b[39m_new(\u001b[38;5;28;43mself\u001b[39;49m\u001b[38;5;241;43m.\u001b[39;49m\u001b[43mim\u001b[49m\u001b[38;5;241;43m.\u001b[39;49m\u001b[43mresize\u001b[49m\u001b[43m(\u001b[49m\u001b[43msize\u001b[49m\u001b[43m,\u001b[49m\u001b[43m \u001b[49m\u001b[43mresample\u001b[49m\u001b[43m,\u001b[49m\u001b[43m \u001b[49m\u001b[43mbox\u001b[49m\u001b[43m)\u001b[49m)\n",
      "\u001b[0;31mKeyboardInterrupt\u001b[0m: "
     ]
    }
   ],
   "source": [
    "for batch in image_loader:\n",
    "    \n",
    "    pixel_values = batch['pixel_values']\n",
    "    image_ids = batch['image_id']\n",
    "    print(f\"Image ids: {image_ids}\")"
   ]
  },
  {
   "cell_type": "code",
   "execution_count": null,
   "metadata": {},
   "outputs": [],
   "source": [
    "submission_lst = []\n",
    "images_n = 0\n",
    "\n",
    "for batch in image_loader:\n",
    "    \n",
    "    pixel_values = batch['pixel_values'].to(device)\n",
    "    image_ids = batch['image_id']\n",
    "    #print(f\"Image ids: {image_ids}\")\n",
    "\n",
    "    with torch.no_grad():\n",
    "\n",
    "        image_features = model.get_image_features(pixel_values=batch['pixel_values'].to(device))\n",
    "\n",
    "    logits = torch.matmul(image_features, text_features.T)\n",
    "\n",
    "    predictions = logits.argmax(dim=1)\n",
    "\n",
    "    predicted_captions = [unique_captions[predictions[i].item()] for i in range(len(predictions))]\n",
    "    #print(predicted_captions)\n",
    "\n",
    "    predicted_categories = [map_label_to_category(caption) for caption in predicted_captions]\n",
    "    \n",
    "    #print(f\"Predicted captions: {predicted_captions}\")\n",
    "    #print(f\"Predicted categories: {predicted_categories}\")\n",
    "    #print(\"-----\")\n",
    "\n",
    "    submission_lst += [{\"image_id\": image_ids[i].item(), \"category_id\": predicted_categories[i]} for i in range(len(image_ids))] \n",
    "\n",
    "    images_n += 1\n",
    "    if images_n % 100 == 0:\n",
    "        print(f\"Processed {images_n} images\")\n",
    "\n",
    "submission_df = pd.DataFrame(submission_lst)\n",
    "submission_df.head()"
   ]
  },
  {
   "cell_type": "markdown",
   "metadata": {
    "slideshow": {
     "slide_type": "skip"
    }
   },
   "source": [
    "submission_lst = []\n",
    "images_n = 0\n",
    "\n",
    "for image in preprocessed_images:\n",
    "    pixel_values = image['pixel_values']\n",
    "    image_path = image['image_path']\n",
    "    \n",
    "    file_name = os.path.basename(image_path)\n",
    "    image_id = int(file_name.split(\".\")[0].split(\"-\")[1])\n",
    "    print(f\"Image ID: {image_id}\")\n",
    "\n",
    "    with torch.no_grad():\n",
    "\n",
    "        image_features = model.get_image_features(pixel_values=image['pixel_values'].to(device), return_dict=True).to(device)\n",
    "        #print(image_features[0])\n",
    "\n",
    "        logits = torch.matmul(image_features, text_features.T)\n",
    "        #print(logits.size())\n",
    "    \n",
    "    print(torch.argmax(logits).item())\n",
    "    predicted_caption = unique_captions[torch.argmax(logits).item()]\n",
    "    predicted_category = map_label_to_category(predicted_caption)\n",
    "    \n",
    "    print(f\"Predicted caption: {predicted_caption}\")\n",
    "    print(f\"Predicted category: {predicted_category}\")\n",
    "    print(\"-----\")\n",
    "    submission_lst.append({\"Id\": image_id, \"Predicted\": predicted_category})\n",
    "\n",
    "    images_n += 1\n",
    "    if images_n % 100 == 0:\n",
    "        print(f\"Processed {images_n} images\")\n",
    "\n",
    "submission_df = pd.DataFrame(submission_lst)\n",
    "submission_df.head()"
   ]
  },
  {
   "cell_type": "markdown",
   "metadata": {},
   "source": [
    "### Naive Approach"
   ]
  },
  {
   "cell_type": "code",
   "execution_count": null,
   "metadata": {},
   "outputs": [],
   "source": [
    "inputs = processor(unique_captions, padding=True, return_tensors=\"pt\", truncation=True).to(torch.float16).to(device)"
   ]
  },
  {
   "cell_type": "code",
   "execution_count": null,
   "metadata": {},
   "outputs": [],
   "source": [
    "submission_lst = []\n",
    "images_n = 0\n",
    "\n",
    "for image in preprocessed_images:\n",
    "    try: \n",
    "        pixel_values = image['pixel_values']\n",
    "        image_path = image['image_path']\n",
    "        print(f\"Processing image: {image_path}\")\n",
    "\n",
    "        file_name = os.path.basename(image_path)\n",
    "        image_id = int(file_name.split(\".\")[0].split(\"-\")[1])\n",
    "        print(f\"Image ID: {image_id}\"\n",
    "        )\n",
    "\n",
    "        model_input = {\"pixel_values\": pixel_values, \"input_ids\": inputs['input_ids'], \"attention_mask\": inputs['attention_mask']}\n",
    "\n",
    "        with torch.no_grad():\n",
    "            outputs = model(**model_input)\n",
    "\n",
    "        logits_per_image = outputs.logits_per_image  # this is the image-text similarity score\n",
    "        probs = logits_per_image.softmax(dim=1)  # we can take the softmax to get the label probabilities\n",
    "        \n",
    "        predicted_label = unique_captions[probs.argmax(dim=1)]\n",
    "        predicted_category = map_label_to_category(predicted_label)\n",
    "        print(f\"Predicted label: {predicted_label}\")\n",
    "        print(f\"Predicted category: {predicted_category}\")\n",
    "\n",
    "        submission_lst.append({\"Id\": image_id, \"Predicted\": predicted_category})\n",
    "\n",
    "        images_n += 1\n",
    "        if images_n % 100 == 0:\n",
    "            print(f\"Processed {images_n} images\")\n",
    "\n",
    "    except KeyboardInterrupt:\n",
    "        break\n",
    "\n",
    "submission_df = pd.DataFrame(submission_lst)\n",
    "submission_df.head()"
   ]
  },
  {
   "cell_type": "markdown",
   "metadata": {},
   "source": [
    "### Training Data Evaluation"
   ]
  },
  {
   "cell_type": "code",
   "execution_count": 63,
   "metadata": {},
   "outputs": [
    {
     "name": "stdout",
     "output_type": "stream",
     "text": [
      "Image ids: tensor([1, 2])\n",
      "Predicted categories: [4, 4]\n",
      "True categories: [0, 0]\n",
      "Predicted captions: ['This is an image of species fraseri, in the genus Abies of family Pinaceae. It is part of the collection of institution A.', 'This is an image of species fraseri, in the genus Abies of family Pinaceae. It is part of the collection of institution A.']\n",
      "True captions: ['This is an image of species amabilis, in the genus Abies of family Pinaceae. It is part of the collection of institution A.', 'This is an image of species amabilis, in the genus Abies of family Pinaceae. It is part of the collection of institution A.']\n",
      "-----\n",
      "Image ids: tensor([3, 4])\n",
      "Predicted categories: [1019, 4]\n",
      "True categories: [0, 0]\n",
      "Predicted captions: ['This is an image of species virgata, in the genus Arctostaphylos of family Ericaceae. It is part of the collection of institution ECON.', 'This is an image of species fraseri, in the genus Abies of family Pinaceae. It is part of the collection of institution GH.']\n",
      "True captions: ['This is an image of species amabilis, in the genus Abies of family Pinaceae. It is part of the collection of institution A.', 'This is an image of species amabilis, in the genus Abies of family Pinaceae. It is part of the collection of institution A.']\n",
      "-----\n",
      "Image ids: tensor([5, 6])\n",
      "Predicted categories: [8118, 1]\n",
      "True categories: [0, 0]\n",
      "Predicted captions: ['This is an image of species lyallii, in the genus Larix of family Pinaceae. It is part of the collection of institution GH.', 'This is an image of species balsamea, in the genus Abies of family Pinaceae. It is part of the collection of institution A.']\n",
      "True captions: ['This is an image of species amabilis, in the genus Abies of family Pinaceae. It is part of the collection of institution A.', 'This is an image of species amabilis, in the genus Abies of family Pinaceae. It is part of the collection of institution A.']\n",
      "-----\n",
      "Image ids: tensor([7, 8])\n",
      "Predicted categories: [11394, 12112]\n",
      "True categories: [0, 0]\n",
      "Predicted captions: ['This is an image of species attenuata, in the genus Pinus of family Pinaceae. It is part of the collection of institution A.', 'This is an image of species menziesii, in the genus Pseudotsuga of family Pinaceae. It is part of the collection of institution GH.']\n",
      "True captions: ['This is an image of species amabilis, in the genus Abies of family Pinaceae. It is part of the collection of institution A.', 'This is an image of species amabilis, in the genus Abies of family Pinaceae. It is part of the collection of institution A.']\n",
      "-----\n",
      "Image ids: tensor([ 9, 11])\n",
      "Predicted categories: [10053, 4]\n",
      "True categories: [0, 0]\n",
      "Predicted captions: ['This is an image of species oppositifolia, in the genus Ornithostaphylos of family Ericaceae. It is part of the collection of institution GH.', 'This is an image of species fraseri, in the genus Abies of family Pinaceae. It is part of the collection of institution A.']\n",
      "True captions: ['This is an image of species amabilis, in the genus Abies of family Pinaceae. It is part of the collection of institution A.', 'This is an image of species amabilis, in the genus Abies of family Pinaceae. It is part of the collection of institution A.']\n",
      "-----\n",
      "Processed 10 images\n"
     ]
    }
   ],
   "source": [
    "model = model.eval()\n",
    "model.to(device)\n",
    "\n",
    "correct_captions = 0\n",
    "\n",
    "correct_family = 0\n",
    "correct_genus = 0\n",
    "correct_species = 0\n",
    "\n",
    "images = 0\n",
    "\n",
    "for batch in train_loader:\n",
    "        \n",
    "        pixel_values = batch['pixel_values'].to(device)\n",
    "        image_ids = batch['image_id']\n",
    "        categories = batch['category']\n",
    "        captions = batch['label']\n",
    "        print(f\"Image ids: {image_ids}\")\n",
    "\n",
    "        try: \n",
    "\n",
    "            with torch.no_grad():\n",
    "\n",
    "                image_features = model.get_image_features(pixel_values=batch['pixel_values'].to(device))\n",
    "\n",
    "            logits = torch.matmul(image_features, text_features.T)\n",
    "\n",
    "            predictions = logits.argmax(dim=1)\n",
    "\n",
    "            predicted_captions = [unique_captions[predictions[i].item()] for i in range(len(predictions))]\n",
    "\n",
    "            predicted_categories = [map_label_to_category(caption) for caption in predicted_captions]\n",
    "            \n",
    "            print(f\"Predicted categories: {predicted_categories}\")\n",
    "            print(f\"True categories: {[c.item() for c in categories]}\")\n",
    "            print(f\"Predicted captions: {predicted_captions}\")\n",
    "            print(f\"True captions: {captions}\")\n",
    "            print(\"-----\")\n",
    "\n",
    "            correct_captions += sum([categories[i] == predicted_categories[i] for i in range(len(categories))])\n",
    "\n",
    "            predicted_taxons = [label_to_taxons(caption) for caption in predicted_captions]\n",
    "            true_taxons = [label_to_taxons(caption) for caption in captions]\n",
    "\n",
    "            correct_family += sum([predicted_taxons[i][2] == true_taxons[i][2] for i in range(len(true_taxons))])\n",
    "            correct_genus += sum([predicted_taxons[i][1] == true_taxons[i][1] for i in range(len(true_taxons))])\n",
    "            correct_species += sum([predicted_taxons[i][0] == true_taxons[i][0] for i in range(len(true_taxons))])\n",
    "            \n",
    "            images += len(image_ids)\n",
    "\n",
    "            if images % 10 == 0:\n",
    "                print(f\"Processed {images} images\")\n",
    "                break\n",
    "\n",
    "        except KeyboardInterrupt:\n",
    "            print(f\"Keyboard interrupt -- processed {images_n} images\")\n",
    "            break\n"
   ]
  },
  {
   "cell_type": "code",
   "execution_count": 64,
   "metadata": {},
   "outputs": [
    {
     "data": {
      "text/plain": [
       "(tensor(0), 8, 5, 0)"
      ]
     },
     "execution_count": 64,
     "metadata": {},
     "output_type": "execute_result"
    }
   ],
   "source": [
    "correct_captions, correct_family, correct_genus, correct_species"
   ]
  },
  {
   "cell_type": "markdown",
   "metadata": {},
   "source": [
    "### EDA of training dataset"
   ]
  },
  {
   "cell_type": "code",
   "execution_count": 11,
   "metadata": {},
   "outputs": [
    {
     "data": {
      "text/plain": [
       "(array(['amabilis', 'amabilis', 'amabilis', ..., 'pachyacanthum',\n",
       "        'pachyacanthum', 'pachyacanthum'], dtype='<U20'),\n",
       " array(['Abies', 'Abies', 'Abies', ..., 'Zygophyllum', 'Zygophyllum',\n",
       "        'Zygophyllum'], dtype='<U20'),\n",
       " array(['Pinaceae', 'Pinaceae', 'Pinaceae', ..., 'Zygophyllaceae',\n",
       "        'Zygophyllaceae', 'Zygophyllaceae'], dtype='<U20'))"
      ]
     },
     "execution_count": 11,
     "metadata": {},
     "output_type": "execute_result"
    }
   ],
   "source": [
    "taxons = np.array([label_to_taxons(i) for i in dataset['train']['caption']])\n",
    "\n",
    "species = taxons[:, 0]\n",
    "genus = taxons[:, 1]\n",
    "family = taxons[:, 2]\n",
    "\n",
    "species, genus, family"
   ]
  },
  {
   "cell_type": "code",
   "execution_count": 12,
   "metadata": {},
   "outputs": [],
   "source": [
    "unique_species = sorted(list(set(species)))\n",
    "unique_genus = sorted(list(set(genus)))\n",
    "unique_family = sorted(list(set(family)))"
   ]
  },
  {
   "cell_type": "code",
   "execution_count": 13,
   "metadata": {},
   "outputs": [
    {
     "data": {
      "image/png": "[encoded data removed]",
      "text/plain": [
       "<Figure size 1000x800 with 1 Axes>"
      ]
     },
     "metadata": {},
     "output_type": "display_data"
    }
   ],
   "source": [
    "import matplotlib.pyplot as plt\n",
    "from collections import Counter\n",
    "\n",
    "species_counter = Counter(species)\n",
    "genus_counter = Counter(genus)\n",
    "family_counter = Counter(family)\n",
    "\n",
    "unique_species = len(species_counter)\n",
    "unique_genus = len(genus_counter)\n",
    "unique_family = len(family_counter)\n",
    "\n",
    "family_top = family_counter.most_common(50)\n",
    "genus_top = genus_counter.most_common(100)\n",
    "\n",
    "items, count = zip(*family_top)\n",
    "\n",
    "plt.figure(figsize=(10, 8))\n",
    "plt.bar(items, count, color='lightblue')\n",
    "plt.xlabel('Family')\n",
    "plt.ylabel('Frequency')\n",
    "plt.title('Top 50 Most Occurring Families')\n",
    "plt.xticks(rotation=90)\n",
    "plt.show()"
   ]
  },
  {
   "cell_type": "markdown",
   "metadata": {},
   "source": [
    "## Train evaluation results"
   ]
  },
  {
   "cell_type": "markdown",
   "metadata": {},
   "source": [
    "Correct captions: 9650\n",
    "\n",
    "Correct family: 312266\n",
    "\n",
    "Correct genus: 99588\n",
    "\n",
    "Correct species: 10433\n",
    "\n",
    "Total images: 839772"
   ]
  },
  {
   "cell_type": "code",
   "execution_count": null,
   "metadata": {},
   "outputs": [],
   "source": [
    "import json\n",
    "\n",
    "family_dict = {}\n",
    "genus_dict = {}\n",
    "species_dict = {}\n",
    "\n",
    "with open(\"evaluation_result/family_dict.json\", \"r\") as f:\n",
    "    family_dict = json.load(f)\n",
    "\n",
    "with open(\"evaluation_result/species_dict.json\", \"r\") as f:\n",
    "    # load the dictionary\n",
    "    species_dict = json.load(f)\n",
    "\n",
    "with open(\"evaluation_result/genus_dict.json\", \"r\") as f:\n",
    "    # load the dictionary\n",
    "    genus_dict = json.load(f)\n",
    "\n",
    "correct_species = {k: species_dict[k] / species_counter[k] for k in species_dict}\n",
    "correct_genus = {k: genus_dict[k] / genus_counter[k] for k in genus_dict}\n",
    "correct_family = {k: family_dict[k] / family_counter[k] for k in family_dict}"
   ]
  },
  {
   "cell_type": "code",
   "execution_count": 112,
   "metadata": {},
   "outputs": [],
   "source": [
    "def get_family_from_genus(genus):\n",
    "    try: \n",
    "        return categories_df[categories_df['genus'] == genus]['family'].values[0]\n",
    "    except IndexError:\n",
    "        return \"Unknown\"\n",
    "\n",
    "def get_genus_from_species(species):\n",
    "    return categories_df[categories_df['species'] == species]['genus'].values[0]\n",
    "\n",
    "def get_family_from_species_genus(species, genus):\n",
    "    return categories_df[(categories_df['species'] == species) & (categories_df['genus'] == genus)]['family'].values[0]"
   ]
  },
  {
   "cell_type": "code",
   "execution_count": 149,
   "metadata": {},
   "outputs": [],
   "source": [
    "colors = {'Rosaceae': '#636efa',\n",
    " 'Araceae': '#EF553B',\n",
    " 'Cyperaceae': '#00cc96',\n",
    " 'Pinaceae': '#ab63fa',\n",
    " 'Fagaceae': '#FFA15A',\n",
    " 'Pteridaceae': '#19d3f3',\n",
    " 'Amaryllidaceae': '#FF6692',\n",
    " 'Fabaceae': '#B6E880',\n",
    " 'Acoraceae': '#FF97FF',\n",
    " 'Brassicaceae': '#FECB52',\n",
    " 'Apiaceae': '#636efa',\n",
    " 'Plantaginaceae': '#EF553B',\n",
    " 'Euphorbiaceae': '#00cc96',\n",
    " 'Polygonaceae': '#ab63fa',\n",
    " 'Zygophyllaceae': '#FFA15A',\n",
    " 'Myricaceae': '#19d3f3',\n",
    " 'Ericaceae': '#FF6692',\n",
    " 'Asteraceae': '#B6E880',\n",
    " 'Typhaceae': '#FF97FF',\n",
    " 'Melanthiaceae': '#FECB52',\n",
    " 'Onagraceae': '#636efa',\n",
    " 'Iridaceae': '#EF553B',\n",
    " 'Polypodiaceae': '#00cc96',\n",
    " 'Amaranthaceae': '#ab63fa'}"
   ]
  },
  {
   "cell_type": "code",
   "execution_count": 151,
   "metadata": {},
   "outputs": [
    {
     "data": {
      "image/png": "[encoded data removed]",
      "text/plain": [
       "<Figure size 1000x800 with 1 Axes>"
      ]
     },
     "metadata": {},
     "output_type": "display_data"
    }
   ],
   "source": [
    "import plotly.express as px\n",
    "\n",
    "\n",
    "def plot_top_n(counter, n, title, taxon, horizontal=False, color='lightblue'):\n",
    "    try:\n",
    "        items, count = zip(*counter.most_common(n))\n",
    "    except AttributeError:\n",
    "        sorted_dict = dict(sorted(counter.items(), key=lambda x: x[1], reverse=True)[:n])\n",
    "\n",
    "        items, count = zip(*sorted_dict.items())\n",
    "\n",
    "    taxon = taxon.capitalize()\n",
    "\n",
    "    if taxon != \"Family\":\n",
    "\n",
    "        d = {\n",
    "            \"Genus\": get_family_from_genus,\n",
    "            \"Species\": get_genus_from_species\n",
    "        }\n",
    "\n",
    "        group = \"Family\" if taxon == \"Genus\" else \"Genus\"\n",
    "    \n",
    "        data = {\n",
    "            taxon: items,\n",
    "            'Count': count,\n",
    "            group: [d[taxon](it) for it in items], \n",
    "            \n",
    "        }\n",
    "\n",
    "        hover_data = [\"Family\"] if taxon == \"Species\" else []\n",
    "\n",
    "        if taxon == \"Species\":\n",
    "            data['Family'] = [get_family_from_species_genus(it, d[taxon](it)) for it in items]\n",
    "            hover_data = [\"Family\"]\n",
    "\n",
    "        df = pd.DataFrame(data)\n",
    "        fig = px.bar(df, x='Count', y=taxon, color=group, \n",
    "                    title=title, \n",
    "                    labels={'Count': 'Accuracy', taxon: taxon},\n",
    "                    hover_data=hover_data,\n",
    "                    )\n",
    "        fig.update_layout(barmode='stack', yaxis={'categoryorder':'total ascending'})\n",
    "\n",
    "    else:\n",
    "\n",
    "        color = [colors.get(it, 'lightblue') for it in items]\n",
    "        fig = plt.figure(figsize=(10, 8))\n",
    "        if horizontal:\n",
    "            plt.barh(items, count, color=color)\n",
    "            plt.xlabel('Accuracy')\n",
    "            plt.ylabel('Family')\n",
    "            plt.title(title)\n",
    "            \n",
    "        else:\n",
    "            plt.bar(items, count, color=color)\n",
    "            plt.xlabel('Family')\n",
    "            plt.ylabel('Accuracy')\n",
    "            plt.title(title)\n",
    "            plt.xticks(rotation=90)\n",
    "            \n",
    "    fig.show()\n",
    "\n",
    "    try: \n",
    "        color_mapping = {trace.name: trace.marker.color for trace in fig.data}\n",
    "    except AttributeError:\n",
    "        color_mapping = None\n",
    "\n",
    "    return color_mapping\n",
    "        \n",
    "plot_top_n(correct_family, 30, \"Top 30 Families By Accuracy\", \"family\", horizontal=True)"
   ]
  },
  {
   "cell_type": "code",
   "execution_count": 145,
   "metadata": {},
   "outputs": [
    {
     "data": {
      "application/vnd.plotly.v1+json": {
       "config": {
        "plotlyServerURL": "https://plot.ly"
       },
       "data": [
        {
         "alignmentgroup": "True",
         "hovertemplate": "Family=Rosaceae<br>Accuracy=%{x}<br>Genus=%{y}<extra></extra>",
         "legendgroup": "Rosaceae",
         "marker": {
          "color": "#636efa",
          "pattern": {
           "shape": ""
          }
         },
         "name": "Rosaceae",
         "offsetgroup": "Rosaceae",
         "orientation": "h",
         "showlegend": true,
         "textposition": "auto",
         "type": "bar",
         "x": [
          0.46319018404907975
         ],
         "xaxis": "x",
         "y": [
          "Crataegus"
         ],
         "yaxis": "y"
        },
        {
         "alignmentgroup": "True",
         "hovertemplate": "Family=Araceae<br>Accuracy=%{x}<br>Genus=%{y}<extra></extra>",
         "legendgroup": "Araceae",
         "marker": {
          "color": "#EF553B",
          "pattern": {
           "shape": ""
          }
         },
         "name": "Araceae",
         "offsetgroup": "Araceae",
         "orientation": "h",
         "showlegend": true,
         "textposition": "auto",
         "type": "bar",
         "x": [
          0.45,
          0.36541598694942906
         ],
         "xaxis": "x",
         "y": [
          "Lysichiton",
          "Anthurium"
         ],
         "yaxis": "y"
        },
        {
         "alignmentgroup": "True",
         "hovertemplate": "Family=Cyperaceae<br>Accuracy=%{x}<br>Genus=%{y}<extra></extra>",
         "legendgroup": "Cyperaceae",
         "marker": {
          "color": "#00cc96",
          "pattern": {
           "shape": ""
          }
         },
         "name": "Cyperaceae",
         "offsetgroup": "Cyperaceae",
         "orientation": "h",
         "showlegend": true,
         "textposition": "auto",
         "type": "bar",
         "x": [
          0.42076546902154144
         ],
         "xaxis": "x",
         "y": [
          "Carex"
         ],
         "yaxis": "y"
        },
        {
         "alignmentgroup": "True",
         "hovertemplate": "Family=Pinaceae<br>Accuracy=%{x}<br>Genus=%{y}<extra></extra>",
         "legendgroup": "Pinaceae",
         "marker": {
          "color": "#ab63fa",
          "pattern": {
           "shape": ""
          }
         },
         "name": "Pinaceae",
         "offsetgroup": "Pinaceae",
         "orientation": "h",
         "showlegend": true,
         "textposition": "auto",
         "type": "bar",
         "x": [
          0.41541284403669726
         ],
         "xaxis": "x",
         "y": [
          "Pinus"
         ],
         "yaxis": "y"
        },
        {
         "alignmentgroup": "True",
         "hovertemplate": "Family=Fagaceae<br>Accuracy=%{x}<br>Genus=%{y}<extra></extra>",
         "legendgroup": "Fagaceae",
         "marker": {
          "color": "#FFA15A",
          "pattern": {
           "shape": ""
          }
         },
         "name": "Fagaceae",
         "offsetgroup": "Fagaceae",
         "orientation": "h",
         "showlegend": true,
         "textposition": "auto",
         "type": "bar",
         "x": [
          0.4130019120458891
         ],
         "xaxis": "x",
         "y": [
          "Quercus"
         ],
         "yaxis": "y"
        },
        {
         "alignmentgroup": "True",
         "hovertemplate": "Family=Pteridaceae<br>Accuracy=%{x}<br>Genus=%{y}<extra></extra>",
         "legendgroup": "Pteridaceae",
         "marker": {
          "color": "#19d3f3",
          "pattern": {
           "shape": ""
          }
         },
         "name": "Pteridaceae",
         "offsetgroup": "Pteridaceae",
         "orientation": "h",
         "showlegend": true,
         "textposition": "auto",
         "type": "bar",
         "x": [
          0.401244167962675,
          0.3780039581566299
         ],
         "xaxis": "x",
         "y": [
          "Adiantum",
          "Hemionitis"
         ],
         "yaxis": "y"
        },
        {
         "alignmentgroup": "True",
         "hovertemplate": "Family=Amaryllidaceae<br>Accuracy=%{x}<br>Genus=%{y}<extra></extra>",
         "legendgroup": "Amaryllidaceae",
         "marker": {
          "color": "#FF6692",
          "pattern": {
           "shape": ""
          }
         },
         "name": "Amaryllidaceae",
         "offsetgroup": "Amaryllidaceae",
         "orientation": "h",
         "showlegend": true,
         "textposition": "auto",
         "type": "bar",
         "x": [
          0.3804347826086957,
          0.37076648841354726
         ],
         "xaxis": "x",
         "y": [
          "Hippeastrum",
          "Zephyranthes"
         ],
         "yaxis": "y"
        },
        {
         "alignmentgroup": "True",
         "hovertemplate": "Family=Fabaceae<br>Accuracy=%{x}<br>Genus=%{y}<extra></extra>",
         "legendgroup": "Fabaceae",
         "marker": {
          "color": "#B6E880",
          "pattern": {
           "shape": ""
          }
         },
         "name": "Fabaceae",
         "offsetgroup": "Fabaceae",
         "orientation": "h",
         "showlegend": true,
         "textposition": "auto",
         "type": "bar",
         "x": [
          0.37862032648762506,
          0.29850746268656714
         ],
         "xaxis": "x",
         "y": [
          "Astragalus",
          "Brownea"
         ],
         "yaxis": "y"
        },
        {
         "alignmentgroup": "True",
         "hovertemplate": "Family=Acoraceae<br>Accuracy=%{x}<br>Genus=%{y}<extra></extra>",
         "legendgroup": "Acoraceae",
         "marker": {
          "color": "#FF97FF",
          "pattern": {
           "shape": ""
          }
         },
         "name": "Acoraceae",
         "offsetgroup": "Acoraceae",
         "orientation": "h",
         "showlegend": true,
         "textposition": "auto",
         "type": "bar",
         "x": [
          0.36486486486486486
         ],
         "xaxis": "x",
         "y": [
          "Acorus"
         ],
         "yaxis": "y"
        },
        {
         "alignmentgroup": "True",
         "hovertemplate": "Family=Brassicaceae<br>Accuracy=%{x}<br>Genus=%{y}<extra></extra>",
         "legendgroup": "Brassicaceae",
         "marker": {
          "color": "#FECB52",
          "pattern": {
           "shape": ""
          }
         },
         "name": "Brassicaceae",
         "offsetgroup": "Brassicaceae",
         "orientation": "h",
         "showlegend": true,
         "textposition": "auto",
         "type": "bar",
         "x": [
          0.3547472838923004
         ],
         "xaxis": "x",
         "y": [
          "Boechera"
         ],
         "yaxis": "y"
        },
        {
         "alignmentgroup": "True",
         "hovertemplate": "Family=Apiaceae<br>Accuracy=%{x}<br>Genus=%{y}<extra></extra>",
         "legendgroup": "Apiaceae",
         "marker": {
          "color": "#636efa",
          "pattern": {
           "shape": ""
          }
         },
         "name": "Apiaceae",
         "offsetgroup": "Apiaceae",
         "orientation": "h",
         "showlegend": true,
         "textposition": "auto",
         "type": "bar",
         "x": [
          0.3484848484848485
         ],
         "xaxis": "x",
         "y": [
          "Spermolepis"
         ],
         "yaxis": "y"
        },
        {
         "alignmentgroup": "True",
         "hovertemplate": "Family=Plantaginaceae<br>Accuracy=%{x}<br>Genus=%{y}<extra></extra>",
         "legendgroup": "Plantaginaceae",
         "marker": {
          "color": "#EF553B",
          "pattern": {
           "shape": ""
          }
         },
         "name": "Plantaginaceae",
         "offsetgroup": "Plantaginaceae",
         "orientation": "h",
         "showlegend": true,
         "textposition": "auto",
         "type": "bar",
         "x": [
          0.3457082245430809
         ],
         "xaxis": "x",
         "y": [
          "Penstemon"
         ],
         "yaxis": "y"
        },
        {
         "alignmentgroup": "True",
         "hovertemplate": "Family=Euphorbiaceae<br>Accuracy=%{x}<br>Genus=%{y}<extra></extra>",
         "legendgroup": "Euphorbiaceae",
         "marker": {
          "color": "#00cc96",
          "pattern": {
           "shape": ""
          }
         },
         "name": "Euphorbiaceae",
         "offsetgroup": "Euphorbiaceae",
         "orientation": "h",
         "showlegend": true,
         "textposition": "auto",
         "type": "bar",
         "x": [
          0.3333333333333333
         ],
         "xaxis": "x",
         "y": [
          "Garcia"
         ],
         "yaxis": "y"
        },
        {
         "alignmentgroup": "True",
         "hovertemplate": "Family=Polygonaceae<br>Accuracy=%{x}<br>Genus=%{y}<extra></extra>",
         "legendgroup": "Polygonaceae",
         "marker": {
          "color": "#ab63fa",
          "pattern": {
           "shape": ""
          }
         },
         "name": "Polygonaceae",
         "offsetgroup": "Polygonaceae",
         "orientation": "h",
         "showlegend": true,
         "textposition": "auto",
         "type": "bar",
         "x": [
          0.3320659062103929
         ],
         "xaxis": "x",
         "y": [
          "Coccoloba"
         ],
         "yaxis": "y"
        },
        {
         "alignmentgroup": "True",
         "hovertemplate": "Family=Zygophyllaceae<br>Accuracy=%{x}<br>Genus=%{y}<extra></extra>",
         "legendgroup": "Zygophyllaceae",
         "marker": {
          "color": "#FFA15A",
          "pattern": {
           "shape": ""
          }
         },
         "name": "Zygophyllaceae",
         "offsetgroup": "Zygophyllaceae",
         "orientation": "h",
         "showlegend": true,
         "textposition": "auto",
         "type": "bar",
         "x": [
          0.32592592592592595
         ],
         "xaxis": "x",
         "y": [
          "Kallstroemia"
         ],
         "yaxis": "y"
        },
        {
         "alignmentgroup": "True",
         "hovertemplate": "Family=Myricaceae<br>Accuracy=%{x}<br>Genus=%{y}<extra></extra>",
         "legendgroup": "Myricaceae",
         "marker": {
          "color": "#19d3f3",
          "pattern": {
           "shape": ""
          }
         },
         "name": "Myricaceae",
         "offsetgroup": "Myricaceae",
         "orientation": "h",
         "showlegend": true,
         "textposition": "auto",
         "type": "bar",
         "x": [
          0.32532751091703055
         ],
         "xaxis": "x",
         "y": [
          "Myrica"
         ],
         "yaxis": "y"
        },
        {
         "alignmentgroup": "True",
         "hovertemplate": "Family=Ericaceae<br>Accuracy=%{x}<br>Genus=%{y}<extra></extra>",
         "legendgroup": "Ericaceae",
         "marker": {
          "color": "#FF6692",
          "pattern": {
           "shape": ""
          }
         },
         "name": "Ericaceae",
         "offsetgroup": "Ericaceae",
         "orientation": "h",
         "showlegend": true,
         "textposition": "auto",
         "type": "bar",
         "x": [
          0.32421875
         ],
         "xaxis": "x",
         "y": [
          "Arctostaphylos"
         ],
         "yaxis": "y"
        },
        {
         "alignmentgroup": "True",
         "hovertemplate": "Family=Asteraceae<br>Accuracy=%{x}<br>Genus=%{y}<extra></extra>",
         "legendgroup": "Asteraceae",
         "marker": {
          "color": "#B6E880",
          "pattern": {
           "shape": ""
          }
         },
         "name": "Asteraceae",
         "offsetgroup": "Asteraceae",
         "orientation": "h",
         "showlegend": true,
         "textposition": "auto",
         "type": "bar",
         "x": [
          0.3211642821904292
         ],
         "xaxis": "x",
         "y": [
          "Antennaria"
         ],
         "yaxis": "y"
        },
        {
         "alignmentgroup": "True",
         "hovertemplate": "Family=Typhaceae<br>Accuracy=%{x}<br>Genus=%{y}<extra></extra>",
         "legendgroup": "Typhaceae",
         "marker": {
          "color": "#FF97FF",
          "pattern": {
           "shape": ""
          }
         },
         "name": "Typhaceae",
         "offsetgroup": "Typhaceae",
         "orientation": "h",
         "showlegend": true,
         "textposition": "auto",
         "type": "bar",
         "x": [
          0.3210412147505423
         ],
         "xaxis": "x",
         "y": [
          "Sparganium"
         ],
         "yaxis": "y"
        },
        {
         "alignmentgroup": "True",
         "hovertemplate": "Family=Melanthiaceae<br>Accuracy=%{x}<br>Genus=%{y}<extra></extra>",
         "legendgroup": "Melanthiaceae",
         "marker": {
          "color": "#FECB52",
          "pattern": {
           "shape": ""
          }
         },
         "name": "Melanthiaceae",
         "offsetgroup": "Melanthiaceae",
         "orientation": "h",
         "showlegend": true,
         "textposition": "auto",
         "type": "bar",
         "x": [
          0.30666666666666664
         ],
         "xaxis": "x",
         "y": [
          "Helonias"
         ],
         "yaxis": "y"
        },
        {
         "alignmentgroup": "True",
         "hovertemplate": "Family=Onagraceae<br>Accuracy=%{x}<br>Genus=%{y}<extra></extra>",
         "legendgroup": "Onagraceae",
         "marker": {
          "color": "#636efa",
          "pattern": {
           "shape": ""
          }
         },
         "name": "Onagraceae",
         "offsetgroup": "Onagraceae",
         "orientation": "h",
         "showlegend": true,
         "textposition": "auto",
         "type": "bar",
         "x": [
          0.3033207042567417,
          0.2923076923076923
         ],
         "xaxis": "x",
         "y": [
          "Oenothera",
          "Fuchsia"
         ],
         "yaxis": "y"
        },
        {
         "alignmentgroup": "True",
         "hovertemplate": "Family=Iridaceae<br>Accuracy=%{x}<br>Genus=%{y}<extra></extra>",
         "legendgroup": "Iridaceae",
         "marker": {
          "color": "#EF553B",
          "pattern": {
           "shape": ""
          }
         },
         "name": "Iridaceae",
         "offsetgroup": "Iridaceae",
         "orientation": "h",
         "showlegend": true,
         "textposition": "auto",
         "type": "bar",
         "x": [
          0.30072666294019007
         ],
         "xaxis": "x",
         "y": [
          "Sisyrinchium"
         ],
         "yaxis": "y"
        },
        {
         "alignmentgroup": "True",
         "hovertemplate": "Family=Polypodiaceae<br>Accuracy=%{x}<br>Genus=%{y}<extra></extra>",
         "legendgroup": "Polypodiaceae",
         "marker": {
          "color": "#00cc96",
          "pattern": {
           "shape": ""
          }
         },
         "name": "Polypodiaceae",
         "offsetgroup": "Polypodiaceae",
         "orientation": "h",
         "showlegend": true,
         "textposition": "auto",
         "type": "bar",
         "x": [
          0.298932384341637,
          0.2907801418439716
         ],
         "xaxis": "x",
         "y": [
          "Pecluma",
          "Microgramma"
         ],
         "yaxis": "y"
        },
        {
         "alignmentgroup": "True",
         "hovertemplate": "Family=Amaranthaceae<br>Accuracy=%{x}<br>Genus=%{y}<extra></extra>",
         "legendgroup": "Amaranthaceae",
         "marker": {
          "color": "#ab63fa",
          "pattern": {
           "shape": ""
          }
         },
         "name": "Amaranthaceae",
         "offsetgroup": "Amaranthaceae",
         "orientation": "h",
         "showlegend": true,
         "textposition": "auto",
         "type": "bar",
         "x": [
          0.29036515618125824
         ],
         "xaxis": "x",
         "y": [
          "Atriplex"
         ],
         "yaxis": "y"
        }
       ],
       "layout": {
        "barmode": "stack",
        "legend": {
         "title": {
          "text": "Family"
         },
         "tracegroupgap": 0
        },
        "template": {
         "data": {
          "bar": [
           {
            "error_x": {
             "color": "#2a3f5f"
            },
            "error_y": {
             "color": "#2a3f5f"
            },
            "marker": {
             "line": {
              "color": "#E5ECF6",
              "width": 0.5
             },
             "pattern": {
              "fillmode": "overlay",
              "size": 10,
              "solidity": 0.2
             }
            },
            "type": "bar"
           }
          ],
          "barpolar": [
           {
            "marker": {
             "line": {
              "color": "#E5ECF6",
              "width": 0.5
             },
             "pattern": {
              "fillmode": "overlay",
              "size": 10,
              "solidity": 0.2
             }
            },
            "type": "barpolar"
           }
          ],
          "carpet": [
           {
            "aaxis": {
             "endlinecolor": "#2a3f5f",
             "gridcolor": "white",
             "linecolor": "white",
             "minorgridcolor": "white",
             "startlinecolor": "#2a3f5f"
            },
            "baxis": {
             "endlinecolor": "#2a3f5f",
             "gridcolor": "white",
             "linecolor": "white",
             "minorgridcolor": "white",
             "startlinecolor": "#2a3f5f"
            },
            "type": "carpet"
           }
          ],
          "choropleth": [
           {
            "colorbar": {
             "outlinewidth": 0,
             "ticks": ""
            },
            "type": "choropleth"
           }
          ],
          "contour": [
           {
            "colorbar": {
             "outlinewidth": 0,
             "ticks": ""
            },
            "colorscale": [
             [
              0,
              "#0d0887"
             ],
             [
              0.1111111111111111,
              "#46039f"
             ],
             [
              0.2222222222222222,
              "#7201a8"
             ],
             [
              0.3333333333333333,
              "#9c179e"
             ],
             [
              0.4444444444444444,
              "#bd3786"
             ],
             [
              0.5555555555555556,
              "#d8576b"
             ],
             [
              0.6666666666666666,
              "#ed7953"
             ],
             [
              0.7777777777777778,
              "#fb9f3a"
             ],
             [
              0.8888888888888888,
              "#fdca26"
             ],
             [
              1,
              "#f0f921"
             ]
            ],
            "type": "contour"
           }
          ],
          "contourcarpet": [
           {
            "colorbar": {
             "outlinewidth": 0,
             "ticks": ""
            },
            "type": "contourcarpet"
           }
          ],
          "heatmap": [
           {
            "colorbar": {
             "outlinewidth": 0,
             "ticks": ""
            },
            "colorscale": [
             [
              0,
              "#0d0887"
             ],
             [
              0.1111111111111111,
              "#46039f"
             ],
             [
              0.2222222222222222,
              "#7201a8"
             ],
             [
              0.3333333333333333,
              "#9c179e"
             ],
             [
              0.4444444444444444,
              "#bd3786"
             ],
             [
              0.5555555555555556,
              "#d8576b"
             ],
             [
              0.6666666666666666,
              "#ed7953"
             ],
             [
              0.7777777777777778,
              "#fb9f3a"
             ],
             [
              0.8888888888888888,
              "#fdca26"
             ],
             [
              1,
              "#f0f921"
             ]
            ],
            "type": "heatmap"
           }
          ],
          "heatmapgl": [
           {
            "colorbar": {
             "outlinewidth": 0,
             "ticks": ""
            },
            "colorscale": [
             [
              0,
              "#0d0887"
             ],
             [
              0.1111111111111111,
              "#46039f"
             ],
             [
              0.2222222222222222,
              "#7201a8"
             ],
             [
              0.3333333333333333,
              "#9c179e"
             ],
             [
              0.4444444444444444,
              "#bd3786"
             ],
             [
              0.5555555555555556,
              "#d8576b"
             ],
             [
              0.6666666666666666,
              "#ed7953"
             ],
             [
              0.7777777777777778,
              "#fb9f3a"
             ],
             [
              0.8888888888888888,
              "#fdca26"
             ],
             [
              1,
              "#f0f921"
             ]
            ],
            "type": "heatmapgl"
           }
          ],
          "histogram": [
           {
            "marker": {
             "pattern": {
              "fillmode": "overlay",
              "size": 10,
              "solidity": 0.2
             }
            },
            "type": "histogram"
           }
          ],
          "histogram2d": [
           {
            "colorbar": {
             "outlinewidth": 0,
             "ticks": ""
            },
            "colorscale": [
             [
              0,
              "#0d0887"
             ],
             [
              0.1111111111111111,
              "#46039f"
             ],
             [
              0.2222222222222222,
              "#7201a8"
             ],
             [
              0.3333333333333333,
              "#9c179e"
             ],
             [
              0.4444444444444444,
              "#bd3786"
             ],
             [
              0.5555555555555556,
              "#d8576b"
             ],
             [
              0.6666666666666666,
              "#ed7953"
             ],
             [
              0.7777777777777778,
              "#fb9f3a"
             ],
             [
              0.8888888888888888,
              "#fdca26"
             ],
             [
              1,
              "#f0f921"
             ]
            ],
            "type": "histogram2d"
           }
          ],
          "histogram2dcontour": [
           {
            "colorbar": {
             "outlinewidth": 0,
             "ticks": ""
            },
            "colorscale": [
             [
              0,
              "#0d0887"
             ],
             [
              0.1111111111111111,
              "#46039f"
             ],
             [
              0.2222222222222222,
              "#7201a8"
             ],
             [
              0.3333333333333333,
              "#9c179e"
             ],
             [
              0.4444444444444444,
              "#bd3786"
             ],
             [
              0.5555555555555556,
              "#d8576b"
             ],
             [
              0.6666666666666666,
              "#ed7953"
             ],
             [
              0.7777777777777778,
              "#fb9f3a"
             ],
             [
              0.8888888888888888,
              "#fdca26"
             ],
             [
              1,
              "#f0f921"
             ]
            ],
            "type": "histogram2dcontour"
           }
          ],
          "mesh3d": [
           {
            "colorbar": {
             "outlinewidth": 0,
             "ticks": ""
            },
            "type": "mesh3d"
           }
          ],
          "parcoords": [
           {
            "line": {
             "colorbar": {
              "outlinewidth": 0,
              "ticks": ""
             }
            },
            "type": "parcoords"
           }
          ],
          "pie": [
           {
            "automargin": true,
            "type": "pie"
           }
          ],
          "scatter": [
           {
            "fillpattern": {
             "fillmode": "overlay",
             "size": 10,
             "solidity": 0.2
            },
            "type": "scatter"
           }
          ],
          "scatter3d": [
           {
            "line": {
             "colorbar": {
              "outlinewidth": 0,
              "ticks": ""
             }
            },
            "marker": {
             "colorbar": {
              "outlinewidth": 0,
              "ticks": ""
             }
            },
            "type": "scatter3d"
           }
          ],
          "scattercarpet": [
           {
            "marker": {
             "colorbar": {
              "outlinewidth": 0,
              "ticks": ""
             }
            },
            "type": "scattercarpet"
           }
          ],
          "scattergeo": [
           {
            "marker": {
             "colorbar": {
              "outlinewidth": 0,
              "ticks": ""
             }
            },
            "type": "scattergeo"
           }
          ],
          "scattergl": [
           {
            "marker": {
             "colorbar": {
              "outlinewidth": 0,
              "ticks": ""
             }
            },
            "type": "scattergl"
           }
          ],
          "scattermapbox": [
           {
            "marker": {
             "colorbar": {
              "outlinewidth": 0,
              "ticks": ""
             }
            },
            "type": "scattermapbox"
           }
          ],
          "scatterpolar": [
           {
            "marker": {
             "colorbar": {
              "outlinewidth": 0,
              "ticks": ""
             }
            },
            "type": "scatterpolar"
           }
          ],
          "scatterpolargl": [
           {
            "marker": {
             "colorbar": {
              "outlinewidth": 0,
              "ticks": ""
             }
            },
            "type": "scatterpolargl"
           }
          ],
          "scatterternary": [
           {
            "marker": {
             "colorbar": {
              "outlinewidth": 0,
              "ticks": ""
             }
            },
            "type": "scatterternary"
           }
          ],
          "surface": [
           {
            "colorbar": {
             "outlinewidth": 0,
             "ticks": ""
            },
            "colorscale": [
             [
              0,
              "#0d0887"
             ],
             [
              0.1111111111111111,
              "#46039f"
             ],
             [
              0.2222222222222222,
              "#7201a8"
             ],
             [
              0.3333333333333333,
              "#9c179e"
             ],
             [
              0.4444444444444444,
              "#bd3786"
             ],
             [
              0.5555555555555556,
              "#d8576b"
             ],
             [
              0.6666666666666666,
              "#ed7953"
             ],
             [
              0.7777777777777778,
              "#fb9f3a"
             ],
             [
              0.8888888888888888,
              "#fdca26"
             ],
             [
              1,
              "#f0f921"
             ]
            ],
            "type": "surface"
           }
          ],
          "table": [
           {
            "cells": {
             "fill": {
              "color": "#EBF0F8"
             },
             "line": {
              "color": "white"
             }
            },
            "header": {
             "fill": {
              "color": "#C8D4E3"
             },
             "line": {
              "color": "white"
             }
            },
            "type": "table"
           }
          ]
         },
         "layout": {
          "annotationdefaults": {
           "arrowcolor": "#2a3f5f",
           "arrowhead": 0,
           "arrowwidth": 1
          },
          "autotypenumbers": "strict",
          "coloraxis": {
           "colorbar": {
            "outlinewidth": 0,
            "ticks": ""
           }
          },
          "colorscale": {
           "diverging": [
            [
             0,
             "#8e0152"
            ],
            [
             0.1,
             "#c51b7d"
            ],
            [
             0.2,
             "#de77ae"
            ],
            [
             0.3,
             "#f1b6da"
            ],
            [
             0.4,
             "#fde0ef"
            ],
            [
             0.5,
             "#f7f7f7"
            ],
            [
             0.6,
             "#e6f5d0"
            ],
            [
             0.7,
             "#b8e186"
            ],
            [
             0.8,
             "#7fbc41"
            ],
            [
             0.9,
             "#4d9221"
            ],
            [
             1,
             "#276419"
            ]
           ],
           "sequential": [
            [
             0,
             "#0d0887"
            ],
            [
             0.1111111111111111,
             "#46039f"
            ],
            [
             0.2222222222222222,
             "#7201a8"
            ],
            [
             0.3333333333333333,
             "#9c179e"
            ],
            [
             0.4444444444444444,
             "#bd3786"
            ],
            [
             0.5555555555555556,
             "#d8576b"
            ],
            [
             0.6666666666666666,
             "#ed7953"
            ],
            [
             0.7777777777777778,
             "#fb9f3a"
            ],
            [
             0.8888888888888888,
             "#fdca26"
            ],
            [
             1,
             "#f0f921"
            ]
           ],
           "sequentialminus": [
            [
             0,
             "#0d0887"
            ],
            [
             0.1111111111111111,
             "#46039f"
            ],
            [
             0.2222222222222222,
             "#7201a8"
            ],
            [
             0.3333333333333333,
             "#9c179e"
            ],
            [
             0.4444444444444444,
             "#bd3786"
            ],
            [
             0.5555555555555556,
             "#d8576b"
            ],
            [
             0.6666666666666666,
             "#ed7953"
            ],
            [
             0.7777777777777778,
             "#fb9f3a"
            ],
            [
             0.8888888888888888,
             "#fdca26"
            ],
            [
             1,
             "#f0f921"
            ]
           ]
          },
          "colorway": [
           "#636efa",
           "#EF553B",
           "#00cc96",
           "#ab63fa",
           "#FFA15A",
           "#19d3f3",
           "#FF6692",
           "#B6E880",
           "#FF97FF",
           "#FECB52"
          ],
          "font": {
           "color": "#2a3f5f"
          },
          "geo": {
           "bgcolor": "white",
           "lakecolor": "white",
           "landcolor": "#E5ECF6",
           "showlakes": true,
           "showland": true,
           "subunitcolor": "white"
          },
          "hoverlabel": {
           "align": "left"
          },
          "hovermode": "closest",
          "mapbox": {
           "style": "light"
          },
          "paper_bgcolor": "white",
          "plot_bgcolor": "#E5ECF6",
          "polar": {
           "angularaxis": {
            "gridcolor": "white",
            "linecolor": "white",
            "ticks": ""
           },
           "bgcolor": "#E5ECF6",
           "radialaxis": {
            "gridcolor": "white",
            "linecolor": "white",
            "ticks": ""
           }
          },
          "scene": {
           "xaxis": {
            "backgroundcolor": "#E5ECF6",
            "gridcolor": "white",
            "gridwidth": 2,
            "linecolor": "white",
            "showbackground": true,
            "ticks": "",
            "zerolinecolor": "white"
           },
           "yaxis": {
            "backgroundcolor": "#E5ECF6",
            "gridcolor": "white",
            "gridwidth": 2,
            "linecolor": "white",
            "showbackground": true,
            "ticks": "",
            "zerolinecolor": "white"
           },
           "zaxis": {
            "backgroundcolor": "#E5ECF6",
            "gridcolor": "white",
            "gridwidth": 2,
            "linecolor": "white",
            "showbackground": true,
            "ticks": "",
            "zerolinecolor": "white"
           }
          },
          "shapedefaults": {
           "line": {
            "color": "#2a3f5f"
           }
          },
          "ternary": {
           "aaxis": {
            "gridcolor": "white",
            "linecolor": "white",
            "ticks": ""
           },
           "baxis": {
            "gridcolor": "white",
            "linecolor": "white",
            "ticks": ""
           },
           "bgcolor": "#E5ECF6",
           "caxis": {
            "gridcolor": "white",
            "linecolor": "white",
            "ticks": ""
           }
          },
          "title": {
           "x": 0.05
          },
          "xaxis": {
           "automargin": true,
           "gridcolor": "white",
           "linecolor": "white",
           "ticks": "",
           "title": {
            "standoff": 15
           },
           "zerolinecolor": "white",
           "zerolinewidth": 2
          },
          "yaxis": {
           "automargin": true,
           "gridcolor": "white",
           "linecolor": "white",
           "ticks": "",
           "title": {
            "standoff": 15
           },
           "zerolinecolor": "white",
           "zerolinewidth": 2
          }
         }
        },
        "title": {
         "text": "Top 30 Genus By Accuracy"
        },
        "xaxis": {
         "anchor": "y",
         "domain": [
          0,
          1
         ],
         "title": {
          "text": "Accuracy"
         }
        },
        "yaxis": {
         "anchor": "x",
         "categoryorder": "total ascending",
         "domain": [
          0,
          1
         ],
         "title": {
          "text": "Genus"
         }
        }
       }
      },
      "text/html": [
       "<div>                            <div id=\"afd9f0bd-a210-4fbe-8a20-3432779e33c9\" class=\"plotly-graph-div\" style=\"height:525px; width:100%;\"></div>            <script type=\"text/javascript\">                require([\"plotly\"], function(Plotly) {                    window.PLOTLYENV=window.PLOTLYENV || {};                                    if (document.getElementById(\"afd9f0bd-a210-4fbe-8a20-3432779e33c9\")) {                    Plotly.newPlot(                        \"afd9f0bd-a210-4fbe-8a20-3432779e33c9\",                        [{\"alignmentgroup\":\"True\",\"hovertemplate\":\"Family=Rosaceae\\u003cbr\\u003eAccuracy=%{x}\\u003cbr\\u003eGenus=%{y}\\u003cextra\\u003e\\u003c\\u002fextra\\u003e\",\"legendgroup\":\"Rosaceae\",\"marker\":{\"color\":\"#636efa\",\"pattern\":{\"shape\":\"\"}},\"name\":\"Rosaceae\",\"offsetgroup\":\"Rosaceae\",\"orientation\":\"h\",\"showlegend\":true,\"textposition\":\"auto\",\"x\":[0.46319018404907975],\"xaxis\":\"x\",\"y\":[\"Crataegus\"],\"yaxis\":\"y\",\"type\":\"bar\"},{\"alignmentgroup\":\"True\",\"hovertemplate\":\"Family=Araceae\\u003cbr\\u003eAccuracy=%{x}\\u003cbr\\u003eGenus=%{y}\\u003cextra\\u003e\\u003c\\u002fextra\\u003e\",\"legendgroup\":\"Araceae\",\"marker\":{\"color\":\"#EF553B\",\"pattern\":{\"shape\":\"\"}},\"name\":\"Araceae\",\"offsetgroup\":\"Araceae\",\"orientation\":\"h\",\"showlegend\":true,\"textposition\":\"auto\",\"x\":[0.45,0.36541598694942906],\"xaxis\":\"x\",\"y\":[\"Lysichiton\",\"Anthurium\"],\"yaxis\":\"y\",\"type\":\"bar\"},{\"alignmentgroup\":\"True\",\"hovertemplate\":\"Family=Cyperaceae\\u003cbr\\u003eAccuracy=%{x}\\u003cbr\\u003eGenus=%{y}\\u003cextra\\u003e\\u003c\\u002fextra\\u003e\",\"legendgroup\":\"Cyperaceae\",\"marker\":{\"color\":\"#00cc96\",\"pattern\":{\"shape\":\"\"}},\"name\":\"Cyperaceae\",\"offsetgroup\":\"Cyperaceae\",\"orientation\":\"h\",\"showlegend\":true,\"textposition\":\"auto\",\"x\":[0.42076546902154144],\"xaxis\":\"x\",\"y\":[\"Carex\"],\"yaxis\":\"y\",\"type\":\"bar\"},{\"alignmentgroup\":\"True\",\"hovertemplate\":\"Family=Pinaceae\\u003cbr\\u003eAccuracy=%{x}\\u003cbr\\u003eGenus=%{y}\\u003cextra\\u003e\\u003c\\u002fextra\\u003e\",\"legendgroup\":\"Pinaceae\",\"marker\":{\"color\":\"#ab63fa\",\"pattern\":{\"shape\":\"\"}},\"name\":\"Pinaceae\",\"offsetgroup\":\"Pinaceae\",\"orientation\":\"h\",\"showlegend\":true,\"textposition\":\"auto\",\"x\":[0.41541284403669726],\"xaxis\":\"x\",\"y\":[\"Pinus\"],\"yaxis\":\"y\",\"type\":\"bar\"},{\"alignmentgroup\":\"True\",\"hovertemplate\":\"Family=Fagaceae\\u003cbr\\u003eAccuracy=%{x}\\u003cbr\\u003eGenus=%{y}\\u003cextra\\u003e\\u003c\\u002fextra\\u003e\",\"legendgroup\":\"Fagaceae\",\"marker\":{\"color\":\"#FFA15A\",\"pattern\":{\"shape\":\"\"}},\"name\":\"Fagaceae\",\"offsetgroup\":\"Fagaceae\",\"orientation\":\"h\",\"showlegend\":true,\"textposition\":\"auto\",\"x\":[0.4130019120458891],\"xaxis\":\"x\",\"y\":[\"Quercus\"],\"yaxis\":\"y\",\"type\":\"bar\"},{\"alignmentgroup\":\"True\",\"hovertemplate\":\"Family=Pteridaceae\\u003cbr\\u003eAccuracy=%{x}\\u003cbr\\u003eGenus=%{y}\\u003cextra\\u003e\\u003c\\u002fextra\\u003e\",\"legendgroup\":\"Pteridaceae\",\"marker\":{\"color\":\"#19d3f3\",\"pattern\":{\"shape\":\"\"}},\"name\":\"Pteridaceae\",\"offsetgroup\":\"Pteridaceae\",\"orientation\":\"h\",\"showlegend\":true,\"textposition\":\"auto\",\"x\":[0.401244167962675,0.3780039581566299],\"xaxis\":\"x\",\"y\":[\"Adiantum\",\"Hemionitis\"],\"yaxis\":\"y\",\"type\":\"bar\"},{\"alignmentgroup\":\"True\",\"hovertemplate\":\"Family=Amaryllidaceae\\u003cbr\\u003eAccuracy=%{x}\\u003cbr\\u003eGenus=%{y}\\u003cextra\\u003e\\u003c\\u002fextra\\u003e\",\"legendgroup\":\"Amaryllidaceae\",\"marker\":{\"color\":\"#FF6692\",\"pattern\":{\"shape\":\"\"}},\"name\":\"Amaryllidaceae\",\"offsetgroup\":\"Amaryllidaceae\",\"orientation\":\"h\",\"showlegend\":true,\"textposition\":\"auto\",\"x\":[0.3804347826086957,0.37076648841354726],\"xaxis\":\"x\",\"y\":[\"Hippeastrum\",\"Zephyranthes\"],\"yaxis\":\"y\",\"type\":\"bar\"},{\"alignmentgroup\":\"True\",\"hovertemplate\":\"Family=Fabaceae\\u003cbr\\u003eAccuracy=%{x}\\u003cbr\\u003eGenus=%{y}\\u003cextra\\u003e\\u003c\\u002fextra\\u003e\",\"legendgroup\":\"Fabaceae\",\"marker\":{\"color\":\"#B6E880\",\"pattern\":{\"shape\":\"\"}},\"name\":\"Fabaceae\",\"offsetgroup\":\"Fabaceae\",\"orientation\":\"h\",\"showlegend\":true,\"textposition\":\"auto\",\"x\":[0.37862032648762506,0.29850746268656714],\"xaxis\":\"x\",\"y\":[\"Astragalus\",\"Brownea\"],\"yaxis\":\"y\",\"type\":\"bar\"},{\"alignmentgroup\":\"True\",\"hovertemplate\":\"Family=Acoraceae\\u003cbr\\u003eAccuracy=%{x}\\u003cbr\\u003eGenus=%{y}\\u003cextra\\u003e\\u003c\\u002fextra\\u003e\",\"legendgroup\":\"Acoraceae\",\"marker\":{\"color\":\"#FF97FF\",\"pattern\":{\"shape\":\"\"}},\"name\":\"Acoraceae\",\"offsetgroup\":\"Acoraceae\",\"orientation\":\"h\",\"showlegend\":true,\"textposition\":\"auto\",\"x\":[0.36486486486486486],\"xaxis\":\"x\",\"y\":[\"Acorus\"],\"yaxis\":\"y\",\"type\":\"bar\"},{\"alignmentgroup\":\"True\",\"hovertemplate\":\"Family=Brassicaceae\\u003cbr\\u003eAccuracy=%{x}\\u003cbr\\u003eGenus=%{y}\\u003cextra\\u003e\\u003c\\u002fextra\\u003e\",\"legendgroup\":\"Brassicaceae\",\"marker\":{\"color\":\"#FECB52\",\"pattern\":{\"shape\":\"\"}},\"name\":\"Brassicaceae\",\"offsetgroup\":\"Brassicaceae\",\"orientation\":\"h\",\"showlegend\":true,\"textposition\":\"auto\",\"x\":[0.3547472838923004],\"xaxis\":\"x\",\"y\":[\"Boechera\"],\"yaxis\":\"y\",\"type\":\"bar\"},{\"alignmentgroup\":\"True\",\"hovertemplate\":\"Family=Apiaceae\\u003cbr\\u003eAccuracy=%{x}\\u003cbr\\u003eGenus=%{y}\\u003cextra\\u003e\\u003c\\u002fextra\\u003e\",\"legendgroup\":\"Apiaceae\",\"marker\":{\"color\":\"#636efa\",\"pattern\":{\"shape\":\"\"}},\"name\":\"Apiaceae\",\"offsetgroup\":\"Apiaceae\",\"orientation\":\"h\",\"showlegend\":true,\"textposition\":\"auto\",\"x\":[0.3484848484848485],\"xaxis\":\"x\",\"y\":[\"Spermolepis\"],\"yaxis\":\"y\",\"type\":\"bar\"},{\"alignmentgroup\":\"True\",\"hovertemplate\":\"Family=Plantaginaceae\\u003cbr\\u003eAccuracy=%{x}\\u003cbr\\u003eGenus=%{y}\\u003cextra\\u003e\\u003c\\u002fextra\\u003e\",\"legendgroup\":\"Plantaginaceae\",\"marker\":{\"color\":\"#EF553B\",\"pattern\":{\"shape\":\"\"}},\"name\":\"Plantaginaceae\",\"offsetgroup\":\"Plantaginaceae\",\"orientation\":\"h\",\"showlegend\":true,\"textposition\":\"auto\",\"x\":[0.3457082245430809],\"xaxis\":\"x\",\"y\":[\"Penstemon\"],\"yaxis\":\"y\",\"type\":\"bar\"},{\"alignmentgroup\":\"True\",\"hovertemplate\":\"Family=Euphorbiaceae\\u003cbr\\u003eAccuracy=%{x}\\u003cbr\\u003eGenus=%{y}\\u003cextra\\u003e\\u003c\\u002fextra\\u003e\",\"legendgroup\":\"Euphorbiaceae\",\"marker\":{\"color\":\"#00cc96\",\"pattern\":{\"shape\":\"\"}},\"name\":\"Euphorbiaceae\",\"offsetgroup\":\"Euphorbiaceae\",\"orientation\":\"h\",\"showlegend\":true,\"textposition\":\"auto\",\"x\":[0.3333333333333333],\"xaxis\":\"x\",\"y\":[\"Garcia\"],\"yaxis\":\"y\",\"type\":\"bar\"},{\"alignmentgroup\":\"True\",\"hovertemplate\":\"Family=Polygonaceae\\u003cbr\\u003eAccuracy=%{x}\\u003cbr\\u003eGenus=%{y}\\u003cextra\\u003e\\u003c\\u002fextra\\u003e\",\"legendgroup\":\"Polygonaceae\",\"marker\":{\"color\":\"#ab63fa\",\"pattern\":{\"shape\":\"\"}},\"name\":\"Polygonaceae\",\"offsetgroup\":\"Polygonaceae\",\"orientation\":\"h\",\"showlegend\":true,\"textposition\":\"auto\",\"x\":[0.3320659062103929],\"xaxis\":\"x\",\"y\":[\"Coccoloba\"],\"yaxis\":\"y\",\"type\":\"bar\"},{\"alignmentgroup\":\"True\",\"hovertemplate\":\"Family=Zygophyllaceae\\u003cbr\\u003eAccuracy=%{x}\\u003cbr\\u003eGenus=%{y}\\u003cextra\\u003e\\u003c\\u002fextra\\u003e\",\"legendgroup\":\"Zygophyllaceae\",\"marker\":{\"color\":\"#FFA15A\",\"pattern\":{\"shape\":\"\"}},\"name\":\"Zygophyllaceae\",\"offsetgroup\":\"Zygophyllaceae\",\"orientation\":\"h\",\"showlegend\":true,\"textposition\":\"auto\",\"x\":[0.32592592592592595],\"xaxis\":\"x\",\"y\":[\"Kallstroemia\"],\"yaxis\":\"y\",\"type\":\"bar\"},{\"alignmentgroup\":\"True\",\"hovertemplate\":\"Family=Myricaceae\\u003cbr\\u003eAccuracy=%{x}\\u003cbr\\u003eGenus=%{y}\\u003cextra\\u003e\\u003c\\u002fextra\\u003e\",\"legendgroup\":\"Myricaceae\",\"marker\":{\"color\":\"#19d3f3\",\"pattern\":{\"shape\":\"\"}},\"name\":\"Myricaceae\",\"offsetgroup\":\"Myricaceae\",\"orientation\":\"h\",\"showlegend\":true,\"textposition\":\"auto\",\"x\":[0.32532751091703055],\"xaxis\":\"x\",\"y\":[\"Myrica\"],\"yaxis\":\"y\",\"type\":\"bar\"},{\"alignmentgroup\":\"True\",\"hovertemplate\":\"Family=Ericaceae\\u003cbr\\u003eAccuracy=%{x}\\u003cbr\\u003eGenus=%{y}\\u003cextra\\u003e\\u003c\\u002fextra\\u003e\",\"legendgroup\":\"Ericaceae\",\"marker\":{\"color\":\"#FF6692\",\"pattern\":{\"shape\":\"\"}},\"name\":\"Ericaceae\",\"offsetgroup\":\"Ericaceae\",\"orientation\":\"h\",\"showlegend\":true,\"textposition\":\"auto\",\"x\":[0.32421875],\"xaxis\":\"x\",\"y\":[\"Arctostaphylos\"],\"yaxis\":\"y\",\"type\":\"bar\"},{\"alignmentgroup\":\"True\",\"hovertemplate\":\"Family=Asteraceae\\u003cbr\\u003eAccuracy=%{x}\\u003cbr\\u003eGenus=%{y}\\u003cextra\\u003e\\u003c\\u002fextra\\u003e\",\"legendgroup\":\"Asteraceae\",\"marker\":{\"color\":\"#B6E880\",\"pattern\":{\"shape\":\"\"}},\"name\":\"Asteraceae\",\"offsetgroup\":\"Asteraceae\",\"orientation\":\"h\",\"showlegend\":true,\"textposition\":\"auto\",\"x\":[0.3211642821904292],\"xaxis\":\"x\",\"y\":[\"Antennaria\"],\"yaxis\":\"y\",\"type\":\"bar\"},{\"alignmentgroup\":\"True\",\"hovertemplate\":\"Family=Typhaceae\\u003cbr\\u003eAccuracy=%{x}\\u003cbr\\u003eGenus=%{y}\\u003cextra\\u003e\\u003c\\u002fextra\\u003e\",\"legendgroup\":\"Typhaceae\",\"marker\":{\"color\":\"#FF97FF\",\"pattern\":{\"shape\":\"\"}},\"name\":\"Typhaceae\",\"offsetgroup\":\"Typhaceae\",\"orientation\":\"h\",\"showlegend\":true,\"textposition\":\"auto\",\"x\":[0.3210412147505423],\"xaxis\":\"x\",\"y\":[\"Sparganium\"],\"yaxis\":\"y\",\"type\":\"bar\"},{\"alignmentgroup\":\"True\",\"hovertemplate\":\"Family=Melanthiaceae\\u003cbr\\u003eAccuracy=%{x}\\u003cbr\\u003eGenus=%{y}\\u003cextra\\u003e\\u003c\\u002fextra\\u003e\",\"legendgroup\":\"Melanthiaceae\",\"marker\":{\"color\":\"#FECB52\",\"pattern\":{\"shape\":\"\"}},\"name\":\"Melanthiaceae\",\"offsetgroup\":\"Melanthiaceae\",\"orientation\":\"h\",\"showlegend\":true,\"textposition\":\"auto\",\"x\":[0.30666666666666664],\"xaxis\":\"x\",\"y\":[\"Helonias\"],\"yaxis\":\"y\",\"type\":\"bar\"},{\"alignmentgroup\":\"True\",\"hovertemplate\":\"Family=Onagraceae\\u003cbr\\u003eAccuracy=%{x}\\u003cbr\\u003eGenus=%{y}\\u003cextra\\u003e\\u003c\\u002fextra\\u003e\",\"legendgroup\":\"Onagraceae\",\"marker\":{\"color\":\"#636efa\",\"pattern\":{\"shape\":\"\"}},\"name\":\"Onagraceae\",\"offsetgroup\":\"Onagraceae\",\"orientation\":\"h\",\"showlegend\":true,\"textposition\":\"auto\",\"x\":[0.3033207042567417,0.2923076923076923],\"xaxis\":\"x\",\"y\":[\"Oenothera\",\"Fuchsia\"],\"yaxis\":\"y\",\"type\":\"bar\"},{\"alignmentgroup\":\"True\",\"hovertemplate\":\"Family=Iridaceae\\u003cbr\\u003eAccuracy=%{x}\\u003cbr\\u003eGenus=%{y}\\u003cextra\\u003e\\u003c\\u002fextra\\u003e\",\"legendgroup\":\"Iridaceae\",\"marker\":{\"color\":\"#EF553B\",\"pattern\":{\"shape\":\"\"}},\"name\":\"Iridaceae\",\"offsetgroup\":\"Iridaceae\",\"orientation\":\"h\",\"showlegend\":true,\"textposition\":\"auto\",\"x\":[0.30072666294019007],\"xaxis\":\"x\",\"y\":[\"Sisyrinchium\"],\"yaxis\":\"y\",\"type\":\"bar\"},{\"alignmentgroup\":\"True\",\"hovertemplate\":\"Family=Polypodiaceae\\u003cbr\\u003eAccuracy=%{x}\\u003cbr\\u003eGenus=%{y}\\u003cextra\\u003e\\u003c\\u002fextra\\u003e\",\"legendgroup\":\"Polypodiaceae\",\"marker\":{\"color\":\"#00cc96\",\"pattern\":{\"shape\":\"\"}},\"name\":\"Polypodiaceae\",\"offsetgroup\":\"Polypodiaceae\",\"orientation\":\"h\",\"showlegend\":true,\"textposition\":\"auto\",\"x\":[0.298932384341637,0.2907801418439716],\"xaxis\":\"x\",\"y\":[\"Pecluma\",\"Microgramma\"],\"yaxis\":\"y\",\"type\":\"bar\"},{\"alignmentgroup\":\"True\",\"hovertemplate\":\"Family=Amaranthaceae\\u003cbr\\u003eAccuracy=%{x}\\u003cbr\\u003eGenus=%{y}\\u003cextra\\u003e\\u003c\\u002fextra\\u003e\",\"legendgroup\":\"Amaranthaceae\",\"marker\":{\"color\":\"#ab63fa\",\"pattern\":{\"shape\":\"\"}},\"name\":\"Amaranthaceae\",\"offsetgroup\":\"Amaranthaceae\",\"orientation\":\"h\",\"showlegend\":true,\"textposition\":\"auto\",\"x\":[0.29036515618125824],\"xaxis\":\"x\",\"y\":[\"Atriplex\"],\"yaxis\":\"y\",\"type\":\"bar\"}],                        {\"template\":{\"data\":{\"histogram2dcontour\":[{\"type\":\"histogram2dcontour\",\"colorbar\":{\"outlinewidth\":0,\"ticks\":\"\"},\"colorscale\":[[0.0,\"#0d0887\"],[0.1111111111111111,\"#46039f\"],[0.2222222222222222,\"#7201a8\"],[0.3333333333333333,\"#9c179e\"],[0.4444444444444444,\"#bd3786\"],[0.5555555555555556,\"#d8576b\"],[0.6666666666666666,\"#ed7953\"],[0.7777777777777778,\"#fb9f3a\"],[0.8888888888888888,\"#fdca26\"],[1.0,\"#f0f921\"]]}],\"choropleth\":[{\"type\":\"choropleth\",\"colorbar\":{\"outlinewidth\":0,\"ticks\":\"\"}}],\"histogram2d\":[{\"type\":\"histogram2d\",\"colorbar\":{\"outlinewidth\":0,\"ticks\":\"\"},\"colorscale\":[[0.0,\"#0d0887\"],[0.1111111111111111,\"#46039f\"],[0.2222222222222222,\"#7201a8\"],[0.3333333333333333,\"#9c179e\"],[0.4444444444444444,\"#bd3786\"],[0.5555555555555556,\"#d8576b\"],[0.6666666666666666,\"#ed7953\"],[0.7777777777777778,\"#fb9f3a\"],[0.8888888888888888,\"#fdca26\"],[1.0,\"#f0f921\"]]}],\"heatmap\":[{\"type\":\"heatmap\",\"colorbar\":{\"outlinewidth\":0,\"ticks\":\"\"},\"colorscale\":[[0.0,\"#0d0887\"],[0.1111111111111111,\"#46039f\"],[0.2222222222222222,\"#7201a8\"],[0.3333333333333333,\"#9c179e\"],[0.4444444444444444,\"#bd3786\"],[0.5555555555555556,\"#d8576b\"],[0.6666666666666666,\"#ed7953\"],[0.7777777777777778,\"#fb9f3a\"],[0.8888888888888888,\"#fdca26\"],[1.0,\"#f0f921\"]]}],\"heatmapgl\":[{\"type\":\"heatmapgl\",\"colorbar\":{\"outlinewidth\":0,\"ticks\":\"\"},\"colorscale\":[[0.0,\"#0d0887\"],[0.1111111111111111,\"#46039f\"],[0.2222222222222222,\"#7201a8\"],[0.3333333333333333,\"#9c179e\"],[0.4444444444444444,\"#bd3786\"],[0.5555555555555556,\"#d8576b\"],[0.6666666666666666,\"#ed7953\"],[0.7777777777777778,\"#fb9f3a\"],[0.8888888888888888,\"#fdca26\"],[1.0,\"#f0f921\"]]}],\"contourcarpet\":[{\"type\":\"contourcarpet\",\"colorbar\":{\"outlinewidth\":0,\"ticks\":\"\"}}],\"contour\":[{\"type\":\"contour\",\"colorbar\":{\"outlinewidth\":0,\"ticks\":\"\"},\"colorscale\":[[0.0,\"#0d0887\"],[0.1111111111111111,\"#46039f\"],[0.2222222222222222,\"#7201a8\"],[0.3333333333333333,\"#9c179e\"],[0.4444444444444444,\"#bd3786\"],[0.5555555555555556,\"#d8576b\"],[0.6666666666666666,\"#ed7953\"],[0.7777777777777778,\"#fb9f3a\"],[0.8888888888888888,\"#fdca26\"],[1.0,\"#f0f921\"]]}],\"surface\":[{\"type\":\"surface\",\"colorbar\":{\"outlinewidth\":0,\"ticks\":\"\"},\"colorscale\":[[0.0,\"#0d0887\"],[0.1111111111111111,\"#46039f\"],[0.2222222222222222,\"#7201a8\"],[0.3333333333333333,\"#9c179e\"],[0.4444444444444444,\"#bd3786\"],[0.5555555555555556,\"#d8576b\"],[0.6666666666666666,\"#ed7953\"],[0.7777777777777778,\"#fb9f3a\"],[0.8888888888888888,\"#fdca26\"],[1.0,\"#f0f921\"]]}],\"mesh3d\":[{\"type\":\"mesh3d\",\"colorbar\":{\"outlinewidth\":0,\"ticks\":\"\"}}],\"scatter\":[{\"fillpattern\":{\"fillmode\":\"overlay\",\"size\":10,\"solidity\":0.2},\"type\":\"scatter\"}],\"parcoords\":[{\"type\":\"parcoords\",\"line\":{\"colorbar\":{\"outlinewidth\":0,\"ticks\":\"\"}}}],\"scatterpolargl\":[{\"type\":\"scatterpolargl\",\"marker\":{\"colorbar\":{\"outlinewidth\":0,\"ticks\":\"\"}}}],\"bar\":[{\"error_x\":{\"color\":\"#2a3f5f\"},\"error_y\":{\"color\":\"#2a3f5f\"},\"marker\":{\"line\":{\"color\":\"#E5ECF6\",\"width\":0.5},\"pattern\":{\"fillmode\":\"overlay\",\"size\":10,\"solidity\":0.2}},\"type\":\"bar\"}],\"scattergeo\":[{\"type\":\"scattergeo\",\"marker\":{\"colorbar\":{\"outlinewidth\":0,\"ticks\":\"\"}}}],\"scatterpolar\":[{\"type\":\"scatterpolar\",\"marker\":{\"colorbar\":{\"outlinewidth\":0,\"ticks\":\"\"}}}],\"histogram\":[{\"marker\":{\"pattern\":{\"fillmode\":\"overlay\",\"size\":10,\"solidity\":0.2}},\"type\":\"histogram\"}],\"scattergl\":[{\"type\":\"scattergl\",\"marker\":{\"colorbar\":{\"outlinewidth\":0,\"ticks\":\"\"}}}],\"scatter3d\":[{\"type\":\"scatter3d\",\"line\":{\"colorbar\":{\"outlinewidth\":0,\"ticks\":\"\"}},\"marker\":{\"colorbar\":{\"outlinewidth\":0,\"ticks\":\"\"}}}],\"scattermapbox\":[{\"type\":\"scattermapbox\",\"marker\":{\"colorbar\":{\"outlinewidth\":0,\"ticks\":\"\"}}}],\"scatterternary\":[{\"type\":\"scatterternary\",\"marker\":{\"colorbar\":{\"outlinewidth\":0,\"ticks\":\"\"}}}],\"scattercarpet\":[{\"type\":\"scattercarpet\",\"marker\":{\"colorbar\":{\"outlinewidth\":0,\"ticks\":\"\"}}}],\"carpet\":[{\"aaxis\":{\"endlinecolor\":\"#2a3f5f\",\"gridcolor\":\"white\",\"linecolor\":\"white\",\"minorgridcolor\":\"white\",\"startlinecolor\":\"#2a3f5f\"},\"baxis\":{\"endlinecolor\":\"#2a3f5f\",\"gridcolor\":\"white\",\"linecolor\":\"white\",\"minorgridcolor\":\"white\",\"startlinecolor\":\"#2a3f5f\"},\"type\":\"carpet\"}],\"table\":[{\"cells\":{\"fill\":{\"color\":\"#EBF0F8\"},\"line\":{\"color\":\"white\"}},\"header\":{\"fill\":{\"color\":\"#C8D4E3\"},\"line\":{\"color\":\"white\"}},\"type\":\"table\"}],\"barpolar\":[{\"marker\":{\"line\":{\"color\":\"#E5ECF6\",\"width\":0.5},\"pattern\":{\"fillmode\":\"overlay\",\"size\":10,\"solidity\":0.2}},\"type\":\"barpolar\"}],\"pie\":[{\"automargin\":true,\"type\":\"pie\"}]},\"layout\":{\"autotypenumbers\":\"strict\",\"colorway\":[\"#636efa\",\"#EF553B\",\"#00cc96\",\"#ab63fa\",\"#FFA15A\",\"#19d3f3\",\"#FF6692\",\"#B6E880\",\"#FF97FF\",\"#FECB52\"],\"font\":{\"color\":\"#2a3f5f\"},\"hovermode\":\"closest\",\"hoverlabel\":{\"align\":\"left\"},\"paper_bgcolor\":\"white\",\"plot_bgcolor\":\"#E5ECF6\",\"polar\":{\"bgcolor\":\"#E5ECF6\",\"angularaxis\":{\"gridcolor\":\"white\",\"linecolor\":\"white\",\"ticks\":\"\"},\"radialaxis\":{\"gridcolor\":\"white\",\"linecolor\":\"white\",\"ticks\":\"\"}},\"ternary\":{\"bgcolor\":\"#E5ECF6\",\"aaxis\":{\"gridcolor\":\"white\",\"linecolor\":\"white\",\"ticks\":\"\"},\"baxis\":{\"gridcolor\":\"white\",\"linecolor\":\"white\",\"ticks\":\"\"},\"caxis\":{\"gridcolor\":\"white\",\"linecolor\":\"white\",\"ticks\":\"\"}},\"coloraxis\":{\"colorbar\":{\"outlinewidth\":0,\"ticks\":\"\"}},\"colorscale\":{\"sequential\":[[0.0,\"#0d0887\"],[0.1111111111111111,\"#46039f\"],[0.2222222222222222,\"#7201a8\"],[0.3333333333333333,\"#9c179e\"],[0.4444444444444444,\"#bd3786\"],[0.5555555555555556,\"#d8576b\"],[0.6666666666666666,\"#ed7953\"],[0.7777777777777778,\"#fb9f3a\"],[0.8888888888888888,\"#fdca26\"],[1.0,\"#f0f921\"]],\"sequentialminus\":[[0.0,\"#0d0887\"],[0.1111111111111111,\"#46039f\"],[0.2222222222222222,\"#7201a8\"],[0.3333333333333333,\"#9c179e\"],[0.4444444444444444,\"#bd3786\"],[0.5555555555555556,\"#d8576b\"],[0.6666666666666666,\"#ed7953\"],[0.7777777777777778,\"#fb9f3a\"],[0.8888888888888888,\"#fdca26\"],[1.0,\"#f0f921\"]],\"diverging\":[[0,\"#8e0152\"],[0.1,\"#c51b7d\"],[0.2,\"#de77ae\"],[0.3,\"#f1b6da\"],[0.4,\"#fde0ef\"],[0.5,\"#f7f7f7\"],[0.6,\"#e6f5d0\"],[0.7,\"#b8e186\"],[0.8,\"#7fbc41\"],[0.9,\"#4d9221\"],[1,\"#276419\"]]},\"xaxis\":{\"gridcolor\":\"white\",\"linecolor\":\"white\",\"ticks\":\"\",\"title\":{\"standoff\":15},\"zerolinecolor\":\"white\",\"automargin\":true,\"zerolinewidth\":2},\"yaxis\":{\"gridcolor\":\"white\",\"linecolor\":\"white\",\"ticks\":\"\",\"title\":{\"standoff\":15},\"zerolinecolor\":\"white\",\"automargin\":true,\"zerolinewidth\":2},\"scene\":{\"xaxis\":{\"backgroundcolor\":\"#E5ECF6\",\"gridcolor\":\"white\",\"linecolor\":\"white\",\"showbackground\":true,\"ticks\":\"\",\"zerolinecolor\":\"white\",\"gridwidth\":2},\"yaxis\":{\"backgroundcolor\":\"#E5ECF6\",\"gridcolor\":\"white\",\"linecolor\":\"white\",\"showbackground\":true,\"ticks\":\"\",\"zerolinecolor\":\"white\",\"gridwidth\":2},\"zaxis\":{\"backgroundcolor\":\"#E5ECF6\",\"gridcolor\":\"white\",\"linecolor\":\"white\",\"showbackground\":true,\"ticks\":\"\",\"zerolinecolor\":\"white\",\"gridwidth\":2}},\"shapedefaults\":{\"line\":{\"color\":\"#2a3f5f\"}},\"annotationdefaults\":{\"arrowcolor\":\"#2a3f5f\",\"arrowhead\":0,\"arrowwidth\":1},\"geo\":{\"bgcolor\":\"white\",\"landcolor\":\"#E5ECF6\",\"subunitcolor\":\"white\",\"showland\":true,\"showlakes\":true,\"lakecolor\":\"white\"},\"title\":{\"x\":0.05},\"mapbox\":{\"style\":\"light\"}}},\"xaxis\":{\"anchor\":\"y\",\"domain\":[0.0,1.0],\"title\":{\"text\":\"Accuracy\"}},\"yaxis\":{\"anchor\":\"x\",\"domain\":[0.0,1.0],\"title\":{\"text\":\"Genus\"},\"categoryorder\":\"total ascending\"},\"legend\":{\"title\":{\"text\":\"Family\"},\"tracegroupgap\":0},\"title\":{\"text\":\"Top 30 Genus By Accuracy\"},\"barmode\":\"stack\"},                        {\"responsive\": true}                    ).then(function(){\n",
       "                            \n",
       "var gd = document.getElementById('afd9f0bd-a210-4fbe-8a20-3432779e33c9');\n",
       "var x = new MutationObserver(function (mutations, observer) {{\n",
       "        var display = window.getComputedStyle(gd).display;\n",
       "        if (!display || display === 'none') {{\n",
       "            console.log([gd, 'removed!']);\n",
       "            Plotly.purge(gd);\n",
       "            observer.disconnect();\n",
       "        }}\n",
       "}});\n",
       "\n",
       "// Listen for the removal of the full notebook cells\n",
       "var notebookContainer = gd.closest('#notebook-container');\n",
       "if (notebookContainer) {{\n",
       "    x.observe(notebookContainer, {childList: true});\n",
       "}}\n",
       "\n",
       "// Listen for the clearing of the current output cell\n",
       "var outputEl = gd.closest('.output');\n",
       "if (outputEl) {{\n",
       "    x.observe(outputEl, {childList: true});\n",
       "}}\n",
       "\n",
       "                        })                };                });            </script>        </div>"
      ]
     },
     "metadata": {},
     "output_type": "display_data"
    }
   ],
   "source": [
    "mapping = plot_top_n(correct_genus, 30, \"Top 30 Genus By Accuracy\", \"genus\", horizontal=True, color='lightgreen')"
   ]
  },
  {
   "cell_type": "code",
   "execution_count": 136,
   "metadata": {},
   "outputs": [
    {
     "data": {
      "application/vnd.plotly.v1+json": {
       "config": {
        "plotlyServerURL": "https://plot.ly"
       },
       "data": [
        {
         "alignmentgroup": "True",
         "customdata": [
          [
           "Cyperaceae"
          ]
         ],
         "hovertemplate": "Genus=Rhynchospora<br>Accuracy=%{x}<br>Species=%{y}<br>Family=%{customdata[0]}<extra></extra>",
         "legendgroup": "Rhynchospora",
         "marker": {
          "color": "#636efa",
          "pattern": {
           "shape": ""
          }
         },
         "name": "Rhynchospora",
         "offsetgroup": "Rhynchospora",
         "orientation": "h",
         "showlegend": true,
         "textposition": "auto",
         "type": "bar",
         "x": [
          0.5869565217391305
         ],
         "xaxis": "x",
         "y": [
          "lindeniana"
         ],
         "yaxis": "y"
        },
        {
         "alignmentgroup": "True",
         "customdata": [
          [
           "Fabaceae"
          ]
         ],
         "hovertemplate": "Genus=Calliandra<br>Accuracy=%{x}<br>Species=%{y}<br>Family=%{customdata[0]}<extra></extra>",
         "legendgroup": "Calliandra",
         "marker": {
          "color": "#EF553B",
          "pattern": {
           "shape": ""
          }
         },
         "name": "Calliandra",
         "offsetgroup": "Calliandra",
         "orientation": "h",
         "showlegend": true,
         "textposition": "auto",
         "type": "bar",
         "x": [
          0.42105263157894735
         ],
         "xaxis": "x",
         "y": [
          "juzepczukii"
         ],
         "yaxis": "y"
        },
        {
         "alignmentgroup": "True",
         "customdata": [
          [
           "Araceae"
          ]
         ],
         "hovertemplate": "Genus=Anthurium<br>Accuracy=%{x}<br>Species=%{y}<br>Family=%{customdata[0]}<extra></extra>",
         "legendgroup": "Anthurium",
         "marker": {
          "color": "#00cc96",
          "pattern": {
           "shape": ""
          }
         },
         "name": "Anthurium",
         "offsetgroup": "Anthurium",
         "orientation": "h",
         "showlegend": true,
         "textposition": "auto",
         "type": "bar",
         "x": [
          0.375
         ],
         "xaxis": "x",
         "y": [
          "obscurinervium"
         ],
         "yaxis": "y"
        },
        {
         "alignmentgroup": "True",
         "customdata": [
          [
           "Acoraceae"
          ]
         ],
         "hovertemplate": "Genus=Acorus<br>Accuracy=%{x}<br>Species=%{y}<br>Family=%{customdata[0]}<extra></extra>",
         "legendgroup": "Acorus",
         "marker": {
          "color": "#ab63fa",
          "pattern": {
           "shape": ""
          }
         },
         "name": "Acorus",
         "offsetgroup": "Acorus",
         "orientation": "h",
         "showlegend": true,
         "textposition": "auto",
         "type": "bar",
         "x": [
          0.36486486486486486
         ],
         "xaxis": "x",
         "y": [
          "calamus"
         ],
         "yaxis": "y"
        },
        {
         "alignmentgroup": "True",
         "customdata": [
          [
           "Araceae"
          ]
         ],
         "hovertemplate": "Genus=Monstera<br>Accuracy=%{x}<br>Species=%{y}<br>Family=%{customdata[0]}<extra></extra>",
         "legendgroup": "Monstera",
         "marker": {
          "color": "#FFA15A",
          "pattern": {
           "shape": ""
          }
         },
         "name": "Monstera",
         "offsetgroup": "Monstera",
         "orientation": "h",
         "showlegend": true,
         "textposition": "auto",
         "type": "bar",
         "x": [
          0.3404255319148936
         ],
         "xaxis": "x",
         "y": [
          "deliciosa"
         ],
         "yaxis": "y"
        },
        {
         "alignmentgroup": "True",
         "customdata": [
          [
           "Cyperaceae"
          ]
         ],
         "hovertemplate": "Genus=Cyperus<br>Accuracy=%{x}<br>Species=%{y}<br>Family=%{customdata[0]}<extra></extra>",
         "legendgroup": "Cyperus",
         "marker": {
          "color": "#19d3f3",
          "pattern": {
           "shape": ""
          }
         },
         "name": "Cyperus",
         "offsetgroup": "Cyperus",
         "orientation": "h",
         "showlegend": true,
         "textposition": "auto",
         "type": "bar",
         "x": [
          0.3283582089552239
         ],
         "xaxis": "x",
         "y": [
          "lancastriensis"
         ],
         "yaxis": "y"
        },
        {
         "alignmentgroup": "True",
         "customdata": [
          [
           "Onagraceae"
          ]
         ],
         "hovertemplate": "Genus=Fuchsia<br>Accuracy=%{x}<br>Species=%{y}<br>Family=%{customdata[0]}<extra></extra>",
         "legendgroup": "Fuchsia",
         "marker": {
          "color": "#FF6692",
          "pattern": {
           "shape": ""
          }
         },
         "name": "Fuchsia",
         "offsetgroup": "Fuchsia",
         "orientation": "h",
         "showlegend": true,
         "textposition": "auto",
         "type": "bar",
         "x": [
          0.3076923076923077
         ],
         "xaxis": "x",
         "y": [
          "brevilobis"
         ],
         "yaxis": "y"
        },
        {
         "alignmentgroup": "True",
         "customdata": [
          [
           "Cyperaceae"
          ]
         ],
         "hovertemplate": "Genus=Carex<br>Accuracy=%{x}<br>Species=%{y}<br>Family=%{customdata[0]}<extra></extra>",
         "legendgroup": "Carex",
         "marker": {
          "color": "#B6E880",
          "pattern": {
           "shape": ""
          }
         },
         "name": "Carex",
         "offsetgroup": "Carex",
         "orientation": "h",
         "showlegend": true,
         "textposition": "auto",
         "type": "bar",
         "x": [
          0.2857142857142857
         ],
         "xaxis": "x",
         "y": [
          "kraliana"
         ],
         "yaxis": "y"
        },
        {
         "alignmentgroup": "True",
         "customdata": [
          [
           "Fabaceae"
          ]
         ],
         "hovertemplate": "Genus=Sphinctospermum<br>Accuracy=%{x}<br>Species=%{y}<br>Family=%{customdata[0]}<extra></extra>",
         "legendgroup": "Sphinctospermum",
         "marker": {
          "color": "#FF97FF",
          "pattern": {
           "shape": ""
          }
         },
         "name": "Sphinctospermum",
         "offsetgroup": "Sphinctospermum",
         "orientation": "h",
         "showlegend": true,
         "textposition": "auto",
         "type": "bar",
         "x": [
          0.2777777777777778
         ],
         "xaxis": "x",
         "y": [
          "constrictum"
         ],
         "yaxis": "y"
        },
        {
         "alignmentgroup": "True",
         "customdata": [
          [
           "Aspleniaceae"
          ]
         ],
         "hovertemplate": "Genus=Diplazium<br>Accuracy=%{x}<br>Species=%{y}<br>Family=%{customdata[0]}<extra></extra>",
         "legendgroup": "Diplazium",
         "marker": {
          "color": "#FECB52",
          "pattern": {
           "shape": ""
          }
         },
         "name": "Diplazium",
         "offsetgroup": "Diplazium",
         "orientation": "h",
         "showlegend": true,
         "textposition": "auto",
         "type": "bar",
         "x": [
          0.2602739726027397
         ],
         "xaxis": "x",
         "y": [
          "unilobum"
         ],
         "yaxis": "y"
        },
        {
         "alignmentgroup": "True",
         "customdata": [
          [
           "Orchidaceae"
          ]
         ],
         "hovertemplate": "Genus=Goodyera<br>Accuracy=%{x}<br>Species=%{y}<br>Family=%{customdata[0]}<extra></extra>",
         "legendgroup": "Goodyera",
         "marker": {
          "color": "#636efa",
          "pattern": {
           "shape": ""
          }
         },
         "name": "Goodyera",
         "offsetgroup": "Goodyera",
         "orientation": "h",
         "showlegend": true,
         "textposition": "auto",
         "type": "bar",
         "x": [
          0.2564102564102564
         ],
         "xaxis": "x",
         "y": [
          "tesselata"
         ],
         "yaxis": "y"
        },
        {
         "alignmentgroup": "True",
         "customdata": [
          [
           "Boraginaceae"
          ]
         ],
         "hovertemplate": "Genus=Cordia<br>Accuracy=%{x}<br>Species=%{y}<br>Family=%{customdata[0]}<extra></extra>",
         "legendgroup": "Cordia",
         "marker": {
          "color": "#EF553B",
          "pattern": {
           "shape": ""
          }
         },
         "name": "Cordia",
         "offsetgroup": "Cordia",
         "orientation": "h",
         "showlegend": true,
         "textposition": "auto",
         "type": "bar",
         "x": [
          0.2558139534883721
         ],
         "xaxis": "x",
         "y": [
          "boissieri"
         ],
         "yaxis": "y"
        },
        {
         "alignmentgroup": "True",
         "customdata": [
          [
           "Pteridaceae"
          ]
         ],
         "hovertemplate": "Genus=Hemionitis<br>Accuracy=%{x}<br>Species=%{y}<br>Family=%{customdata[0]}<extra></extra>",
         "legendgroup": "Hemionitis",
         "marker": {
          "color": "#00cc96",
          "pattern": {
           "shape": ""
          }
         },
         "name": "Hemionitis",
         "offsetgroup": "Hemionitis",
         "orientation": "h",
         "showlegend": true,
         "textposition": "auto",
         "type": "bar",
         "x": [
          0.25
         ],
         "xaxis": "x",
         "y": [
          "artax"
         ],
         "yaxis": "y"
        },
        {
         "alignmentgroup": "True",
         "customdata": [
          [
           "Nyctaginaceae"
          ]
         ],
         "hovertemplate": "Genus=Anulocaulis<br>Accuracy=%{x}<br>Species=%{y}<br>Family=%{customdata[0]}<extra></extra>",
         "legendgroup": "Anulocaulis",
         "marker": {
          "color": "#ab63fa",
          "pattern": {
           "shape": ""
          }
         },
         "name": "Anulocaulis",
         "offsetgroup": "Anulocaulis",
         "orientation": "h",
         "showlegend": true,
         "textposition": "auto",
         "type": "bar",
         "x": [
          0.25
         ],
         "xaxis": "x",
         "y": [
          "eriosolenus"
         ],
         "yaxis": "y"
        },
        {
         "alignmentgroup": "True",
         "customdata": [
          [
           "Fabaceae"
          ]
         ],
         "hovertemplate": "Genus=Brownea<br>Accuracy=%{x}<br>Species=%{y}<br>Family=%{customdata[0]}<extra></extra>",
         "legendgroup": "Brownea",
         "marker": {
          "color": "#FFA15A",
          "pattern": {
           "shape": ""
          }
         },
         "name": "Brownea",
         "offsetgroup": "Brownea",
         "orientation": "h",
         "showlegend": true,
         "textposition": "auto",
         "type": "bar",
         "x": [
          0.25
         ],
         "xaxis": "x",
         "y": [
          "grandiceps"
         ],
         "yaxis": "y"
        },
        {
         "alignmentgroup": "True",
         "customdata": [
          [
           "Poaceae"
          ]
         ],
         "hovertemplate": "Genus=Glyceria<br>Accuracy=%{x}<br>Species=%{y}<br>Family=%{customdata[0]}<extra></extra>",
         "legendgroup": "Glyceria",
         "marker": {
          "color": "#19d3f3",
          "pattern": {
           "shape": ""
          }
         },
         "name": "Glyceria",
         "offsetgroup": "Glyceria",
         "orientation": "h",
         "showlegend": true,
         "textposition": "auto",
         "type": "bar",
         "x": [
          0.24675324675324675
         ],
         "xaxis": "x",
         "y": [
          "melicaria"
         ],
         "yaxis": "y"
        },
        {
         "alignmentgroup": "True",
         "customdata": [
          [
           "Primulaceae"
          ]
         ],
         "hovertemplate": "Genus=Primula<br>Accuracy=%{x}<br>Species=%{y}<br>Family=%{customdata[0]}<extra></extra>",
         "legendgroup": "Primula",
         "marker": {
          "color": "#FF6692",
          "pattern": {
           "shape": ""
          }
         },
         "name": "Primula",
         "offsetgroup": "Primula",
         "orientation": "h",
         "showlegend": true,
         "textposition": "auto",
         "type": "bar",
         "x": [
          0.23529411764705882
         ],
         "xaxis": "x",
         "y": [
          "frenchii"
         ],
         "yaxis": "y"
        },
        {
         "alignmentgroup": "True",
         "customdata": [
          [
           "Rhamnaceae"
          ]
         ],
         "hovertemplate": "Genus=Krugiodendron<br>Accuracy=%{x}<br>Species=%{y}<br>Family=%{customdata[0]}<extra></extra>",
         "legendgroup": "Krugiodendron",
         "marker": {
          "color": "#B6E880",
          "pattern": {
           "shape": ""
          }
         },
         "name": "Krugiodendron",
         "offsetgroup": "Krugiodendron",
         "orientation": "h",
         "showlegend": true,
         "textposition": "auto",
         "type": "bar",
         "x": [
          0.22666666666666666
         ],
         "xaxis": "x",
         "y": [
          "ferreum"
         ],
         "yaxis": "y"
        },
        {
         "alignmentgroup": "True",
         "customdata": [
          [
           "Fabaceae"
          ]
         ],
         "hovertemplate": "Genus=Astragalus<br>Accuracy=%{x}<br>Species=%{y}<br>Family=%{customdata[0]}<extra></extra>",
         "legendgroup": "Astragalus",
         "marker": {
          "color": "#FF97FF",
          "pattern": {
           "shape": ""
          }
         },
         "name": "Astragalus",
         "offsetgroup": "Astragalus",
         "orientation": "h",
         "showlegend": true,
         "textposition": "auto",
         "type": "bar",
         "x": [
          0.22
         ],
         "xaxis": "x",
         "y": [
          "hamiltonii"
         ],
         "yaxis": "y"
        },
        {
         "alignmentgroup": "True",
         "customdata": [
          [
           "Poaceae"
          ]
         ],
         "hovertemplate": "Genus=Aristida<br>Accuracy=%{x}<br>Species=%{y}<br>Family=%{customdata[0]}<extra></extra>",
         "legendgroup": "Aristida",
         "marker": {
          "color": "#FECB52",
          "pattern": {
           "shape": ""
          }
         },
         "name": "Aristida",
         "offsetgroup": "Aristida",
         "orientation": "h",
         "showlegend": true,
         "textposition": "auto",
         "type": "bar",
         "x": [
          0.21333333333333335
         ],
         "xaxis": "x",
         "y": [
          "hamulosa"
         ],
         "yaxis": "y"
        },
        {
         "alignmentgroup": "True",
         "customdata": [
          [
           "Campanulaceae"
          ]
         ],
         "hovertemplate": "Genus=Centropogon<br>Accuracy=%{x}<br>Species=%{y}<br>Family=%{customdata[0]}<extra></extra>",
         "legendgroup": "Centropogon",
         "marker": {
          "color": "#636efa",
          "pattern": {
           "shape": ""
          }
         },
         "name": "Centropogon",
         "offsetgroup": "Centropogon",
         "orientation": "h",
         "showlegend": true,
         "textposition": "auto",
         "type": "bar",
         "x": [
          0.20454545454545456
         ],
         "xaxis": "x",
         "y": [
          "granulosus"
         ],
         "yaxis": "y"
        },
        {
         "alignmentgroup": "True",
         "customdata": [
          [
           "Amaryllidaceae"
          ]
         ],
         "hovertemplate": "Genus=Hippeastrum<br>Accuracy=%{x}<br>Species=%{y}<br>Family=%{customdata[0]}<extra></extra>",
         "legendgroup": "Hippeastrum",
         "marker": {
          "color": "#EF553B",
          "pattern": {
           "shape": ""
          }
         },
         "name": "Hippeastrum",
         "offsetgroup": "Hippeastrum",
         "orientation": "h",
         "showlegend": true,
         "textposition": "auto",
         "type": "bar",
         "x": [
          0.2
         ],
         "xaxis": "x",
         "y": [
          "aulicum"
         ],
         "yaxis": "y"
        },
        {
         "alignmentgroup": "True",
         "customdata": [
          [
           "Vitaceae"
          ]
         ],
         "hovertemplate": "Genus=Vitis<br>Accuracy=%{x}<br>Species=%{y}<br>Family=%{customdata[0]}<extra></extra>",
         "legendgroup": "Vitis",
         "marker": {
          "color": "#00cc96",
          "pattern": {
           "shape": ""
          }
         },
         "name": "Vitis",
         "offsetgroup": "Vitis",
         "orientation": "h",
         "showlegend": true,
         "textposition": "auto",
         "type": "bar",
         "x": [
          0.2
         ],
         "xaxis": "x",
         "y": [
          "giradiana"
         ],
         "yaxis": "y"
        },
        {
         "alignmentgroup": "True",
         "customdata": [
          [
           "Asparagaceae"
          ]
         ],
         "hovertemplate": "Genus=Yucca<br>Accuracy=%{x}<br>Species=%{y}<br>Family=%{customdata[0]}<extra></extra>",
         "legendgroup": "Yucca",
         "marker": {
          "color": "#ab63fa",
          "pattern": {
           "shape": ""
          }
         },
         "name": "Yucca",
         "offsetgroup": "Yucca",
         "orientation": "h",
         "showlegend": true,
         "textposition": "auto",
         "type": "bar",
         "x": [
          0.1951219512195122
         ],
         "xaxis": "x",
         "y": [
          "faxoniana"
         ],
         "yaxis": "y"
        },
        {
         "alignmentgroup": "True",
         "customdata": [
          [
           "Plantaginaceae"
          ]
         ],
         "hovertemplate": "Genus=Angelonia<br>Accuracy=%{x}<br>Species=%{y}<br>Family=%{customdata[0]}<extra></extra>",
         "legendgroup": "Angelonia",
         "marker": {
          "color": "#FFA15A",
          "pattern": {
           "shape": ""
          }
         },
         "name": "Angelonia",
         "offsetgroup": "Angelonia",
         "orientation": "h",
         "showlegend": true,
         "textposition": "auto",
         "type": "bar",
         "x": [
          0.19402985074626866
         ],
         "xaxis": "x",
         "y": [
          "salicariifolia"
         ],
         "yaxis": "y"
        },
        {
         "alignmentgroup": "True",
         "customdata": [
          [
           "Zamiaceae"
          ]
         ],
         "hovertemplate": "Genus=Ceratozamia<br>Accuracy=%{x}<br>Species=%{y}<br>Family=%{customdata[0]}<extra></extra>",
         "legendgroup": "Ceratozamia",
         "marker": {
          "color": "#19d3f3",
          "pattern": {
           "shape": ""
          }
         },
         "name": "Ceratozamia",
         "offsetgroup": "Ceratozamia",
         "orientation": "h",
         "showlegend": true,
         "textposition": "auto",
         "type": "bar",
         "x": [
          0.19230769230769232
         ],
         "xaxis": "x",
         "y": [
          "matudae"
         ],
         "yaxis": "y"
        },
        {
         "alignmentgroup": "True",
         "customdata": [
          [
           "Cyperaceae"
          ]
         ],
         "hovertemplate": "Genus=Machaerina<br>Accuracy=%{x}<br>Species=%{y}<br>Family=%{customdata[0]}<extra></extra>",
         "legendgroup": "Machaerina",
         "marker": {
          "color": "#FF6692",
          "pattern": {
           "shape": ""
          }
         },
         "name": "Machaerina",
         "offsetgroup": "Machaerina",
         "orientation": "h",
         "showlegend": true,
         "textposition": "auto",
         "type": "bar",
         "x": [
          0.19230769230769232
         ],
         "xaxis": "x",
         "y": [
          "restioides"
         ],
         "yaxis": "y"
        },
        {
         "alignmentgroup": "True",
         "customdata": [
          [
           "Polypodiaceae"
          ]
         ],
         "hovertemplate": "Genus=Campyloneurum<br>Accuracy=%{x}<br>Species=%{y}<br>Family=%{customdata[0]}<extra></extra>",
         "legendgroup": "Campyloneurum",
         "marker": {
          "color": "#B6E880",
          "pattern": {
           "shape": ""
          }
         },
         "name": "Campyloneurum",
         "offsetgroup": "Campyloneurum",
         "orientation": "h",
         "showlegend": true,
         "textposition": "auto",
         "type": "bar",
         "x": [
          0.18584070796460178
         ],
         "xaxis": "x",
         "y": [
          "costatum"
         ],
         "yaxis": "y"
        },
        {
         "alignmentgroup": "True",
         "customdata": [
          [
           "Droseraceae"
          ]
         ],
         "hovertemplate": "Genus=Dionaea<br>Accuracy=%{x}<br>Species=%{y}<br>Family=%{customdata[0]}<extra></extra>",
         "legendgroup": "Dionaea",
         "marker": {
          "color": "#FF97FF",
          "pattern": {
           "shape": ""
          }
         },
         "name": "Dionaea",
         "offsetgroup": "Dionaea",
         "orientation": "h",
         "showlegend": true,
         "textposition": "auto",
         "type": "bar",
         "x": [
          0.18571428571428572
         ],
         "xaxis": "x",
         "y": [
          "muscipula"
         ],
         "yaxis": "y"
        },
        {
         "alignmentgroup": "True",
         "customdata": [
          [
           "Bromeliaceae"
          ]
         ],
         "hovertemplate": "Genus=Acanthostachys<br>Accuracy=%{x}<br>Species=%{y}<br>Family=%{customdata[0]}<extra></extra>",
         "legendgroup": "Acanthostachys",
         "marker": {
          "color": "#FECB52",
          "pattern": {
           "shape": ""
          }
         },
         "name": "Acanthostachys",
         "offsetgroup": "Acanthostachys",
         "orientation": "h",
         "showlegend": true,
         "textposition": "auto",
         "type": "bar",
         "x": [
          0.1839080459770115
         ],
         "xaxis": "x",
         "y": [
          "strobilacea"
         ],
         "yaxis": "y"
        }
       ],
       "layout": {
        "barmode": "stack",
        "legend": {
         "title": {
          "text": "Genus"
         },
         "tracegroupgap": 0
        },
        "template": {
         "data": {
          "bar": [
           {
            "error_x": {
             "color": "#2a3f5f"
            },
            "error_y": {
             "color": "#2a3f5f"
            },
            "marker": {
             "line": {
              "color": "#E5ECF6",
              "width": 0.5
             },
             "pattern": {
              "fillmode": "overlay",
              "size": 10,
              "solidity": 0.2
             }
            },
            "type": "bar"
           }
          ],
          "barpolar": [
           {
            "marker": {
             "line": {
              "color": "#E5ECF6",
              "width": 0.5
             },
             "pattern": {
              "fillmode": "overlay",
              "size": 10,
              "solidity": 0.2
             }
            },
            "type": "barpolar"
           }
          ],
          "carpet": [
           {
            "aaxis": {
             "endlinecolor": "#2a3f5f",
             "gridcolor": "white",
             "linecolor": "white",
             "minorgridcolor": "white",
             "startlinecolor": "#2a3f5f"
            },
            "baxis": {
             "endlinecolor": "#2a3f5f",
             "gridcolor": "white",
             "linecolor": "white",
             "minorgridcolor": "white",
             "startlinecolor": "#2a3f5f"
            },
            "type": "carpet"
           }
          ],
          "choropleth": [
           {
            "colorbar": {
             "outlinewidth": 0,
             "ticks": ""
            },
            "type": "choropleth"
           }
          ],
          "contour": [
           {
            "colorbar": {
             "outlinewidth": 0,
             "ticks": ""
            },
            "colorscale": [
             [
              0,
              "#0d0887"
             ],
             [
              0.1111111111111111,
              "#46039f"
             ],
             [
              0.2222222222222222,
              "#7201a8"
             ],
             [
              0.3333333333333333,
              "#9c179e"
             ],
             [
              0.4444444444444444,
              "#bd3786"
             ],
             [
              0.5555555555555556,
              "#d8576b"
             ],
             [
              0.6666666666666666,
              "#ed7953"
             ],
             [
              0.7777777777777778,
              "#fb9f3a"
             ],
             [
              0.8888888888888888,
              "#fdca26"
             ],
             [
              1,
              "#f0f921"
             ]
            ],
            "type": "contour"
           }
          ],
          "contourcarpet": [
           {
            "colorbar": {
             "outlinewidth": 0,
             "ticks": ""
            },
            "type": "contourcarpet"
           }
          ],
          "heatmap": [
           {
            "colorbar": {
             "outlinewidth": 0,
             "ticks": ""
            },
            "colorscale": [
             [
              0,
              "#0d0887"
             ],
             [
              0.1111111111111111,
              "#46039f"
             ],
             [
              0.2222222222222222,
              "#7201a8"
             ],
             [
              0.3333333333333333,
              "#9c179e"
             ],
             [
              0.4444444444444444,
              "#bd3786"
             ],
             [
              0.5555555555555556,
              "#d8576b"
             ],
             [
              0.6666666666666666,
              "#ed7953"
             ],
             [
              0.7777777777777778,
              "#fb9f3a"
             ],
             [
              0.8888888888888888,
              "#fdca26"
             ],
             [
              1,
              "#f0f921"
             ]
            ],
            "type": "heatmap"
           }
          ],
          "heatmapgl": [
           {
            "colorbar": {
             "outlinewidth": 0,
             "ticks": ""
            },
            "colorscale": [
             [
              0,
              "#0d0887"
             ],
             [
              0.1111111111111111,
              "#46039f"
             ],
             [
              0.2222222222222222,
              "#7201a8"
             ],
             [
              0.3333333333333333,
              "#9c179e"
             ],
             [
              0.4444444444444444,
              "#bd3786"
             ],
             [
              0.5555555555555556,
              "#d8576b"
             ],
             [
              0.6666666666666666,
              "#ed7953"
             ],
             [
              0.7777777777777778,
              "#fb9f3a"
             ],
             [
              0.8888888888888888,
              "#fdca26"
             ],
             [
              1,
              "#f0f921"
             ]
            ],
            "type": "heatmapgl"
           }
          ],
          "histogram": [
           {
            "marker": {
             "pattern": {
              "fillmode": "overlay",
              "size": 10,
              "solidity": 0.2
             }
            },
            "type": "histogram"
           }
          ],
          "histogram2d": [
           {
            "colorbar": {
             "outlinewidth": 0,
             "ticks": ""
            },
            "colorscale": [
             [
              0,
              "#0d0887"
             ],
             [
              0.1111111111111111,
              "#46039f"
             ],
             [
              0.2222222222222222,
              "#7201a8"
             ],
             [
              0.3333333333333333,
              "#9c179e"
             ],
             [
              0.4444444444444444,
              "#bd3786"
             ],
             [
              0.5555555555555556,
              "#d8576b"
             ],
             [
              0.6666666666666666,
              "#ed7953"
             ],
             [
              0.7777777777777778,
              "#fb9f3a"
             ],
             [
              0.8888888888888888,
              "#fdca26"
             ],
             [
              1,
              "#f0f921"
             ]
            ],
            "type": "histogram2d"
           }
          ],
          "histogram2dcontour": [
           {
            "colorbar": {
             "outlinewidth": 0,
             "ticks": ""
            },
            "colorscale": [
             [
              0,
              "#0d0887"
             ],
             [
              0.1111111111111111,
              "#46039f"
             ],
             [
              0.2222222222222222,
              "#7201a8"
             ],
             [
              0.3333333333333333,
              "#9c179e"
             ],
             [
              0.4444444444444444,
              "#bd3786"
             ],
             [
              0.5555555555555556,
              "#d8576b"
             ],
             [
              0.6666666666666666,
              "#ed7953"
             ],
             [
              0.7777777777777778,
              "#fb9f3a"
             ],
             [
              0.8888888888888888,
              "#fdca26"
             ],
             [
              1,
              "#f0f921"
             ]
            ],
            "type": "histogram2dcontour"
           }
          ],
          "mesh3d": [
           {
            "colorbar": {
             "outlinewidth": 0,
             "ticks": ""
            },
            "type": "mesh3d"
           }
          ],
          "parcoords": [
           {
            "line": {
             "colorbar": {
              "outlinewidth": 0,
              "ticks": ""
             }
            },
            "type": "parcoords"
           }
          ],
          "pie": [
           {
            "automargin": true,
            "type": "pie"
           }
          ],
          "scatter": [
           {
            "fillpattern": {
             "fillmode": "overlay",
             "size": 10,
             "solidity": 0.2
            },
            "type": "scatter"
           }
          ],
          "scatter3d": [
           {
            "line": {
             "colorbar": {
              "outlinewidth": 0,
              "ticks": ""
             }
            },
            "marker": {
             "colorbar": {
              "outlinewidth": 0,
              "ticks": ""
             }
            },
            "type": "scatter3d"
           }
          ],
          "scattercarpet": [
           {
            "marker": {
             "colorbar": {
              "outlinewidth": 0,
              "ticks": ""
             }
            },
            "type": "scattercarpet"
           }
          ],
          "scattergeo": [
           {
            "marker": {
             "colorbar": {
              "outlinewidth": 0,
              "ticks": ""
             }
            },
            "type": "scattergeo"
           }
          ],
          "scattergl": [
           {
            "marker": {
             "colorbar": {
              "outlinewidth": 0,
              "ticks": ""
             }
            },
            "type": "scattergl"
           }
          ],
          "scattermapbox": [
           {
            "marker": {
             "colorbar": {
              "outlinewidth": 0,
              "ticks": ""
             }
            },
            "type": "scattermapbox"
           }
          ],
          "scatterpolar": [
           {
            "marker": {
             "colorbar": {
              "outlinewidth": 0,
              "ticks": ""
             }
            },
            "type": "scatterpolar"
           }
          ],
          "scatterpolargl": [
           {
            "marker": {
             "colorbar": {
              "outlinewidth": 0,
              "ticks": ""
             }
            },
            "type": "scatterpolargl"
           }
          ],
          "scatterternary": [
           {
            "marker": {
             "colorbar": {
              "outlinewidth": 0,
              "ticks": ""
             }
            },
            "type": "scatterternary"
           }
          ],
          "surface": [
           {
            "colorbar": {
             "outlinewidth": 0,
             "ticks": ""
            },
            "colorscale": [
             [
              0,
              "#0d0887"
             ],
             [
              0.1111111111111111,
              "#46039f"
             ],
             [
              0.2222222222222222,
              "#7201a8"
             ],
             [
              0.3333333333333333,
              "#9c179e"
             ],
             [
              0.4444444444444444,
              "#bd3786"
             ],
             [
              0.5555555555555556,
              "#d8576b"
             ],
             [
              0.6666666666666666,
              "#ed7953"
             ],
             [
              0.7777777777777778,
              "#fb9f3a"
             ],
             [
              0.8888888888888888,
              "#fdca26"
             ],
             [
              1,
              "#f0f921"
             ]
            ],
            "type": "surface"
           }
          ],
          "table": [
           {
            "cells": {
             "fill": {
              "color": "#EBF0F8"
             },
             "line": {
              "color": "white"
             }
            },
            "header": {
             "fill": {
              "color": "#C8D4E3"
             },
             "line": {
              "color": "white"
             }
            },
            "type": "table"
           }
          ]
         },
         "layout": {
          "annotationdefaults": {
           "arrowcolor": "#2a3f5f",
           "arrowhead": 0,
           "arrowwidth": 1
          },
          "autotypenumbers": "strict",
          "coloraxis": {
           "colorbar": {
            "outlinewidth": 0,
            "ticks": ""
           }
          },
          "colorscale": {
           "diverging": [
            [
             0,
             "#8e0152"
            ],
            [
             0.1,
             "#c51b7d"
            ],
            [
             0.2,
             "#de77ae"
            ],
            [
             0.3,
             "#f1b6da"
            ],
            [
             0.4,
             "#fde0ef"
            ],
            [
             0.5,
             "#f7f7f7"
            ],
            [
             0.6,
             "#e6f5d0"
            ],
            [
             0.7,
             "#b8e186"
            ],
            [
             0.8,
             "#7fbc41"
            ],
            [
             0.9,
             "#4d9221"
            ],
            [
             1,
             "#276419"
            ]
           ],
           "sequential": [
            [
             0,
             "#0d0887"
            ],
            [
             0.1111111111111111,
             "#46039f"
            ],
            [
             0.2222222222222222,
             "#7201a8"
            ],
            [
             0.3333333333333333,
             "#9c179e"
            ],
            [
             0.4444444444444444,
             "#bd3786"
            ],
            [
             0.5555555555555556,
             "#d8576b"
            ],
            [
             0.6666666666666666,
             "#ed7953"
            ],
            [
             0.7777777777777778,
             "#fb9f3a"
            ],
            [
             0.8888888888888888,
             "#fdca26"
            ],
            [
             1,
             "#f0f921"
            ]
           ],
           "sequentialminus": [
            [
             0,
             "#0d0887"
            ],
            [
             0.1111111111111111,
             "#46039f"
            ],
            [
             0.2222222222222222,
             "#7201a8"
            ],
            [
             0.3333333333333333,
             "#9c179e"
            ],
            [
             0.4444444444444444,
             "#bd3786"
            ],
            [
             0.5555555555555556,
             "#d8576b"
            ],
            [
             0.6666666666666666,
             "#ed7953"
            ],
            [
             0.7777777777777778,
             "#fb9f3a"
            ],
            [
             0.8888888888888888,
             "#fdca26"
            ],
            [
             1,
             "#f0f921"
            ]
           ]
          },
          "colorway": [
           "#636efa",
           "#EF553B",
           "#00cc96",
           "#ab63fa",
           "#FFA15A",
           "#19d3f3",
           "#FF6692",
           "#B6E880",
           "#FF97FF",
           "#FECB52"
          ],
          "font": {
           "color": "#2a3f5f"
          },
          "geo": {
           "bgcolor": "white",
           "lakecolor": "white",
           "landcolor": "#E5ECF6",
           "showlakes": true,
           "showland": true,
           "subunitcolor": "white"
          },
          "hoverlabel": {
           "align": "left"
          },
          "hovermode": "closest",
          "mapbox": {
           "style": "light"
          },
          "paper_bgcolor": "white",
          "plot_bgcolor": "#E5ECF6",
          "polar": {
           "angularaxis": {
            "gridcolor": "white",
            "linecolor": "white",
            "ticks": ""
           },
           "bgcolor": "#E5ECF6",
           "radialaxis": {
            "gridcolor": "white",
            "linecolor": "white",
            "ticks": ""
           }
          },
          "scene": {
           "xaxis": {
            "backgroundcolor": "#E5ECF6",
            "gridcolor": "white",
            "gridwidth": 2,
            "linecolor": "white",
            "showbackground": true,
            "ticks": "",
            "zerolinecolor": "white"
           },
           "yaxis": {
            "backgroundcolor": "#E5ECF6",
            "gridcolor": "white",
            "gridwidth": 2,
            "linecolor": "white",
            "showbackground": true,
            "ticks": "",
            "zerolinecolor": "white"
           },
           "zaxis": {
            "backgroundcolor": "#E5ECF6",
            "gridcolor": "white",
            "gridwidth": 2,
            "linecolor": "white",
            "showbackground": true,
            "ticks": "",
            "zerolinecolor": "white"
           }
          },
          "shapedefaults": {
           "line": {
            "color": "#2a3f5f"
           }
          },
          "ternary": {
           "aaxis": {
            "gridcolor": "white",
            "linecolor": "white",
            "ticks": ""
           },
           "baxis": {
            "gridcolor": "white",
            "linecolor": "white",
            "ticks": ""
           },
           "bgcolor": "#E5ECF6",
           "caxis": {
            "gridcolor": "white",
            "linecolor": "white",
            "ticks": ""
           }
          },
          "title": {
           "x": 0.05
          },
          "xaxis": {
           "automargin": true,
           "gridcolor": "white",
           "linecolor": "white",
           "ticks": "",
           "title": {
            "standoff": 15
           },
           "zerolinecolor": "white",
           "zerolinewidth": 2
          },
          "yaxis": {
           "automargin": true,
           "gridcolor": "white",
           "linecolor": "white",
           "ticks": "",
           "title": {
            "standoff": 15
           },
           "zerolinecolor": "white",
           "zerolinewidth": 2
          }
         }
        },
        "title": {
         "text": "Top 30 Species By Accuracy"
        },
        "xaxis": {
         "anchor": "y",
         "domain": [
          0,
          1
         ],
         "title": {
          "text": "Accuracy"
         }
        },
        "yaxis": {
         "anchor": "x",
         "categoryorder": "total ascending",
         "domain": [
          0,
          1
         ],
         "title": {
          "text": "Species"
         }
        }
       }
      },
      "text/html": [
       "<div>                            <div id=\"112423e9-5304-4610-911a-880629b4307b\" class=\"plotly-graph-div\" style=\"height:525px; width:100%;\"></div>            <script type=\"text/javascript\">                require([\"plotly\"], function(Plotly) {                    window.PLOTLYENV=window.PLOTLYENV || {};                                    if (document.getElementById(\"112423e9-5304-4610-911a-880629b4307b\")) {                    Plotly.newPlot(                        \"112423e9-5304-4610-911a-880629b4307b\",                        [{\"alignmentgroup\":\"True\",\"customdata\":[[\"Cyperaceae\"]],\"hovertemplate\":\"Genus=Rhynchospora\\u003cbr\\u003eAccuracy=%{x}\\u003cbr\\u003eSpecies=%{y}\\u003cbr\\u003eFamily=%{customdata[0]}\\u003cextra\\u003e\\u003c\\u002fextra\\u003e\",\"legendgroup\":\"Rhynchospora\",\"marker\":{\"color\":\"#636efa\",\"pattern\":{\"shape\":\"\"}},\"name\":\"Rhynchospora\",\"offsetgroup\":\"Rhynchospora\",\"orientation\":\"h\",\"showlegend\":true,\"textposition\":\"auto\",\"x\":[0.5869565217391305],\"xaxis\":\"x\",\"y\":[\"lindeniana\"],\"yaxis\":\"y\",\"type\":\"bar\"},{\"alignmentgroup\":\"True\",\"customdata\":[[\"Fabaceae\"]],\"hovertemplate\":\"Genus=Calliandra\\u003cbr\\u003eAccuracy=%{x}\\u003cbr\\u003eSpecies=%{y}\\u003cbr\\u003eFamily=%{customdata[0]}\\u003cextra\\u003e\\u003c\\u002fextra\\u003e\",\"legendgroup\":\"Calliandra\",\"marker\":{\"color\":\"#EF553B\",\"pattern\":{\"shape\":\"\"}},\"name\":\"Calliandra\",\"offsetgroup\":\"Calliandra\",\"orientation\":\"h\",\"showlegend\":true,\"textposition\":\"auto\",\"x\":[0.42105263157894735],\"xaxis\":\"x\",\"y\":[\"juzepczukii\"],\"yaxis\":\"y\",\"type\":\"bar\"},{\"alignmentgroup\":\"True\",\"customdata\":[[\"Araceae\"]],\"hovertemplate\":\"Genus=Anthurium\\u003cbr\\u003eAccuracy=%{x}\\u003cbr\\u003eSpecies=%{y}\\u003cbr\\u003eFamily=%{customdata[0]}\\u003cextra\\u003e\\u003c\\u002fextra\\u003e\",\"legendgroup\":\"Anthurium\",\"marker\":{\"color\":\"#00cc96\",\"pattern\":{\"shape\":\"\"}},\"name\":\"Anthurium\",\"offsetgroup\":\"Anthurium\",\"orientation\":\"h\",\"showlegend\":true,\"textposition\":\"auto\",\"x\":[0.375],\"xaxis\":\"x\",\"y\":[\"obscurinervium\"],\"yaxis\":\"y\",\"type\":\"bar\"},{\"alignmentgroup\":\"True\",\"customdata\":[[\"Acoraceae\"]],\"hovertemplate\":\"Genus=Acorus\\u003cbr\\u003eAccuracy=%{x}\\u003cbr\\u003eSpecies=%{y}\\u003cbr\\u003eFamily=%{customdata[0]}\\u003cextra\\u003e\\u003c\\u002fextra\\u003e\",\"legendgroup\":\"Acorus\",\"marker\":{\"color\":\"#ab63fa\",\"pattern\":{\"shape\":\"\"}},\"name\":\"Acorus\",\"offsetgroup\":\"Acorus\",\"orientation\":\"h\",\"showlegend\":true,\"textposition\":\"auto\",\"x\":[0.36486486486486486],\"xaxis\":\"x\",\"y\":[\"calamus\"],\"yaxis\":\"y\",\"type\":\"bar\"},{\"alignmentgroup\":\"True\",\"customdata\":[[\"Araceae\"]],\"hovertemplate\":\"Genus=Monstera\\u003cbr\\u003eAccuracy=%{x}\\u003cbr\\u003eSpecies=%{y}\\u003cbr\\u003eFamily=%{customdata[0]}\\u003cextra\\u003e\\u003c\\u002fextra\\u003e\",\"legendgroup\":\"Monstera\",\"marker\":{\"color\":\"#FFA15A\",\"pattern\":{\"shape\":\"\"}},\"name\":\"Monstera\",\"offsetgroup\":\"Monstera\",\"orientation\":\"h\",\"showlegend\":true,\"textposition\":\"auto\",\"x\":[0.3404255319148936],\"xaxis\":\"x\",\"y\":[\"deliciosa\"],\"yaxis\":\"y\",\"type\":\"bar\"},{\"alignmentgroup\":\"True\",\"customdata\":[[\"Cyperaceae\"]],\"hovertemplate\":\"Genus=Cyperus\\u003cbr\\u003eAccuracy=%{x}\\u003cbr\\u003eSpecies=%{y}\\u003cbr\\u003eFamily=%{customdata[0]}\\u003cextra\\u003e\\u003c\\u002fextra\\u003e\",\"legendgroup\":\"Cyperus\",\"marker\":{\"color\":\"#19d3f3\",\"pattern\":{\"shape\":\"\"}},\"name\":\"Cyperus\",\"offsetgroup\":\"Cyperus\",\"orientation\":\"h\",\"showlegend\":true,\"textposition\":\"auto\",\"x\":[0.3283582089552239],\"xaxis\":\"x\",\"y\":[\"lancastriensis\"],\"yaxis\":\"y\",\"type\":\"bar\"},{\"alignmentgroup\":\"True\",\"customdata\":[[\"Onagraceae\"]],\"hovertemplate\":\"Genus=Fuchsia\\u003cbr\\u003eAccuracy=%{x}\\u003cbr\\u003eSpecies=%{y}\\u003cbr\\u003eFamily=%{customdata[0]}\\u003cextra\\u003e\\u003c\\u002fextra\\u003e\",\"legendgroup\":\"Fuchsia\",\"marker\":{\"color\":\"#FF6692\",\"pattern\":{\"shape\":\"\"}},\"name\":\"Fuchsia\",\"offsetgroup\":\"Fuchsia\",\"orientation\":\"h\",\"showlegend\":true,\"textposition\":\"auto\",\"x\":[0.3076923076923077],\"xaxis\":\"x\",\"y\":[\"brevilobis\"],\"yaxis\":\"y\",\"type\":\"bar\"},{\"alignmentgroup\":\"True\",\"customdata\":[[\"Cyperaceae\"]],\"hovertemplate\":\"Genus=Carex\\u003cbr\\u003eAccuracy=%{x}\\u003cbr\\u003eSpecies=%{y}\\u003cbr\\u003eFamily=%{customdata[0]}\\u003cextra\\u003e\\u003c\\u002fextra\\u003e\",\"legendgroup\":\"Carex\",\"marker\":{\"color\":\"#B6E880\",\"pattern\":{\"shape\":\"\"}},\"name\":\"Carex\",\"offsetgroup\":\"Carex\",\"orientation\":\"h\",\"showlegend\":true,\"textposition\":\"auto\",\"x\":[0.2857142857142857],\"xaxis\":\"x\",\"y\":[\"kraliana\"],\"yaxis\":\"y\",\"type\":\"bar\"},{\"alignmentgroup\":\"True\",\"customdata\":[[\"Fabaceae\"]],\"hovertemplate\":\"Genus=Sphinctospermum\\u003cbr\\u003eAccuracy=%{x}\\u003cbr\\u003eSpecies=%{y}\\u003cbr\\u003eFamily=%{customdata[0]}\\u003cextra\\u003e\\u003c\\u002fextra\\u003e\",\"legendgroup\":\"Sphinctospermum\",\"marker\":{\"color\":\"#FF97FF\",\"pattern\":{\"shape\":\"\"}},\"name\":\"Sphinctospermum\",\"offsetgroup\":\"Sphinctospermum\",\"orientation\":\"h\",\"showlegend\":true,\"textposition\":\"auto\",\"x\":[0.2777777777777778],\"xaxis\":\"x\",\"y\":[\"constrictum\"],\"yaxis\":\"y\",\"type\":\"bar\"},{\"alignmentgroup\":\"True\",\"customdata\":[[\"Aspleniaceae\"]],\"hovertemplate\":\"Genus=Diplazium\\u003cbr\\u003eAccuracy=%{x}\\u003cbr\\u003eSpecies=%{y}\\u003cbr\\u003eFamily=%{customdata[0]}\\u003cextra\\u003e\\u003c\\u002fextra\\u003e\",\"legendgroup\":\"Diplazium\",\"marker\":{\"color\":\"#FECB52\",\"pattern\":{\"shape\":\"\"}},\"name\":\"Diplazium\",\"offsetgroup\":\"Diplazium\",\"orientation\":\"h\",\"showlegend\":true,\"textposition\":\"auto\",\"x\":[0.2602739726027397],\"xaxis\":\"x\",\"y\":[\"unilobum\"],\"yaxis\":\"y\",\"type\":\"bar\"},{\"alignmentgroup\":\"True\",\"customdata\":[[\"Orchidaceae\"]],\"hovertemplate\":\"Genus=Goodyera\\u003cbr\\u003eAccuracy=%{x}\\u003cbr\\u003eSpecies=%{y}\\u003cbr\\u003eFamily=%{customdata[0]}\\u003cextra\\u003e\\u003c\\u002fextra\\u003e\",\"legendgroup\":\"Goodyera\",\"marker\":{\"color\":\"#636efa\",\"pattern\":{\"shape\":\"\"}},\"name\":\"Goodyera\",\"offsetgroup\":\"Goodyera\",\"orientation\":\"h\",\"showlegend\":true,\"textposition\":\"auto\",\"x\":[0.2564102564102564],\"xaxis\":\"x\",\"y\":[\"tesselata\"],\"yaxis\":\"y\",\"type\":\"bar\"},{\"alignmentgroup\":\"True\",\"customdata\":[[\"Boraginaceae\"]],\"hovertemplate\":\"Genus=Cordia\\u003cbr\\u003eAccuracy=%{x}\\u003cbr\\u003eSpecies=%{y}\\u003cbr\\u003eFamily=%{customdata[0]}\\u003cextra\\u003e\\u003c\\u002fextra\\u003e\",\"legendgroup\":\"Cordia\",\"marker\":{\"color\":\"#EF553B\",\"pattern\":{\"shape\":\"\"}},\"name\":\"Cordia\",\"offsetgroup\":\"Cordia\",\"orientation\":\"h\",\"showlegend\":true,\"textposition\":\"auto\",\"x\":[0.2558139534883721],\"xaxis\":\"x\",\"y\":[\"boissieri\"],\"yaxis\":\"y\",\"type\":\"bar\"},{\"alignmentgroup\":\"True\",\"customdata\":[[\"Pteridaceae\"]],\"hovertemplate\":\"Genus=Hemionitis\\u003cbr\\u003eAccuracy=%{x}\\u003cbr\\u003eSpecies=%{y}\\u003cbr\\u003eFamily=%{customdata[0]}\\u003cextra\\u003e\\u003c\\u002fextra\\u003e\",\"legendgroup\":\"Hemionitis\",\"marker\":{\"color\":\"#00cc96\",\"pattern\":{\"shape\":\"\"}},\"name\":\"Hemionitis\",\"offsetgroup\":\"Hemionitis\",\"orientation\":\"h\",\"showlegend\":true,\"textposition\":\"auto\",\"x\":[0.25],\"xaxis\":\"x\",\"y\":[\"artax\"],\"yaxis\":\"y\",\"type\":\"bar\"},{\"alignmentgroup\":\"True\",\"customdata\":[[\"Nyctaginaceae\"]],\"hovertemplate\":\"Genus=Anulocaulis\\u003cbr\\u003eAccuracy=%{x}\\u003cbr\\u003eSpecies=%{y}\\u003cbr\\u003eFamily=%{customdata[0]}\\u003cextra\\u003e\\u003c\\u002fextra\\u003e\",\"legendgroup\":\"Anulocaulis\",\"marker\":{\"color\":\"#ab63fa\",\"pattern\":{\"shape\":\"\"}},\"name\":\"Anulocaulis\",\"offsetgroup\":\"Anulocaulis\",\"orientation\":\"h\",\"showlegend\":true,\"textposition\":\"auto\",\"x\":[0.25],\"xaxis\":\"x\",\"y\":[\"eriosolenus\"],\"yaxis\":\"y\",\"type\":\"bar\"},{\"alignmentgroup\":\"True\",\"customdata\":[[\"Fabaceae\"]],\"hovertemplate\":\"Genus=Brownea\\u003cbr\\u003eAccuracy=%{x}\\u003cbr\\u003eSpecies=%{y}\\u003cbr\\u003eFamily=%{customdata[0]}\\u003cextra\\u003e\\u003c\\u002fextra\\u003e\",\"legendgroup\":\"Brownea\",\"marker\":{\"color\":\"#FFA15A\",\"pattern\":{\"shape\":\"\"}},\"name\":\"Brownea\",\"offsetgroup\":\"Brownea\",\"orientation\":\"h\",\"showlegend\":true,\"textposition\":\"auto\",\"x\":[0.25],\"xaxis\":\"x\",\"y\":[\"grandiceps\"],\"yaxis\":\"y\",\"type\":\"bar\"},{\"alignmentgroup\":\"True\",\"customdata\":[[\"Poaceae\"]],\"hovertemplate\":\"Genus=Glyceria\\u003cbr\\u003eAccuracy=%{x}\\u003cbr\\u003eSpecies=%{y}\\u003cbr\\u003eFamily=%{customdata[0]}\\u003cextra\\u003e\\u003c\\u002fextra\\u003e\",\"legendgroup\":\"Glyceria\",\"marker\":{\"color\":\"#19d3f3\",\"pattern\":{\"shape\":\"\"}},\"name\":\"Glyceria\",\"offsetgroup\":\"Glyceria\",\"orientation\":\"h\",\"showlegend\":true,\"textposition\":\"auto\",\"x\":[0.24675324675324675],\"xaxis\":\"x\",\"y\":[\"melicaria\"],\"yaxis\":\"y\",\"type\":\"bar\"},{\"alignmentgroup\":\"True\",\"customdata\":[[\"Primulaceae\"]],\"hovertemplate\":\"Genus=Primula\\u003cbr\\u003eAccuracy=%{x}\\u003cbr\\u003eSpecies=%{y}\\u003cbr\\u003eFamily=%{customdata[0]}\\u003cextra\\u003e\\u003c\\u002fextra\\u003e\",\"legendgroup\":\"Primula\",\"marker\":{\"color\":\"#FF6692\",\"pattern\":{\"shape\":\"\"}},\"name\":\"Primula\",\"offsetgroup\":\"Primula\",\"orientation\":\"h\",\"showlegend\":true,\"textposition\":\"auto\",\"x\":[0.23529411764705882],\"xaxis\":\"x\",\"y\":[\"frenchii\"],\"yaxis\":\"y\",\"type\":\"bar\"},{\"alignmentgroup\":\"True\",\"customdata\":[[\"Rhamnaceae\"]],\"hovertemplate\":\"Genus=Krugiodendron\\u003cbr\\u003eAccuracy=%{x}\\u003cbr\\u003eSpecies=%{y}\\u003cbr\\u003eFamily=%{customdata[0]}\\u003cextra\\u003e\\u003c\\u002fextra\\u003e\",\"legendgroup\":\"Krugiodendron\",\"marker\":{\"color\":\"#B6E880\",\"pattern\":{\"shape\":\"\"}},\"name\":\"Krugiodendron\",\"offsetgroup\":\"Krugiodendron\",\"orientation\":\"h\",\"showlegend\":true,\"textposition\":\"auto\",\"x\":[0.22666666666666666],\"xaxis\":\"x\",\"y\":[\"ferreum\"],\"yaxis\":\"y\",\"type\":\"bar\"},{\"alignmentgroup\":\"True\",\"customdata\":[[\"Fabaceae\"]],\"hovertemplate\":\"Genus=Astragalus\\u003cbr\\u003eAccuracy=%{x}\\u003cbr\\u003eSpecies=%{y}\\u003cbr\\u003eFamily=%{customdata[0]}\\u003cextra\\u003e\\u003c\\u002fextra\\u003e\",\"legendgroup\":\"Astragalus\",\"marker\":{\"color\":\"#FF97FF\",\"pattern\":{\"shape\":\"\"}},\"name\":\"Astragalus\",\"offsetgroup\":\"Astragalus\",\"orientation\":\"h\",\"showlegend\":true,\"textposition\":\"auto\",\"x\":[0.22],\"xaxis\":\"x\",\"y\":[\"hamiltonii\"],\"yaxis\":\"y\",\"type\":\"bar\"},{\"alignmentgroup\":\"True\",\"customdata\":[[\"Poaceae\"]],\"hovertemplate\":\"Genus=Aristida\\u003cbr\\u003eAccuracy=%{x}\\u003cbr\\u003eSpecies=%{y}\\u003cbr\\u003eFamily=%{customdata[0]}\\u003cextra\\u003e\\u003c\\u002fextra\\u003e\",\"legendgroup\":\"Aristida\",\"marker\":{\"color\":\"#FECB52\",\"pattern\":{\"shape\":\"\"}},\"name\":\"Aristida\",\"offsetgroup\":\"Aristida\",\"orientation\":\"h\",\"showlegend\":true,\"textposition\":\"auto\",\"x\":[0.21333333333333335],\"xaxis\":\"x\",\"y\":[\"hamulosa\"],\"yaxis\":\"y\",\"type\":\"bar\"},{\"alignmentgroup\":\"True\",\"customdata\":[[\"Campanulaceae\"]],\"hovertemplate\":\"Genus=Centropogon\\u003cbr\\u003eAccuracy=%{x}\\u003cbr\\u003eSpecies=%{y}\\u003cbr\\u003eFamily=%{customdata[0]}\\u003cextra\\u003e\\u003c\\u002fextra\\u003e\",\"legendgroup\":\"Centropogon\",\"marker\":{\"color\":\"#636efa\",\"pattern\":{\"shape\":\"\"}},\"name\":\"Centropogon\",\"offsetgroup\":\"Centropogon\",\"orientation\":\"h\",\"showlegend\":true,\"textposition\":\"auto\",\"x\":[0.20454545454545456],\"xaxis\":\"x\",\"y\":[\"granulosus\"],\"yaxis\":\"y\",\"type\":\"bar\"},{\"alignmentgroup\":\"True\",\"customdata\":[[\"Amaryllidaceae\"]],\"hovertemplate\":\"Genus=Hippeastrum\\u003cbr\\u003eAccuracy=%{x}\\u003cbr\\u003eSpecies=%{y}\\u003cbr\\u003eFamily=%{customdata[0]}\\u003cextra\\u003e\\u003c\\u002fextra\\u003e\",\"legendgroup\":\"Hippeastrum\",\"marker\":{\"color\":\"#EF553B\",\"pattern\":{\"shape\":\"\"}},\"name\":\"Hippeastrum\",\"offsetgroup\":\"Hippeastrum\",\"orientation\":\"h\",\"showlegend\":true,\"textposition\":\"auto\",\"x\":[0.2],\"xaxis\":\"x\",\"y\":[\"aulicum\"],\"yaxis\":\"y\",\"type\":\"bar\"},{\"alignmentgroup\":\"True\",\"customdata\":[[\"Vitaceae\"]],\"hovertemplate\":\"Genus=Vitis\\u003cbr\\u003eAccuracy=%{x}\\u003cbr\\u003eSpecies=%{y}\\u003cbr\\u003eFamily=%{customdata[0]}\\u003cextra\\u003e\\u003c\\u002fextra\\u003e\",\"legendgroup\":\"Vitis\",\"marker\":{\"color\":\"#00cc96\",\"pattern\":{\"shape\":\"\"}},\"name\":\"Vitis\",\"offsetgroup\":\"Vitis\",\"orientation\":\"h\",\"showlegend\":true,\"textposition\":\"auto\",\"x\":[0.2],\"xaxis\":\"x\",\"y\":[\"giradiana\"],\"yaxis\":\"y\",\"type\":\"bar\"},{\"alignmentgroup\":\"True\",\"customdata\":[[\"Asparagaceae\"]],\"hovertemplate\":\"Genus=Yucca\\u003cbr\\u003eAccuracy=%{x}\\u003cbr\\u003eSpecies=%{y}\\u003cbr\\u003eFamily=%{customdata[0]}\\u003cextra\\u003e\\u003c\\u002fextra\\u003e\",\"legendgroup\":\"Yucca\",\"marker\":{\"color\":\"#ab63fa\",\"pattern\":{\"shape\":\"\"}},\"name\":\"Yucca\",\"offsetgroup\":\"Yucca\",\"orientation\":\"h\",\"showlegend\":true,\"textposition\":\"auto\",\"x\":[0.1951219512195122],\"xaxis\":\"x\",\"y\":[\"faxoniana\"],\"yaxis\":\"y\",\"type\":\"bar\"},{\"alignmentgroup\":\"True\",\"customdata\":[[\"Plantaginaceae\"]],\"hovertemplate\":\"Genus=Angelonia\\u003cbr\\u003eAccuracy=%{x}\\u003cbr\\u003eSpecies=%{y}\\u003cbr\\u003eFamily=%{customdata[0]}\\u003cextra\\u003e\\u003c\\u002fextra\\u003e\",\"legendgroup\":\"Angelonia\",\"marker\":{\"color\":\"#FFA15A\",\"pattern\":{\"shape\":\"\"}},\"name\":\"Angelonia\",\"offsetgroup\":\"Angelonia\",\"orientation\":\"h\",\"showlegend\":true,\"textposition\":\"auto\",\"x\":[0.19402985074626866],\"xaxis\":\"x\",\"y\":[\"salicariifolia\"],\"yaxis\":\"y\",\"type\":\"bar\"},{\"alignmentgroup\":\"True\",\"customdata\":[[\"Zamiaceae\"]],\"hovertemplate\":\"Genus=Ceratozamia\\u003cbr\\u003eAccuracy=%{x}\\u003cbr\\u003eSpecies=%{y}\\u003cbr\\u003eFamily=%{customdata[0]}\\u003cextra\\u003e\\u003c\\u002fextra\\u003e\",\"legendgroup\":\"Ceratozamia\",\"marker\":{\"color\":\"#19d3f3\",\"pattern\":{\"shape\":\"\"}},\"name\":\"Ceratozamia\",\"offsetgroup\":\"Ceratozamia\",\"orientation\":\"h\",\"showlegend\":true,\"textposition\":\"auto\",\"x\":[0.19230769230769232],\"xaxis\":\"x\",\"y\":[\"matudae\"],\"yaxis\":\"y\",\"type\":\"bar\"},{\"alignmentgroup\":\"True\",\"customdata\":[[\"Cyperaceae\"]],\"hovertemplate\":\"Genus=Machaerina\\u003cbr\\u003eAccuracy=%{x}\\u003cbr\\u003eSpecies=%{y}\\u003cbr\\u003eFamily=%{customdata[0]}\\u003cextra\\u003e\\u003c\\u002fextra\\u003e\",\"legendgroup\":\"Machaerina\",\"marker\":{\"color\":\"#FF6692\",\"pattern\":{\"shape\":\"\"}},\"name\":\"Machaerina\",\"offsetgroup\":\"Machaerina\",\"orientation\":\"h\",\"showlegend\":true,\"textposition\":\"auto\",\"x\":[0.19230769230769232],\"xaxis\":\"x\",\"y\":[\"restioides\"],\"yaxis\":\"y\",\"type\":\"bar\"},{\"alignmentgroup\":\"True\",\"customdata\":[[\"Polypodiaceae\"]],\"hovertemplate\":\"Genus=Campyloneurum\\u003cbr\\u003eAccuracy=%{x}\\u003cbr\\u003eSpecies=%{y}\\u003cbr\\u003eFamily=%{customdata[0]}\\u003cextra\\u003e\\u003c\\u002fextra\\u003e\",\"legendgroup\":\"Campyloneurum\",\"marker\":{\"color\":\"#B6E880\",\"pattern\":{\"shape\":\"\"}},\"name\":\"Campyloneurum\",\"offsetgroup\":\"Campyloneurum\",\"orientation\":\"h\",\"showlegend\":true,\"textposition\":\"auto\",\"x\":[0.18584070796460178],\"xaxis\":\"x\",\"y\":[\"costatum\"],\"yaxis\":\"y\",\"type\":\"bar\"},{\"alignmentgroup\":\"True\",\"customdata\":[[\"Droseraceae\"]],\"hovertemplate\":\"Genus=Dionaea\\u003cbr\\u003eAccuracy=%{x}\\u003cbr\\u003eSpecies=%{y}\\u003cbr\\u003eFamily=%{customdata[0]}\\u003cextra\\u003e\\u003c\\u002fextra\\u003e\",\"legendgroup\":\"Dionaea\",\"marker\":{\"color\":\"#FF97FF\",\"pattern\":{\"shape\":\"\"}},\"name\":\"Dionaea\",\"offsetgroup\":\"Dionaea\",\"orientation\":\"h\",\"showlegend\":true,\"textposition\":\"auto\",\"x\":[0.18571428571428572],\"xaxis\":\"x\",\"y\":[\"muscipula\"],\"yaxis\":\"y\",\"type\":\"bar\"},{\"alignmentgroup\":\"True\",\"customdata\":[[\"Bromeliaceae\"]],\"hovertemplate\":\"Genus=Acanthostachys\\u003cbr\\u003eAccuracy=%{x}\\u003cbr\\u003eSpecies=%{y}\\u003cbr\\u003eFamily=%{customdata[0]}\\u003cextra\\u003e\\u003c\\u002fextra\\u003e\",\"legendgroup\":\"Acanthostachys\",\"marker\":{\"color\":\"#FECB52\",\"pattern\":{\"shape\":\"\"}},\"name\":\"Acanthostachys\",\"offsetgroup\":\"Acanthostachys\",\"orientation\":\"h\",\"showlegend\":true,\"textposition\":\"auto\",\"x\":[0.1839080459770115],\"xaxis\":\"x\",\"y\":[\"strobilacea\"],\"yaxis\":\"y\",\"type\":\"bar\"}],                        {\"template\":{\"data\":{\"histogram2dcontour\":[{\"type\":\"histogram2dcontour\",\"colorbar\":{\"outlinewidth\":0,\"ticks\":\"\"},\"colorscale\":[[0.0,\"#0d0887\"],[0.1111111111111111,\"#46039f\"],[0.2222222222222222,\"#7201a8\"],[0.3333333333333333,\"#9c179e\"],[0.4444444444444444,\"#bd3786\"],[0.5555555555555556,\"#d8576b\"],[0.6666666666666666,\"#ed7953\"],[0.7777777777777778,\"#fb9f3a\"],[0.8888888888888888,\"#fdca26\"],[1.0,\"#f0f921\"]]}],\"choropleth\":[{\"type\":\"choropleth\",\"colorbar\":{\"outlinewidth\":0,\"ticks\":\"\"}}],\"histogram2d\":[{\"type\":\"histogram2d\",\"colorbar\":{\"outlinewidth\":0,\"ticks\":\"\"},\"colorscale\":[[0.0,\"#0d0887\"],[0.1111111111111111,\"#46039f\"],[0.2222222222222222,\"#7201a8\"],[0.3333333333333333,\"#9c179e\"],[0.4444444444444444,\"#bd3786\"],[0.5555555555555556,\"#d8576b\"],[0.6666666666666666,\"#ed7953\"],[0.7777777777777778,\"#fb9f3a\"],[0.8888888888888888,\"#fdca26\"],[1.0,\"#f0f921\"]]}],\"heatmap\":[{\"type\":\"heatmap\",\"colorbar\":{\"outlinewidth\":0,\"ticks\":\"\"},\"colorscale\":[[0.0,\"#0d0887\"],[0.1111111111111111,\"#46039f\"],[0.2222222222222222,\"#7201a8\"],[0.3333333333333333,\"#9c179e\"],[0.4444444444444444,\"#bd3786\"],[0.5555555555555556,\"#d8576b\"],[0.6666666666666666,\"#ed7953\"],[0.7777777777777778,\"#fb9f3a\"],[0.8888888888888888,\"#fdca26\"],[1.0,\"#f0f921\"]]}],\"heatmapgl\":[{\"type\":\"heatmapgl\",\"colorbar\":{\"outlinewidth\":0,\"ticks\":\"\"},\"colorscale\":[[0.0,\"#0d0887\"],[0.1111111111111111,\"#46039f\"],[0.2222222222222222,\"#7201a8\"],[0.3333333333333333,\"#9c179e\"],[0.4444444444444444,\"#bd3786\"],[0.5555555555555556,\"#d8576b\"],[0.6666666666666666,\"#ed7953\"],[0.7777777777777778,\"#fb9f3a\"],[0.8888888888888888,\"#fdca26\"],[1.0,\"#f0f921\"]]}],\"contourcarpet\":[{\"type\":\"contourcarpet\",\"colorbar\":{\"outlinewidth\":0,\"ticks\":\"\"}}],\"contour\":[{\"type\":\"contour\",\"colorbar\":{\"outlinewidth\":0,\"ticks\":\"\"},\"colorscale\":[[0.0,\"#0d0887\"],[0.1111111111111111,\"#46039f\"],[0.2222222222222222,\"#7201a8\"],[0.3333333333333333,\"#9c179e\"],[0.4444444444444444,\"#bd3786\"],[0.5555555555555556,\"#d8576b\"],[0.6666666666666666,\"#ed7953\"],[0.7777777777777778,\"#fb9f3a\"],[0.8888888888888888,\"#fdca26\"],[1.0,\"#f0f921\"]]}],\"surface\":[{\"type\":\"surface\",\"colorbar\":{\"outlinewidth\":0,\"ticks\":\"\"},\"colorscale\":[[0.0,\"#0d0887\"],[0.1111111111111111,\"#46039f\"],[0.2222222222222222,\"#7201a8\"],[0.3333333333333333,\"#9c179e\"],[0.4444444444444444,\"#bd3786\"],[0.5555555555555556,\"#d8576b\"],[0.6666666666666666,\"#ed7953\"],[0.7777777777777778,\"#fb9f3a\"],[0.8888888888888888,\"#fdca26\"],[1.0,\"#f0f921\"]]}],\"mesh3d\":[{\"type\":\"mesh3d\",\"colorbar\":{\"outlinewidth\":0,\"ticks\":\"\"}}],\"scatter\":[{\"fillpattern\":{\"fillmode\":\"overlay\",\"size\":10,\"solidity\":0.2},\"type\":\"scatter\"}],\"parcoords\":[{\"type\":\"parcoords\",\"line\":{\"colorbar\":{\"outlinewidth\":0,\"ticks\":\"\"}}}],\"scatterpolargl\":[{\"type\":\"scatterpolargl\",\"marker\":{\"colorbar\":{\"outlinewidth\":0,\"ticks\":\"\"}}}],\"bar\":[{\"error_x\":{\"color\":\"#2a3f5f\"},\"error_y\":{\"color\":\"#2a3f5f\"},\"marker\":{\"line\":{\"color\":\"#E5ECF6\",\"width\":0.5},\"pattern\":{\"fillmode\":\"overlay\",\"size\":10,\"solidity\":0.2}},\"type\":\"bar\"}],\"scattergeo\":[{\"type\":\"scattergeo\",\"marker\":{\"colorbar\":{\"outlinewidth\":0,\"ticks\":\"\"}}}],\"scatterpolar\":[{\"type\":\"scatterpolar\",\"marker\":{\"colorbar\":{\"outlinewidth\":0,\"ticks\":\"\"}}}],\"histogram\":[{\"marker\":{\"pattern\":{\"fillmode\":\"overlay\",\"size\":10,\"solidity\":0.2}},\"type\":\"histogram\"}],\"scattergl\":[{\"type\":\"scattergl\",\"marker\":{\"colorbar\":{\"outlinewidth\":0,\"ticks\":\"\"}}}],\"scatter3d\":[{\"type\":\"scatter3d\",\"line\":{\"colorbar\":{\"outlinewidth\":0,\"ticks\":\"\"}},\"marker\":{\"colorbar\":{\"outlinewidth\":0,\"ticks\":\"\"}}}],\"scattermapbox\":[{\"type\":\"scattermapbox\",\"marker\":{\"colorbar\":{\"outlinewidth\":0,\"ticks\":\"\"}}}],\"scatterternary\":[{\"type\":\"scatterternary\",\"marker\":{\"colorbar\":{\"outlinewidth\":0,\"ticks\":\"\"}}}],\"scattercarpet\":[{\"type\":\"scattercarpet\",\"marker\":{\"colorbar\":{\"outlinewidth\":0,\"ticks\":\"\"}}}],\"carpet\":[{\"aaxis\":{\"endlinecolor\":\"#2a3f5f\",\"gridcolor\":\"white\",\"linecolor\":\"white\",\"minorgridcolor\":\"white\",\"startlinecolor\":\"#2a3f5f\"},\"baxis\":{\"endlinecolor\":\"#2a3f5f\",\"gridcolor\":\"white\",\"linecolor\":\"white\",\"minorgridcolor\":\"white\",\"startlinecolor\":\"#2a3f5f\"},\"type\":\"carpet\"}],\"table\":[{\"cells\":{\"fill\":{\"color\":\"#EBF0F8\"},\"line\":{\"color\":\"white\"}},\"header\":{\"fill\":{\"color\":\"#C8D4E3\"},\"line\":{\"color\":\"white\"}},\"type\":\"table\"}],\"barpolar\":[{\"marker\":{\"line\":{\"color\":\"#E5ECF6\",\"width\":0.5},\"pattern\":{\"fillmode\":\"overlay\",\"size\":10,\"solidity\":0.2}},\"type\":\"barpolar\"}],\"pie\":[{\"automargin\":true,\"type\":\"pie\"}]},\"layout\":{\"autotypenumbers\":\"strict\",\"colorway\":[\"#636efa\",\"#EF553B\",\"#00cc96\",\"#ab63fa\",\"#FFA15A\",\"#19d3f3\",\"#FF6692\",\"#B6E880\",\"#FF97FF\",\"#FECB52\"],\"font\":{\"color\":\"#2a3f5f\"},\"hovermode\":\"closest\",\"hoverlabel\":{\"align\":\"left\"},\"paper_bgcolor\":\"white\",\"plot_bgcolor\":\"#E5ECF6\",\"polar\":{\"bgcolor\":\"#E5ECF6\",\"angularaxis\":{\"gridcolor\":\"white\",\"linecolor\":\"white\",\"ticks\":\"\"},\"radialaxis\":{\"gridcolor\":\"white\",\"linecolor\":\"white\",\"ticks\":\"\"}},\"ternary\":{\"bgcolor\":\"#E5ECF6\",\"aaxis\":{\"gridcolor\":\"white\",\"linecolor\":\"white\",\"ticks\":\"\"},\"baxis\":{\"gridcolor\":\"white\",\"linecolor\":\"white\",\"ticks\":\"\"},\"caxis\":{\"gridcolor\":\"white\",\"linecolor\":\"white\",\"ticks\":\"\"}},\"coloraxis\":{\"colorbar\":{\"outlinewidth\":0,\"ticks\":\"\"}},\"colorscale\":{\"sequential\":[[0.0,\"#0d0887\"],[0.1111111111111111,\"#46039f\"],[0.2222222222222222,\"#7201a8\"],[0.3333333333333333,\"#9c179e\"],[0.4444444444444444,\"#bd3786\"],[0.5555555555555556,\"#d8576b\"],[0.6666666666666666,\"#ed7953\"],[0.7777777777777778,\"#fb9f3a\"],[0.8888888888888888,\"#fdca26\"],[1.0,\"#f0f921\"]],\"sequentialminus\":[[0.0,\"#0d0887\"],[0.1111111111111111,\"#46039f\"],[0.2222222222222222,\"#7201a8\"],[0.3333333333333333,\"#9c179e\"],[0.4444444444444444,\"#bd3786\"],[0.5555555555555556,\"#d8576b\"],[0.6666666666666666,\"#ed7953\"],[0.7777777777777778,\"#fb9f3a\"],[0.8888888888888888,\"#fdca26\"],[1.0,\"#f0f921\"]],\"diverging\":[[0,\"#8e0152\"],[0.1,\"#c51b7d\"],[0.2,\"#de77ae\"],[0.3,\"#f1b6da\"],[0.4,\"#fde0ef\"],[0.5,\"#f7f7f7\"],[0.6,\"#e6f5d0\"],[0.7,\"#b8e186\"],[0.8,\"#7fbc41\"],[0.9,\"#4d9221\"],[1,\"#276419\"]]},\"xaxis\":{\"gridcolor\":\"white\",\"linecolor\":\"white\",\"ticks\":\"\",\"title\":{\"standoff\":15},\"zerolinecolor\":\"white\",\"automargin\":true,\"zerolinewidth\":2},\"yaxis\":{\"gridcolor\":\"white\",\"linecolor\":\"white\",\"ticks\":\"\",\"title\":{\"standoff\":15},\"zerolinecolor\":\"white\",\"automargin\":true,\"zerolinewidth\":2},\"scene\":{\"xaxis\":{\"backgroundcolor\":\"#E5ECF6\",\"gridcolor\":\"white\",\"linecolor\":\"white\",\"showbackground\":true,\"ticks\":\"\",\"zerolinecolor\":\"white\",\"gridwidth\":2},\"yaxis\":{\"backgroundcolor\":\"#E5ECF6\",\"gridcolor\":\"white\",\"linecolor\":\"white\",\"showbackground\":true,\"ticks\":\"\",\"zerolinecolor\":\"white\",\"gridwidth\":2},\"zaxis\":{\"backgroundcolor\":\"#E5ECF6\",\"gridcolor\":\"white\",\"linecolor\":\"white\",\"showbackground\":true,\"ticks\":\"\",\"zerolinecolor\":\"white\",\"gridwidth\":2}},\"shapedefaults\":{\"line\":{\"color\":\"#2a3f5f\"}},\"annotationdefaults\":{\"arrowcolor\":\"#2a3f5f\",\"arrowhead\":0,\"arrowwidth\":1},\"geo\":{\"bgcolor\":\"white\",\"landcolor\":\"#E5ECF6\",\"subunitcolor\":\"white\",\"showland\":true,\"showlakes\":true,\"lakecolor\":\"white\"},\"title\":{\"x\":0.05},\"mapbox\":{\"style\":\"light\"}}},\"xaxis\":{\"anchor\":\"y\",\"domain\":[0.0,1.0],\"title\":{\"text\":\"Accuracy\"}},\"yaxis\":{\"anchor\":\"x\",\"domain\":[0.0,1.0],\"title\":{\"text\":\"Species\"},\"categoryorder\":\"total ascending\"},\"legend\":{\"title\":{\"text\":\"Genus\"},\"tracegroupgap\":0},\"title\":{\"text\":\"Top 30 Species By Accuracy\"},\"barmode\":\"stack\"},                        {\"responsive\": true}                    ).then(function(){\n",
       "                            \n",
       "var gd = document.getElementById('112423e9-5304-4610-911a-880629b4307b');\n",
       "var x = new MutationObserver(function (mutations, observer) {{\n",
       "        var display = window.getComputedStyle(gd).display;\n",
       "        if (!display || display === 'none') {{\n",
       "            console.log([gd, 'removed!']);\n",
       "            Plotly.purge(gd);\n",
       "            observer.disconnect();\n",
       "        }}\n",
       "}});\n",
       "\n",
       "// Listen for the removal of the full notebook cells\n",
       "var notebookContainer = gd.closest('#notebook-container');\n",
       "if (notebookContainer) {{\n",
       "    x.observe(notebookContainer, {childList: true});\n",
       "}}\n",
       "\n",
       "// Listen for the clearing of the current output cell\n",
       "var outputEl = gd.closest('.output');\n",
       "if (outputEl) {{\n",
       "    x.observe(outputEl, {childList: true});\n",
       "}}\n",
       "\n",
       "                        })                };                });            </script>        </div>"
      ]
     },
     "metadata": {},
     "output_type": "display_data"
    }
   ],
   "source": [
    "plot_top_n(correct_species, 30, \"Top 30 Species By Accuracy\", \"species\", horizontal=True, color='lightcoral')"
   ]
  }
 ],
 "metadata": {
  "kernelspec": {
   "display_name": "spring-2024-pyt",
   "language": "python",
   "name": "python3"
  },
  "language_info": {
   "codemirror_mode": {
    "name": "ipython",
    "version": 3
   },
   "file_extension": ".py",
   "mimetype": "text/x-python",
   "name": "python",
   "nbconvert_exporter": "python",
   "pygments_lexer": "ipython3",
   "version": "3.11.6"
  }
 },
 "nbformat": 4,
 "nbformat_minor": 2
}
