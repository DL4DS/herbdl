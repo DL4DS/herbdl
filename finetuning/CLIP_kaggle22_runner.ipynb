{
 "cells": [
  {
   "cell_type": "code",
   "execution_count": 1,
   "metadata": {},
   "outputs": [],
   "source": [
    "import os\n",
    "import json\n",
    "import os\n",
    "import pathlib\n",
    "from typing import Generator\n",
    "import pandas as pd\n",
    "                \n",
    "def convert_text_image_pairs_to_huggingface_json(root_csv, out_json):\n",
    "    # out_folder = os.path.dirname(root_folder)\n",
    "    # pathlib.Path(out_folder).mkdir(parents=True, exist_ok=True)\n",
    "    df = pd.read_csv(root_csv)\n",
    "    root_path = '/projectnb/herbdl/data/kaggle-herbaria/herbarium-2022/train_images/'\n",
    "    with open(out_json, \"w\") as f:\n",
    "        written_count = 0\n",
    "        for index, row in df.iterrows():\n",
    "            line_dict = {\"image\": root_path+row['filename'], \"caption\":row['label']}\n",
    "            json_line = json.dumps(line_dict, indent=None, separators=(\",\",\":\"))\n",
    "            #print(json_line)\n",
    "            f.write(json_line + \"\\n\")\n",
    "            written_count += 1\n",
    "        print(f\"wrote {written_count} lines to {out_json}\")"
   ]
  },
  {
   "cell_type": "markdown",
   "metadata": {},
   "source": [
    "## Convert the data folder of text/image pairs to a huggingface dataset-compatible json"
   ]
  },
  {
   "cell_type": "markdown",
   "metadata": {},
   "source": [
    "Replace `root_folder` in the next cell with the top-level folder containing your images, and `out_json` with a path to where the json file representing the image/caption pairs in that folder should be saved.\n",
    "\n",
    "Note this only works with pairs of the form `filename.jpg`/`filename.txt` or `filename.jpeg`/`filename.txt`."
   ]
  },
  {
   "cell_type": "code",
   "execution_count": 4,
   "metadata": {},
   "outputs": [],
   "source": [
    "root_csv = \"/projectnb/herbdl/data/kaggle-herbaria/train_2022_labeled.csv\"\n",
    "out_json = \"/projectnb/herbdl/workspaces/smritis/finetuning/training/pairs.json\"\n",
    "# convert_text_image_pairs_to_huggingface_json(root_csv, out_json)"
   ]
  },
  {
   "cell_type": "markdown",
   "metadata": {},
   "source": [
    "Test that it worked by running the following cell:"
   ]
  },
  {
   "cell_type": "code",
   "execution_count": 5,
   "metadata": {},
   "outputs": [
    {
     "name": "stdout",
     "output_type": "stream",
     "text": [
      "first image: /projectnb/herbdl/data/kaggle-herbaria/herbarium-2022/train_images/000/00/00000__001.jpg, caption: 'This is an image of species amabilis, in the genus Abies of family Pinaceae. It is part of the collection of institution A.'\n"
     ]
    }
   ],
   "source": [
    "# test loading it back in\n",
    "from datasets import load_dataset\n",
    "dataset = load_dataset(\"json\", data_files=out_json)\n",
    "print(f\"first image: {dataset['train'][0]['image']}, caption: '{dataset['train'][0]['caption']}'\")"
   ]
  },
  {
   "cell_type": "markdown",
   "metadata": {},
   "source": [
    "## Run the finetuning\n",
    "\n",
    "### Configuration\n",
    "\n",
    "`repo_id` - The starting point for finetuning. By default this uses the `openai/clip-vit-large-patch14-336` pre-trained CLIP weights. This is what Stable Diffusion versions up to 1.5 used. Another option you might want to consider is `laion/CLIP-ViT-H-14-laion2B-s32B-b79K`, which was used for Stable Diffusion 2.0 onwards.\n",
    "\n",
    "`output_folder` - Where to store the output. The saving process writes multiple files to this folder, so it should be empty.\n",
    "\n",
    "`batch_size` - Training batch size. Don't go lower than 8 - try 32 or 64 (unless you only have a few images).\n",
    "\n",
    "`num_train_epochs` - How many epochs to train. With <500 images each epoch on a 3090 takes a few minutes - do a small number, say `3` to start with, and check the loss when it's done before increasing the number of epochs. With 3 epochs my loss went down to around 2. After 10 epochs it was down to 0.63. Be careful not to over-fit."
   ]
  },
  {
   "cell_type": "code",
   "execution_count": 6,
   "metadata": {},
   "outputs": [],
   "source": [
    "repo_id =  \"openai/clip-vit-large-patch14-336\"\n",
    "output_folder = \"/projectnb/herbdl/workspaces/smritis/finetuning/output/finetuned-kaggle-2022\"\n",
    "batch_size = 8\n",
    "num_train_epochs = 1"
   ]
  },
  {
   "cell_type": "code",
   "execution_count": 7,
   "metadata": {},
   "outputs": [
    {
     "name": "stdout",
     "output_type": "stream",
     "text": [
      "Finetuning openai/clip-vit-large-patch14-336 for 1 epochs with batch size 8, and then saving output to /projectnb/herbdl/workspaces/smritis/finetuning/output/finetuned-kaggle-2022.\n",
      "05/28/2024 15:06:35 - WARNING - __main__ - Process rank: 0, device: cuda:0, n_gpu: 1distributed training: True, 16-bits training: False\n",
      "/projectnb/herbdl/workspaces/smritis/.venv/lib/python3.10/site-packages/datasets/load.py:2547: FutureWarning: 'use_auth_token' was deprecated in favor of 'token' in version 2.14.0 and will be removed in 3.0.0.\n",
      "You can remove this warning by passing 'token=<use_auth_token>' instead.\n",
      "  warnings.warn(\n",
      "/projectnb/herbdl/workspaces/smritis/.venv/lib/python3.10/site-packages/transformers/models/clip/feature_extraction_clip.py:28: FutureWarning: The class CLIPFeatureExtractor is deprecated and will be removed in version 5 of Transformers. Please use CLIPImageProcessor instead.\n",
      "  warnings.warn(\n",
      "Filter:  29%|█████▏            | 243000/839772 [41:05<2:18:10, 71.98 examples/s]^C\n",
      "Filter:  29%|█████▏            | 243000/839772 [41:11<1:41:08, 98.34 examples/s]\n",
      "Traceback (most recent call last):\n",
      "  File \"/projectnb/herbdl/workspaces/smritis/finetuning/CLIP_finetuning.py\", line 537, in <module>\n",
      "    main()\n",
      "  File \"/projectnb/herbdl/workspaces/smritis/finetuning/CLIP_finetuning.py\", line 431, in main\n",
      "    train_dataset = train_dataset.filter(\n",
      "  File \"/projectnb/herbdl/workspaces/smritis/.venv/lib/python3.10/site-packages/datasets/arrow_dataset.py\", line 567, in wrapper\n",
      "    out: Union[\"Dataset\", \"DatasetDict\"] = func(self, *args, **kwargs)\n",
      "  File \"/projectnb/herbdl/workspaces/smritis/.venv/lib/python3.10/site-packages/datasets/fingerprint.py\", line 482, in wrapper\n",
      "    out = func(dataset, *args, **kwargs)\n",
      "  File \"/projectnb/herbdl/workspaces/smritis/.venv/lib/python3.10/site-packages/datasets/arrow_dataset.py\", line 3709, in filter\n",
      "    indices = self.map(\n",
      "  File \"/projectnb/herbdl/workspaces/smritis/.venv/lib/python3.10/site-packages/datasets/arrow_dataset.py\", line 602, in wrapper\n",
      "    out: Union[\"Dataset\", \"DatasetDict\"] = func(self, *args, **kwargs)\n",
      "  File \"/projectnb/herbdl/workspaces/smritis/.venv/lib/python3.10/site-packages/datasets/arrow_dataset.py\", line 567, in wrapper\n",
      "    out: Union[\"Dataset\", \"DatasetDict\"] = func(self, *args, **kwargs)\n",
      "  File \"/projectnb/herbdl/workspaces/smritis/.venv/lib/python3.10/site-packages/datasets/arrow_dataset.py\", line 3156, in map\n",
      "    for rank, done, content in Dataset._map_single(**dataset_kwargs):\n",
      "  File \"/projectnb/herbdl/workspaces/smritis/.venv/lib/python3.10/site-packages/datasets/arrow_dataset.py\", line 3547, in _map_single\n",
      "    batch = apply_function_on_filtered_inputs(\n",
      "  File \"/projectnb/herbdl/workspaces/smritis/.venv/lib/python3.10/site-packages/datasets/arrow_dataset.py\", line 3416, in apply_function_on_filtered_inputs\n",
      "    processed_inputs = function(*fn_args, *additional_args, **fn_kwargs)\n",
      "  File \"/projectnb/herbdl/workspaces/smritis/.venv/lib/python3.10/site-packages/datasets/arrow_dataset.py\", line 6460, in get_indices_from_mask_function\n",
      "    mask = function(*inputs, *additional_args, **fn_kwargs)\n",
      "  File \"/projectnb/herbdl/workspaces/smritis/finetuning/CLIP_finetuning.py\", line 417, in filter_corrupt_images\n",
      "    Image.open(image_file)\n",
      "  File \"/projectnb/herbdl/workspaces/smritis/.venv/lib/python3.10/site-packages/PIL/Image.py\", line 3286, in open\n",
      "    prefix = fp.read(16)\n",
      "KeyboardInterrupt\n",
      "--\n",
      "DONE\n",
      "If it worked, trained data should be in /projectnb/herbdl/workspaces/smritis/finetuning/output/finetuned-kaggle-2022\n"
     ]
    }
   ],
   "source": [
    "print(f\"Finetuning {repo_id} for {num_train_epochs} epochs with batch size {batch_size}, and then saving output to {output_folder}.\")\n",
    "!python CLIP_finetuning.py \\\n",
    "    --output_dir {output_folder} \\\n",
    "    --model_name_or_path {repo_id} \\\n",
    "    --train_file {out_json} \\\n",
    "    --image_column image \\\n",
    "    --overwrite_output_dir=True \\\n",
    "    --max_seq_length=77 \\\n",
    "    --num_train_epochs={num_train_epochs} \\\n",
    "    --caption_column caption \\\n",
    "    --remove_unused_columns=False \\\n",
    "    --do_train \\\n",
    "    --per_device_train_batch_size={batch_size} \\\n",
    "    --learning_rate=\"5e-5\" --warmup_steps=\"0\" --weight_decay 0.1 \n",
    "print(\"--\\nDONE\")\n",
    "print(f\"If it worked, trained data should be in {output_folder}\")"
   ]
  },
  {
   "cell_type": "markdown",
   "metadata": {},
   "source": [
    "If it all worked, your finetuned CLIP model is in the `output_folder` defined above."
   ]
  },
  {
   "cell_type": "code",
   "execution_count": null,
   "metadata": {},
   "outputs": [],
   "source": []
  }
 ],
 "metadata": {
  "kernelspec": {
   "display_name": "venv",
   "language": "python",
   "name": "venv"
  },
  "language_info": {
   "codemirror_mode": {
    "name": "ipython",
    "version": 3
   },
   "file_extension": ".py",
   "mimetype": "text/x-python",
   "name": "python",
   "nbconvert_exporter": "python",
   "pygments_lexer": "ipython3",
   "version": "3.10.12"
  },
  "orig_nbformat": 4
 },
 "nbformat": 4,
 "nbformat_minor": 2
}
