{
 "cells": [
  {
   "cell_type": "code",
   "execution_count": 30,
   "metadata": {},
   "outputs": [
    {
     "data": {
      "text/html": [
       "<div>\n",
       "<style scoped>\n",
       "    .dataframe tbody tr th:only-of-type {\n",
       "        vertical-align: middle;\n",
       "    }\n",
       "\n",
       "    .dataframe tbody tr th {\n",
       "        vertical-align: top;\n",
       "    }\n",
       "\n",
       "    .dataframe thead th {\n",
       "        text-align: right;\n",
       "    }\n",
       "</style>\n",
       "<table border=\"1\" class=\"dataframe\">\n",
       "  <thead>\n",
       "    <tr style=\"text-align: right;\">\n",
       "      <th></th>\n",
       "      <th>image_id</th>\n",
       "      <th>filename</th>\n",
       "      <th>label</th>\n",
       "      <th>species</th>\n",
       "      <th>genus</th>\n",
       "      <th>family</th>\n",
       "    </tr>\n",
       "  </thead>\n",
       "  <tbody>\n",
       "    <tr>\n",
       "      <th>0</th>\n",
       "      <td>00000__001</td>\n",
       "      <td>000/00/00000__001.jpg</td>\n",
       "      <td>This is an image of species amabilis, in the g...</td>\n",
       "      <td>amabilis</td>\n",
       "      <td>Abies</td>\n",
       "      <td>Pinaceae</td>\n",
       "    </tr>\n",
       "    <tr>\n",
       "      <th>1</th>\n",
       "      <td>00000__002</td>\n",
       "      <td>000/00/00000__002.jpg</td>\n",
       "      <td>This is an image of species amabilis, in the g...</td>\n",
       "      <td>amabilis</td>\n",
       "      <td>Abies</td>\n",
       "      <td>Pinaceae</td>\n",
       "    </tr>\n",
       "    <tr>\n",
       "      <th>2</th>\n",
       "      <td>00000__003</td>\n",
       "      <td>000/00/00000__003.jpg</td>\n",
       "      <td>This is an image of species amabilis, in the g...</td>\n",
       "      <td>amabilis</td>\n",
       "      <td>Abies</td>\n",
       "      <td>Pinaceae</td>\n",
       "    </tr>\n",
       "    <tr>\n",
       "      <th>3</th>\n",
       "      <td>00000__004</td>\n",
       "      <td>000/00/00000__004.jpg</td>\n",
       "      <td>This is an image of species amabilis, in the g...</td>\n",
       "      <td>amabilis</td>\n",
       "      <td>Abies</td>\n",
       "      <td>Pinaceae</td>\n",
       "    </tr>\n",
       "    <tr>\n",
       "      <th>4</th>\n",
       "      <td>00000__005</td>\n",
       "      <td>000/00/00000__005.jpg</td>\n",
       "      <td>This is an image of species amabilis, in the g...</td>\n",
       "      <td>amabilis</td>\n",
       "      <td>Abies</td>\n",
       "      <td>Pinaceae</td>\n",
       "    </tr>\n",
       "  </tbody>\n",
       "</table>\n",
       "</div>"
      ],
      "text/plain": [
       "     image_id               filename  \\\n",
       "0  00000__001  000/00/00000__001.jpg   \n",
       "1  00000__002  000/00/00000__002.jpg   \n",
       "2  00000__003  000/00/00000__003.jpg   \n",
       "3  00000__004  000/00/00000__004.jpg   \n",
       "4  00000__005  000/00/00000__005.jpg   \n",
       "\n",
       "                                               label   species  genus  \\\n",
       "0  This is an image of species amabilis, in the g...  amabilis  Abies   \n",
       "1  This is an image of species amabilis, in the g...  amabilis  Abies   \n",
       "2  This is an image of species amabilis, in the g...  amabilis  Abies   \n",
       "3  This is an image of species amabilis, in the g...  amabilis  Abies   \n",
       "4  This is an image of species amabilis, in the g...  amabilis  Abies   \n",
       "\n",
       "     family  \n",
       "0  Pinaceae  \n",
       "1  Pinaceae  \n",
       "2  Pinaceae  \n",
       "3  Pinaceae  \n",
       "4  Pinaceae  "
      ]
     },
     "execution_count": 30,
     "metadata": {},
     "output_type": "execute_result"
    }
   ],
   "source": [
    "import pandas as pd\n",
    "import numpy as np\n",
    "\n",
    "df = pd.read_csv(\"/projectnb/herbdl/data/kaggle-herbaria/train_2022_labeled.csv\").drop(columns=[\"Unnamed: 0\"])\n",
    "df.head()"
   ]
  },
  {
   "cell_type": "code",
   "execution_count": 31,
   "metadata": {},
   "outputs": [],
   "source": [
    "# df.to_csv(\"/projectnb/herbdl/data/kaggle-herbaria/train_2022_labeled.csv\")"
   ]
  },
  {
   "cell_type": "code",
   "execution_count": 32,
   "metadata": {},
   "outputs": [
    {
     "data": {
      "text/plain": [
       "15501"
      ]
     },
     "execution_count": 32,
     "metadata": {},
     "output_type": "execute_result"
    }
   ],
   "source": [
    "df['label'] = df['family'] + ' ' + df['genus'] + ' ' + df['species']\n",
    "# df.drop(columns=['species', 'genus', 'family'], inplace=True)\n",
    "df['label'].nunique()"
   ]
  },
  {
   "cell_type": "code",
   "execution_count": 33,
   "metadata": {},
   "outputs": [
    {
     "data": {
      "text/html": [
       "<div>\n",
       "<style scoped>\n",
       "    .dataframe tbody tr th:only-of-type {\n",
       "        vertical-align: middle;\n",
       "    }\n",
       "\n",
       "    .dataframe tbody tr th {\n",
       "        vertical-align: top;\n",
       "    }\n",
       "\n",
       "    .dataframe thead th {\n",
       "        text-align: right;\n",
       "    }\n",
       "</style>\n",
       "<table border=\"1\" class=\"dataframe\">\n",
       "  <thead>\n",
       "    <tr style=\"text-align: right;\">\n",
       "      <th></th>\n",
       "      <th>image_id</th>\n",
       "      <th>filename</th>\n",
       "      <th>label</th>\n",
       "      <th>species</th>\n",
       "      <th>genus</th>\n",
       "      <th>family</th>\n",
       "    </tr>\n",
       "  </thead>\n",
       "  <tbody>\n",
       "    <tr>\n",
       "      <th>686446</th>\n",
       "      <td>12640__012</td>\n",
       "      <td>126/40/12640__012.jpg</td>\n",
       "      <td>3150</td>\n",
       "      <td>cordovensis</td>\n",
       "      <td>Roldana</td>\n",
       "      <td>Asteraceae</td>\n",
       "    </tr>\n",
       "    <tr>\n",
       "      <th>83405</th>\n",
       "      <td>01612__004</td>\n",
       "      <td>016/12/01612__004.jpg</td>\n",
       "      <td>7279</td>\n",
       "      <td>sophoroides</td>\n",
       "      <td>Astragalus</td>\n",
       "      <td>Fabaceae</td>\n",
       "    </tr>\n",
       "    <tr>\n",
       "      <th>155613</th>\n",
       "      <td>02962__081</td>\n",
       "      <td>029/62/02962__081.jpg</td>\n",
       "      <td>6101</td>\n",
       "      <td>whitneyi</td>\n",
       "      <td>Carex</td>\n",
       "      <td>Cyperaceae</td>\n",
       "    </tr>\n",
       "    <tr>\n",
       "      <th>455876</th>\n",
       "      <td>08401__098</td>\n",
       "      <td>084/01/08401__098.jpg</td>\n",
       "      <td>9199</td>\n",
       "      <td>philadelphicum</td>\n",
       "      <td>Lilium</td>\n",
       "      <td>Liliaceae</td>\n",
       "    </tr>\n",
       "    <tr>\n",
       "      <th>141438</th>\n",
       "      <td>02707__054</td>\n",
       "      <td>027/07/02707__054.jpg</td>\n",
       "      <td>5846</td>\n",
       "      <td>hoodii</td>\n",
       "      <td>Carex</td>\n",
       "      <td>Cyperaceae</td>\n",
       "    </tr>\n",
       "  </tbody>\n",
       "</table>\n",
       "</div>"
      ],
      "text/plain": [
       "          image_id               filename  label         species       genus  \\\n",
       "686446  12640__012  126/40/12640__012.jpg   3150     cordovensis     Roldana   \n",
       "83405   01612__004  016/12/01612__004.jpg   7279     sophoroides  Astragalus   \n",
       "155613  02962__081  029/62/02962__081.jpg   6101        whitneyi       Carex   \n",
       "455876  08401__098  084/01/08401__098.jpg   9199  philadelphicum      Lilium   \n",
       "141438  02707__054  027/07/02707__054.jpg   5846          hoodii       Carex   \n",
       "\n",
       "            family  \n",
       "686446  Asteraceae  \n",
       "83405     Fabaceae  \n",
       "155613  Cyperaceae  \n",
       "455876   Liliaceae  \n",
       "141438  Cyperaceae  "
      ]
     },
     "execution_count": 33,
     "metadata": {},
     "output_type": "execute_result"
    }
   ],
   "source": [
    "from sklearn.preprocessing import LabelEncoder\n",
    "from sklearn.model_selection import train_test_split\n",
    "\n",
    "le = LabelEncoder()\n",
    "le.fit(df['label'])\n",
    "df['label'] = le.transform(df['label'])\n",
    "\n",
    "train, val = train_test_split(df, test_size=0.2, random_state=42)\n",
    "\n",
    "train.head()\n",
    "\n",
    "#train.to_csv(\"/projectnb/herbdl/data/kaggle-herbaria/train_2022_labeled2.csv\", index=False)\n",
    "#val.to_csv(\"/projectnb/herbdl/data/kaggle-herbaria/val_2022_labeled2.csv\", index=False)\n"
   ]
  },
  {
   "cell_type": "code",
   "execution_count": 34,
   "metadata": {},
   "outputs": [
    {
     "data": {
      "text/html": [
       "<div>\n",
       "<style scoped>\n",
       "    .dataframe tbody tr th:only-of-type {\n",
       "        vertical-align: middle;\n",
       "    }\n",
       "\n",
       "    .dataframe tbody tr th {\n",
       "        vertical-align: top;\n",
       "    }\n",
       "\n",
       "    .dataframe thead th {\n",
       "        text-align: right;\n",
       "    }\n",
       "</style>\n",
       "<table border=\"1\" class=\"dataframe\">\n",
       "  <thead>\n",
       "    <tr style=\"text-align: right;\">\n",
       "      <th></th>\n",
       "      <th>image_id</th>\n",
       "      <th>filename</th>\n",
       "      <th>label</th>\n",
       "      <th>species</th>\n",
       "      <th>genus</th>\n",
       "      <th>family</th>\n",
       "      <th>scientific_name</th>\n",
       "    </tr>\n",
       "  </thead>\n",
       "  <tbody>\n",
       "    <tr>\n",
       "      <th>0</th>\n",
       "      <td>00000__001</td>\n",
       "      <td>000/00/00000__001.jpg</td>\n",
       "      <td>11180</td>\n",
       "      <td>amabilis</td>\n",
       "      <td>Abies</td>\n",
       "      <td>Pinaceae</td>\n",
       "      <td>Abies amabilis</td>\n",
       "    </tr>\n",
       "    <tr>\n",
       "      <th>1</th>\n",
       "      <td>00000__002</td>\n",
       "      <td>000/00/00000__002.jpg</td>\n",
       "      <td>11180</td>\n",
       "      <td>amabilis</td>\n",
       "      <td>Abies</td>\n",
       "      <td>Pinaceae</td>\n",
       "      <td>Abies amabilis</td>\n",
       "    </tr>\n",
       "    <tr>\n",
       "      <th>2</th>\n",
       "      <td>00000__003</td>\n",
       "      <td>000/00/00000__003.jpg</td>\n",
       "      <td>11180</td>\n",
       "      <td>amabilis</td>\n",
       "      <td>Abies</td>\n",
       "      <td>Pinaceae</td>\n",
       "      <td>Abies amabilis</td>\n",
       "    </tr>\n",
       "    <tr>\n",
       "      <th>3</th>\n",
       "      <td>00000__004</td>\n",
       "      <td>000/00/00000__004.jpg</td>\n",
       "      <td>11180</td>\n",
       "      <td>amabilis</td>\n",
       "      <td>Abies</td>\n",
       "      <td>Pinaceae</td>\n",
       "      <td>Abies amabilis</td>\n",
       "    </tr>\n",
       "    <tr>\n",
       "      <th>4</th>\n",
       "      <td>00000__005</td>\n",
       "      <td>000/00/00000__005.jpg</td>\n",
       "      <td>11180</td>\n",
       "      <td>amabilis</td>\n",
       "      <td>Abies</td>\n",
       "      <td>Pinaceae</td>\n",
       "      <td>Abies amabilis</td>\n",
       "    </tr>\n",
       "  </tbody>\n",
       "</table>\n",
       "</div>"
      ],
      "text/plain": [
       "     image_id               filename  label   species  genus    family  \\\n",
       "0  00000__001  000/00/00000__001.jpg  11180  amabilis  Abies  Pinaceae   \n",
       "1  00000__002  000/00/00000__002.jpg  11180  amabilis  Abies  Pinaceae   \n",
       "2  00000__003  000/00/00000__003.jpg  11180  amabilis  Abies  Pinaceae   \n",
       "3  00000__004  000/00/00000__004.jpg  11180  amabilis  Abies  Pinaceae   \n",
       "4  00000__005  000/00/00000__005.jpg  11180  amabilis  Abies  Pinaceae   \n",
       "\n",
       "  scientific_name  \n",
       "0  Abies amabilis  \n",
       "1  Abies amabilis  \n",
       "2  Abies amabilis  \n",
       "3  Abies amabilis  \n",
       "4  Abies amabilis  "
      ]
     },
     "execution_count": 34,
     "metadata": {},
     "output_type": "execute_result"
    }
   ],
   "source": [
    "df['scientific_name'] = df['genus'] + ' ' + df['species']\n",
    "df.head()"
   ]
  },
  {
   "cell_type": "code",
   "execution_count": 35,
   "metadata": {},
   "outputs": [
    {
     "data": {
      "text/plain": [
       "Index(['Gaillardia spathulata', 'Erigeron tener', 'Encelia virginensis',\n",
       "       'Eurybia spectabilis', 'Crepis occidentalis', 'Bidens eatonii',\n",
       "       'Bidens trichosperma', 'Erigeron melanocephalus',\n",
       "       'Heterotheca polothrix', 'Chrysopsis subulata', 'Ageratina jucunda',\n",
       "       'Lygodesmia aphylla', 'Bidens beckii', 'Encelia californica',\n",
       "       'Arnica sororia', 'Erigeron vetensis', 'Dieteria canescens',\n",
       "       'Chrysopsis mariana', 'Antennaria marginata', 'Pityopsis falcata',\n",
       "       'Liatris quadriflora', 'Erigeron vagus', 'Eutrochium dubium',\n",
       "       'Liatris pilosa', 'Garberia heterophylla', 'Eurybia divaricata',\n",
       "       'Hymenoxys hoopesii', 'Crepis intermedia', 'Crepis acuminata',\n",
       "       'Helianthus debilis', 'Thelesperma subnudum', 'Symphyotrichum adnatum',\n",
       "       'Pterocaulon pycnostachyum', 'Symphyotrichum porteri',\n",
       "       'Heterotheca pumila', 'Bidens vulgata', 'Lepidospartum latisquamum',\n",
       "       'Bidens connata', 'Brickellia longifolia', 'Eurybia radula',\n",
       "       'Helianthus pumilus', 'Chaetadelpha wheeleri',\n",
       "       'Carphephorus paniculatus', 'Arnica gracilis',\n",
       "       'Carphephorus odoratissimus', 'Erigeron pulcherrimus',\n",
       "       'Marshallia graminifolia', 'Adenophyllum cooperi',\n",
       "       'Lorandersonia linifolia', 'Packera crocata'],\n",
       "      dtype='object', name='scientific_name')"
      ]
     },
     "execution_count": 35,
     "metadata": {},
     "output_type": "execute_result"
    }
   ],
   "source": [
    "# pick top 50 species from Asteracae family\n",
    "df_asteraceae = df[df['family'] == 'Asteraceae']\n",
    "species_subset = df_asteraceae['scientific_name'].value_counts().head(50).index\n",
    "\n",
    "species_subset"
   ]
  },
  {
   "cell_type": "code",
   "execution_count": 36,
   "metadata": {},
   "outputs": [
    {
     "data": {
      "text/html": [
       "<div>\n",
       "<style scoped>\n",
       "    .dataframe tbody tr th:only-of-type {\n",
       "        vertical-align: middle;\n",
       "    }\n",
       "\n",
       "    .dataframe tbody tr th {\n",
       "        vertical-align: top;\n",
       "    }\n",
       "\n",
       "    .dataframe thead th {\n",
       "        text-align: right;\n",
       "    }\n",
       "</style>\n",
       "<table border=\"1\" class=\"dataframe\">\n",
       "  <thead>\n",
       "    <tr style=\"text-align: right;\">\n",
       "      <th></th>\n",
       "      <th>image_id</th>\n",
       "      <th>filename</th>\n",
       "      <th>label</th>\n",
       "      <th>species</th>\n",
       "      <th>genus</th>\n",
       "      <th>family</th>\n",
       "      <th>scientific_name</th>\n",
       "    </tr>\n",
       "  </thead>\n",
       "  <tbody>\n",
       "    <tr>\n",
       "      <th>0</th>\n",
       "      <td>00153__001</td>\n",
       "      <td>/projectnb/herbdl/data/kaggle-herbaria/herbari...</td>\n",
       "      <td>0</td>\n",
       "      <td>cooperi</td>\n",
       "      <td>Adenophyllum</td>\n",
       "      <td>Asteraceae</td>\n",
       "      <td>Adenophyllum cooperi</td>\n",
       "    </tr>\n",
       "    <tr>\n",
       "      <th>1</th>\n",
       "      <td>00153__002</td>\n",
       "      <td>/projectnb/herbdl/data/kaggle-herbaria/herbari...</td>\n",
       "      <td>0</td>\n",
       "      <td>cooperi</td>\n",
       "      <td>Adenophyllum</td>\n",
       "      <td>Asteraceae</td>\n",
       "      <td>Adenophyllum cooperi</td>\n",
       "    </tr>\n",
       "    <tr>\n",
       "      <th>2</th>\n",
       "      <td>00153__003</td>\n",
       "      <td>/projectnb/herbdl/data/kaggle-herbaria/herbari...</td>\n",
       "      <td>0</td>\n",
       "      <td>cooperi</td>\n",
       "      <td>Adenophyllum</td>\n",
       "      <td>Asteraceae</td>\n",
       "      <td>Adenophyllum cooperi</td>\n",
       "    </tr>\n",
       "    <tr>\n",
       "      <th>3</th>\n",
       "      <td>00153__004</td>\n",
       "      <td>/projectnb/herbdl/data/kaggle-herbaria/herbari...</td>\n",
       "      <td>0</td>\n",
       "      <td>cooperi</td>\n",
       "      <td>Adenophyllum</td>\n",
       "      <td>Asteraceae</td>\n",
       "      <td>Adenophyllum cooperi</td>\n",
       "    </tr>\n",
       "    <tr>\n",
       "      <th>4</th>\n",
       "      <td>00153__005</td>\n",
       "      <td>/projectnb/herbdl/data/kaggle-herbaria/herbari...</td>\n",
       "      <td>0</td>\n",
       "      <td>cooperi</td>\n",
       "      <td>Adenophyllum</td>\n",
       "      <td>Asteraceae</td>\n",
       "      <td>Adenophyllum cooperi</td>\n",
       "    </tr>\n",
       "  </tbody>\n",
       "</table>\n",
       "</div>"
      ],
      "text/plain": [
       "     image_id                                           filename  label  \\\n",
       "0  00153__001  /projectnb/herbdl/data/kaggle-herbaria/herbari...      0   \n",
       "1  00153__002  /projectnb/herbdl/data/kaggle-herbaria/herbari...      0   \n",
       "2  00153__003  /projectnb/herbdl/data/kaggle-herbaria/herbari...      0   \n",
       "3  00153__004  /projectnb/herbdl/data/kaggle-herbaria/herbari...      0   \n",
       "4  00153__005  /projectnb/herbdl/data/kaggle-herbaria/herbari...      0   \n",
       "\n",
       "   species         genus      family       scientific_name  \n",
       "0  cooperi  Adenophyllum  Asteraceae  Adenophyllum cooperi  \n",
       "1  cooperi  Adenophyllum  Asteraceae  Adenophyllum cooperi  \n",
       "2  cooperi  Adenophyllum  Asteraceae  Adenophyllum cooperi  \n",
       "3  cooperi  Adenophyllum  Asteraceae  Adenophyllum cooperi  \n",
       "4  cooperi  Adenophyllum  Asteraceae  Adenophyllum cooperi  "
      ]
     },
     "execution_count": 36,
     "metadata": {},
     "output_type": "execute_result"
    }
   ],
   "source": [
    "astera = df_asteraceae[df_asteraceae['scientific_name'].isin(species_subset)].reset_index(drop=True)\n",
    "\n",
    "# label encode\n",
    "le = LabelEncoder()\n",
    "le.fit(astera['scientific_name'])\n",
    "astera['label'] = le.transform(astera['scientific_name'])\n",
    "\n",
    "astera['filename'] = '/projectnb/herbdl/data/kaggle-herbaria/herbarium-2022/train_images/' + astera['filename']\n",
    "\n",
    "astera.head()"
   ]
  },
  {
   "cell_type": "code",
   "execution_count": 39,
   "metadata": {},
   "outputs": [
    {
     "data": {
      "text/plain": [
       "{0: 'Adenophyllum cooperi',\n",
       " 1: 'Ageratina jucunda',\n",
       " 2: 'Antennaria marginata',\n",
       " 3: 'Arnica gracilis',\n",
       " 4: 'Arnica sororia',\n",
       " 5: 'Bidens beckii',\n",
       " 6: 'Bidens connata',\n",
       " 7: 'Bidens eatonii',\n",
       " 8: 'Bidens trichosperma',\n",
       " 9: 'Bidens vulgata',\n",
       " 10: 'Brickellia longifolia',\n",
       " 11: 'Carphephorus odoratissimus',\n",
       " 12: 'Carphephorus paniculatus',\n",
       " 13: 'Chaetadelpha wheeleri',\n",
       " 14: 'Chrysopsis mariana',\n",
       " 15: 'Chrysopsis subulata',\n",
       " 16: 'Crepis acuminata',\n",
       " 17: 'Crepis intermedia',\n",
       " 18: 'Crepis occidentalis',\n",
       " 19: 'Dieteria canescens',\n",
       " 20: 'Encelia californica',\n",
       " 21: 'Encelia virginensis',\n",
       " 22: 'Erigeron melanocephalus',\n",
       " 23: 'Erigeron pulcherrimus',\n",
       " 24: 'Erigeron tener',\n",
       " 25: 'Erigeron vagus',\n",
       " 26: 'Erigeron vetensis',\n",
       " 27: 'Eurybia divaricata',\n",
       " 28: 'Eurybia radula',\n",
       " 29: 'Eurybia spectabilis',\n",
       " 30: 'Eutrochium dubium',\n",
       " 31: 'Gaillardia spathulata',\n",
       " 32: 'Garberia heterophylla',\n",
       " 33: 'Helianthus debilis',\n",
       " 34: 'Helianthus pumilus',\n",
       " 35: 'Heterotheca polothrix',\n",
       " 36: 'Heterotheca pumila',\n",
       " 37: 'Hymenoxys hoopesii',\n",
       " 38: 'Lepidospartum latisquamum',\n",
       " 39: 'Liatris pilosa',\n",
       " 40: 'Liatris quadriflora',\n",
       " 41: 'Lorandersonia linifolia',\n",
       " 42: 'Lygodesmia aphylla',\n",
       " 43: 'Marshallia graminifolia',\n",
       " 44: 'Packera crocata',\n",
       " 45: 'Pityopsis falcata',\n",
       " 46: 'Pterocaulon pycnostachyum',\n",
       " 47: 'Symphyotrichum adnatum',\n",
       " 48: 'Symphyotrichum porteri',\n",
       " 49: 'Thelesperma subnudum'}"
      ]
     },
     "execution_count": 39,
     "metadata": {},
     "output_type": "execute_result"
    }
   ],
   "source": [
    "# map label to scientific name\n",
    "label_map = astera[['scientific_name', 'label']].drop_duplicates()\n",
    "\n",
    "# turn into dict\n",
    "label_map = label_map.set_index('label').to_dict()['scientific_name']\n",
    "\n",
    "label_map\n"
   ]
  },
  {
   "cell_type": "code",
   "execution_count": 14,
   "metadata": {},
   "outputs": [
    {
     "data": {
      "text/plain": [
       "'/projectnb/herbdl/data/kaggle-herbaria/herbarium-2022/train_images/001/53/00153__001.jpg'"
      ]
     },
     "execution_count": 14,
     "metadata": {},
     "output_type": "execute_result"
    }
   ],
   "source": [
    "astera['filename'][0]"
   ]
  },
  {
   "cell_type": "code",
   "execution_count": 15,
   "metadata": {},
   "outputs": [
    {
     "data": {
      "text/plain": [
       "((3170, 7), (793, 7))"
      ]
     },
     "execution_count": 15,
     "metadata": {},
     "output_type": "execute_result"
    }
   ],
   "source": [
    "train, val = train_test_split(astera, test_size=0.2, random_state=42)\n",
    "\n",
    "train.to_json(\"/projectnb/herbdl/workspaces/faridkar/herbdl/finetuning/datasets/train_astera_50.json\", orient='records', lines=True)\n",
    "val.to_json(\"/projectnb/herbdl/workspaces/faridkar/herbdl/finetuning/datasets/val_astera_50.json\", orient='records', lines=True)\n",
    "\n",
    "train.shape, val.shape"
   ]
  },
  {
   "cell_type": "code",
   "execution_count": 16,
   "metadata": {},
   "outputs": [
    {
     "data": {
      "text/plain": [
       "50"
      ]
     },
     "execution_count": 16,
     "metadata": {},
     "output_type": "execute_result"
    }
   ],
   "source": [
    "train['species'].nunique()"
   ]
  },
  {
   "cell_type": "code",
   "execution_count": 17,
   "metadata": {},
   "outputs": [
    {
     "name": "stdout",
     "output_type": "stream",
     "text": [
      "['Heuchera villosa', 'Thysanocarpus radians', 'Cyperus fuligineus', 'Keckiella breviflora', 'Orthocarpus pachystachyus', 'Scirpus divaricatus', 'Streptanthus flavescens', 'Hirtella rugosa', 'Astragalus leptaleus', 'Arnica sororia']\n"
     ]
    }
   ],
   "source": [
    "df['scientific'] = df['genus'] + ' ' + df['species']\n",
    "print(df.sample(10)['scientific'].tolist())"
   ]
  },
  {
   "cell_type": "code",
   "execution_count": 18,
   "metadata": {},
   "outputs": [
    {
     "name": "stdout",
     "output_type": "stream",
     "text": [
      "Genus: Aphanisma\n",
      "['Aphanisma blitoides', 'Aphanisma blitoides', 'Aphanisma blitoides', 'Aphanisma blitoides', 'Aphanisma blitoides', 'Aphanisma blitoides', 'Aphanisma blitoides', 'Aphanisma blitoides', 'Aphanisma blitoides', 'Aphanisma blitoides']\n",
      "Genus: Cotinus\n",
      "['Cotinus obovatus', 'Cotinus obovatus', 'Cotinus obovatus', 'Cotinus obovatus', 'Cotinus obovatus', 'Cotinus obovatus', 'Cotinus obovatus', 'Cotinus obovatus', 'Cotinus obovatus', 'Cotinus obovatus']\n",
      "Genus: Callianthe\n",
      "['Callianthe pauciflora', 'Callianthe pauciflora', 'Callianthe pauciflora', 'Callianthe pauciflora', 'Callianthe pauciflora', 'Callianthe pauciflora', 'Callianthe pauciflora', 'Callianthe pauciflora', 'Callianthe pauciflora', 'Callianthe pauciflora']\n",
      "Genus: Graptopetalum\n",
      "['Graptopetalum rusbyi', 'Graptopetalum rusbyi', 'Graptopetalum rusbyi', 'Graptopetalum rusbyi', 'Graptopetalum rusbyi', 'Graptopetalum rusbyi', 'Graptopetalum rusbyi', 'Graptopetalum rusbyi', 'Graptopetalum rusbyi', 'Graptopetalum rusbyi']\n",
      "Genus: Calyptranthes\n",
      "['Calyptranthes williamsii', 'Calyptranthes williamsii', 'Calyptranthes williamsii', 'Calyptranthes williamsii', 'Calyptranthes williamsii', 'Calyptranthes williamsii', 'Calyptranthes williamsii', 'Calyptranthes williamsii', 'Calyptranthes williamsii', 'Calyptranthes williamsii']\n",
      "Genus: Roystonea\n",
      "['Roystonea oleracea', 'Roystonea regia', 'Roystonea regia', 'Roystonea regia', 'Roystonea borinquena', 'Roystonea oleracea', 'Roystonea borinquena', 'Roystonea oleracea', 'Roystonea regia', 'Roystonea regia']\n",
      "Genus: Rhododendron\n",
      "['Rhododendron occidentale', 'Rhododendron viscosum', 'Rhododendron groenlandicum', 'Rhododendron periclymenoides', 'Rhododendron atlanticum', 'Rhododendron albiflorum', 'Rhododendron menziesii', 'Rhododendron alabamense', 'Rhododendron macrophyllum', 'Rhododendron atlanticum']\n",
      "Genus: Brachystele\n",
      "['Brachystele guayanensis', 'Brachystele guayanensis', 'Brachystele guayanensis', 'Brachystele guayanensis', 'Brachystele guayanensis', 'Brachystele guayanensis', 'Brachystele guayanensis', 'Brachystele guayanensis', 'Brachystele guayanensis', 'Brachystele guayanensis']\n",
      "Genus: Tetraneuris\n",
      "['Tetraneuris torreyana', 'Tetraneuris turneri', 'Tetraneuris scaposa', 'Tetraneuris ivesiana', 'Tetraneuris scaposa', 'Tetraneuris acaulis', 'Tetraneuris ivesiana', 'Tetraneuris ivesiana', 'Tetraneuris acaulis', 'Tetraneuris ivesiana']\n",
      "Genus: Cardiospermum\n",
      "['Cardiospermum grandiflorum', 'Cardiospermum microcarpum', 'Cardiospermum halicacabum', 'Cardiospermum microcarpum', 'Cardiospermum halicacabum', 'Cardiospermum microcarpum', 'Cardiospermum corindum', 'Cardiospermum microcarpum', 'Cardiospermum corindum', 'Cardiospermum corindum']\n"
     ]
    }
   ],
   "source": [
    "unique_genera = df['genus'].unique()\n",
    "\n",
    "# Sample 10 random genera\n",
    "random_genera = np.random.choice(unique_genera, 10, replace=False)\n",
    "\n",
    "species = []\n",
    "# for each genera, sample 10 random unique species\n",
    "for genus in random_genera:\n",
    "    species_sample = df[df['genus'] == genus].sample(10, replace=False)\n",
    "    print(f\"Genus: {genus}\")\n",
    "    print(species_sample['scientific'].tolist())\n",
    "    species.extend(species_sample['scientific'].tolist())"
   ]
  },
  {
   "cell_type": "code",
   "execution_count": 19,
   "metadata": {},
   "outputs": [
    {
     "name": "stdout",
     "output_type": "stream",
     "text": [
      "['Aphanisma blitoides', 'Aphanisma blitoides', 'Aphanisma blitoides', 'Aphanisma blitoides', 'Aphanisma blitoides', 'Aphanisma blitoides', 'Aphanisma blitoides', 'Aphanisma blitoides', 'Aphanisma blitoides', 'Aphanisma blitoides', 'Cotinus obovatus', 'Cotinus obovatus', 'Cotinus obovatus', 'Cotinus obovatus', 'Cotinus obovatus', 'Cotinus obovatus', 'Cotinus obovatus', 'Cotinus obovatus', 'Cotinus obovatus', 'Cotinus obovatus', 'Callianthe pauciflora', 'Callianthe pauciflora', 'Callianthe pauciflora', 'Callianthe pauciflora', 'Callianthe pauciflora', 'Callianthe pauciflora', 'Callianthe pauciflora', 'Callianthe pauciflora', 'Callianthe pauciflora', 'Callianthe pauciflora', 'Graptopetalum rusbyi', 'Graptopetalum rusbyi', 'Graptopetalum rusbyi', 'Graptopetalum rusbyi', 'Graptopetalum rusbyi', 'Graptopetalum rusbyi', 'Graptopetalum rusbyi', 'Graptopetalum rusbyi', 'Graptopetalum rusbyi', 'Graptopetalum rusbyi', 'Calyptranthes williamsii', 'Calyptranthes williamsii', 'Calyptranthes williamsii', 'Calyptranthes williamsii', 'Calyptranthes williamsii', 'Calyptranthes williamsii', 'Calyptranthes williamsii', 'Calyptranthes williamsii', 'Calyptranthes williamsii', 'Calyptranthes williamsii', 'Roystonea oleracea', 'Roystonea regia', 'Roystonea regia', 'Roystonea regia', 'Roystonea borinquena', 'Roystonea oleracea', 'Roystonea borinquena', 'Roystonea oleracea', 'Roystonea regia', 'Roystonea regia', 'Rhododendron occidentale', 'Rhododendron viscosum', 'Rhododendron groenlandicum', 'Rhododendron periclymenoides', 'Rhododendron atlanticum', 'Rhododendron albiflorum', 'Rhododendron menziesii', 'Rhododendron alabamense', 'Rhododendron macrophyllum', 'Rhododendron atlanticum', 'Brachystele guayanensis', 'Brachystele guayanensis', 'Brachystele guayanensis', 'Brachystele guayanensis', 'Brachystele guayanensis', 'Brachystele guayanensis', 'Brachystele guayanensis', 'Brachystele guayanensis', 'Brachystele guayanensis', 'Brachystele guayanensis', 'Tetraneuris torreyana', 'Tetraneuris turneri', 'Tetraneuris scaposa', 'Tetraneuris ivesiana', 'Tetraneuris scaposa', 'Tetraneuris acaulis', 'Tetraneuris ivesiana', 'Tetraneuris ivesiana', 'Tetraneuris acaulis', 'Tetraneuris ivesiana', 'Cardiospermum grandiflorum', 'Cardiospermum microcarpum', 'Cardiospermum halicacabum', 'Cardiospermum microcarpum', 'Cardiospermum halicacabum', 'Cardiospermum microcarpum', 'Cardiospermum corindum', 'Cardiospermum microcarpum', 'Cardiospermum corindum', 'Cardiospermum corindum']\n"
     ]
    }
   ],
   "source": [
    "print(species)"
   ]
  },
  {
   "cell_type": "code",
   "execution_count": 20,
   "metadata": {},
   "outputs": [
    {
     "name": "stdout",
     "output_type": "stream",
     "text": [
      "(13766, 2)\n"
     ]
    },
    {
     "data": {
      "text/html": [
       "<div>\n",
       "<style scoped>\n",
       "    .dataframe tbody tr th:only-of-type {\n",
       "        vertical-align: middle;\n",
       "    }\n",
       "\n",
       "    .dataframe tbody tr th {\n",
       "        vertical-align: top;\n",
       "    }\n",
       "\n",
       "    .dataframe thead th {\n",
       "        text-align: right;\n",
       "    }\n",
       "</style>\n",
       "<table border=\"1\" class=\"dataframe\">\n",
       "  <thead>\n",
       "    <tr style=\"text-align: right;\">\n",
       "      <th></th>\n",
       "      <th>image</th>\n",
       "      <th>caption</th>\n",
       "    </tr>\n",
       "  </thead>\n",
       "  <tbody>\n",
       "    <tr>\n",
       "      <th>0</th>\n",
       "      <td>/projectnb/herbdl/data/kaggle-herbaria/herbari...</td>\n",
       "      <td>17</td>\n",
       "    </tr>\n",
       "    <tr>\n",
       "      <th>1</th>\n",
       "      <td>/projectnb/herbdl/data/kaggle-herbaria/herbari...</td>\n",
       "      <td>25</td>\n",
       "    </tr>\n",
       "    <tr>\n",
       "      <th>2</th>\n",
       "      <td>/projectnb/herbdl/data/kaggle-herbaria/herbari...</td>\n",
       "      <td>38</td>\n",
       "    </tr>\n",
       "    <tr>\n",
       "      <th>3</th>\n",
       "      <td>/projectnb/herbdl/data/kaggle-herbaria/herbari...</td>\n",
       "      <td>9</td>\n",
       "    </tr>\n",
       "    <tr>\n",
       "      <th>4</th>\n",
       "      <td>/projectnb/herbdl/data/kaggle-herbaria/herbari...</td>\n",
       "      <td>38</td>\n",
       "    </tr>\n",
       "  </tbody>\n",
       "</table>\n",
       "</div>"
      ],
      "text/plain": [
       "                                               image  caption\n",
       "0  /projectnb/herbdl/data/kaggle-herbaria/herbari...       17\n",
       "1  /projectnb/herbdl/data/kaggle-herbaria/herbari...       25\n",
       "2  /projectnb/herbdl/data/kaggle-herbaria/herbari...       38\n",
       "3  /projectnb/herbdl/data/kaggle-herbaria/herbari...        9\n",
       "4  /projectnb/herbdl/data/kaggle-herbaria/herbari...       38"
      ]
     },
     "execution_count": 20,
     "metadata": {},
     "output_type": "execute_result"
    }
   ],
   "source": [
    "path = \"/projectnb/herbdl/workspaces/faridkar/herbdl/finetuning/datasets/val_astera.json\"\n",
    "\n",
    "df_astera = pd.read_json(path, lines=True)\n",
    "print(df_astera.shape)\n",
    "\n",
    "df_astera.head()"
   ]
  },
  {
   "cell_type": "code",
   "execution_count": 21,
   "metadata": {},
   "outputs": [
    {
     "data": {
      "text/plain": [
       "'/projectnb/herbdl/data/kaggle-herbaria/herbarium-2022/train_images/142/59/14259__031.jpg'"
      ]
     },
     "execution_count": 21,
     "metadata": {},
     "output_type": "execute_result"
    }
   ],
   "source": [
    "df_astera['image'][0]"
   ]
  },
  {
   "cell_type": "code",
   "execution_count": 22,
   "metadata": {},
   "outputs": [
    {
     "data": {
      "text/plain": [
       "0        142/59/14259__031.jpg\n",
       "1        086/78/08678__096.jpg\n",
       "2        146/49/14649__053.jpg\n",
       "3        088/23/08823__014.jpg\n",
       "4        041/15/04115__056.jpg\n",
       "                 ...          \n",
       "13761    048/60/04860__009.jpg\n",
       "13762    133/66/13366__054.jpg\n",
       "13763    022/24/02224__015.jpg\n",
       "13764    036/43/03643__067.jpg\n",
       "13765    074/09/07409__024.jpg\n",
       "Name: image, Length: 13766, dtype: object"
      ]
     },
     "execution_count": 22,
     "metadata": {},
     "output_type": "execute_result"
    }
   ],
   "source": [
    "df_astera['image'] = df_astera['image'].apply(lambda x: '/'.join(x.split('/')[-3:]))\n",
    "\n",
    "df_astera['image']"
   ]
  },
  {
   "cell_type": "code",
   "execution_count": 23,
   "metadata": {},
   "outputs": [
    {
     "ename": "KeyboardInterrupt",
     "evalue": "",
     "output_type": "error",
     "traceback": [
      "\u001b[0;31m---------------------------------------------------------------------------\u001b[0m",
      "\u001b[0;31mKeyboardInterrupt\u001b[0m                         Traceback (most recent call last)",
      "Cell \u001b[0;32mIn[23], line 1\u001b[0m\n\u001b[0;32m----> 1\u001b[0m df_astera[\u001b[38;5;124m'\u001b[39m\u001b[38;5;124mfamily\u001b[39m\u001b[38;5;124m'\u001b[39m] \u001b[38;5;241m=\u001b[39m \u001b[43mdf_astera\u001b[49m\u001b[43m[\u001b[49m\u001b[38;5;124;43m'\u001b[39;49m\u001b[38;5;124;43mimage\u001b[39;49m\u001b[38;5;124;43m'\u001b[39;49m\u001b[43m]\u001b[49m\u001b[38;5;241;43m.\u001b[39;49m\u001b[43mapply\u001b[49m\u001b[43m(\u001b[49m\u001b[38;5;28;43;01mlambda\u001b[39;49;00m\u001b[43m \u001b[49m\u001b[43mx\u001b[49m\u001b[43m:\u001b[49m\u001b[43m \u001b[49m\u001b[43mdf\u001b[49m\u001b[43m[\u001b[49m\u001b[43mdf\u001b[49m\u001b[43m[\u001b[49m\u001b[38;5;124;43m'\u001b[39;49m\u001b[38;5;124;43mfilename\u001b[39;49m\u001b[38;5;124;43m'\u001b[39;49m\u001b[43m]\u001b[49m\u001b[38;5;241;43m==\u001b[39;49m\u001b[43mx\u001b[49m\u001b[43m]\u001b[49m\u001b[43m[\u001b[49m\u001b[38;5;124;43m'\u001b[39;49m\u001b[38;5;124;43mfamily\u001b[39;49m\u001b[38;5;124;43m'\u001b[39;49m\u001b[43m]\u001b[49m\u001b[38;5;241;43m.\u001b[39;49m\u001b[43mvalues\u001b[49m\u001b[43m[\u001b[49m\u001b[38;5;241;43m0\u001b[39;49m\u001b[43m]\u001b[49m\u001b[43m)\u001b[49m\n",
      "File \u001b[0;32m/projectnb/herbdl/faridkar/.conda/envs/farid-2024/lib/python3.11/site-packages/pandas/core/series.py:4764\u001b[0m, in \u001b[0;36mSeries.apply\u001b[0;34m(self, func, convert_dtype, args, by_row, **kwargs)\u001b[0m\n\u001b[1;32m   4629\u001b[0m \u001b[38;5;28;01mdef\u001b[39;00m \u001b[38;5;21mapply\u001b[39m(\n\u001b[1;32m   4630\u001b[0m     \u001b[38;5;28mself\u001b[39m,\n\u001b[1;32m   4631\u001b[0m     func: AggFuncType,\n\u001b[0;32m   (...)\u001b[0m\n\u001b[1;32m   4636\u001b[0m     \u001b[38;5;241m*\u001b[39m\u001b[38;5;241m*\u001b[39mkwargs,\n\u001b[1;32m   4637\u001b[0m ) \u001b[38;5;241m-\u001b[39m\u001b[38;5;241m>\u001b[39m DataFrame \u001b[38;5;241m|\u001b[39m Series:\n\u001b[1;32m   4638\u001b[0m \u001b[38;5;250m    \u001b[39m\u001b[38;5;124;03m\"\"\"\u001b[39;00m\n\u001b[1;32m   4639\u001b[0m \u001b[38;5;124;03m    Invoke function on values of Series.\u001b[39;00m\n\u001b[1;32m   4640\u001b[0m \n\u001b[0;32m   (...)\u001b[0m\n\u001b[1;32m   4755\u001b[0m \u001b[38;5;124;03m    dtype: float64\u001b[39;00m\n\u001b[1;32m   4756\u001b[0m \u001b[38;5;124;03m    \"\"\"\u001b[39;00m\n\u001b[1;32m   4757\u001b[0m     \u001b[38;5;28;01mreturn\u001b[39;00m \u001b[43mSeriesApply\u001b[49m\u001b[43m(\u001b[49m\n\u001b[1;32m   4758\u001b[0m \u001b[43m        \u001b[49m\u001b[38;5;28;43mself\u001b[39;49m\u001b[43m,\u001b[49m\n\u001b[1;32m   4759\u001b[0m \u001b[43m        \u001b[49m\u001b[43mfunc\u001b[49m\u001b[43m,\u001b[49m\n\u001b[1;32m   4760\u001b[0m \u001b[43m        \u001b[49m\u001b[43mconvert_dtype\u001b[49m\u001b[38;5;241;43m=\u001b[39;49m\u001b[43mconvert_dtype\u001b[49m\u001b[43m,\u001b[49m\n\u001b[1;32m   4761\u001b[0m \u001b[43m        \u001b[49m\u001b[43mby_row\u001b[49m\u001b[38;5;241;43m=\u001b[39;49m\u001b[43mby_row\u001b[49m\u001b[43m,\u001b[49m\n\u001b[1;32m   4762\u001b[0m \u001b[43m        \u001b[49m\u001b[43margs\u001b[49m\u001b[38;5;241;43m=\u001b[39;49m\u001b[43margs\u001b[49m\u001b[43m,\u001b[49m\n\u001b[1;32m   4763\u001b[0m \u001b[43m        \u001b[49m\u001b[43mkwargs\u001b[49m\u001b[38;5;241;43m=\u001b[39;49m\u001b[43mkwargs\u001b[49m\u001b[43m,\u001b[49m\n\u001b[0;32m-> 4764\u001b[0m \u001b[43m    \u001b[49m\u001b[43m)\u001b[49m\u001b[38;5;241;43m.\u001b[39;49m\u001b[43mapply\u001b[49m\u001b[43m(\u001b[49m\u001b[43m)\u001b[49m\n",
      "File \u001b[0;32m/projectnb/herbdl/faridkar/.conda/envs/farid-2024/lib/python3.11/site-packages/pandas/core/apply.py:1209\u001b[0m, in \u001b[0;36mSeriesApply.apply\u001b[0;34m(self)\u001b[0m\n\u001b[1;32m   1206\u001b[0m     \u001b[38;5;28;01mreturn\u001b[39;00m \u001b[38;5;28mself\u001b[39m\u001b[38;5;241m.\u001b[39mapply_compat()\n\u001b[1;32m   1208\u001b[0m \u001b[38;5;66;03m# self.func is Callable\u001b[39;00m\n\u001b[0;32m-> 1209\u001b[0m \u001b[38;5;28;01mreturn\u001b[39;00m \u001b[38;5;28;43mself\u001b[39;49m\u001b[38;5;241;43m.\u001b[39;49m\u001b[43mapply_standard\u001b[49m\u001b[43m(\u001b[49m\u001b[43m)\u001b[49m\n",
      "File \u001b[0;32m/projectnb/herbdl/faridkar/.conda/envs/farid-2024/lib/python3.11/site-packages/pandas/core/apply.py:1289\u001b[0m, in \u001b[0;36mSeriesApply.apply_standard\u001b[0;34m(self)\u001b[0m\n\u001b[1;32m   1283\u001b[0m \u001b[38;5;66;03m# row-wise access\u001b[39;00m\n\u001b[1;32m   1284\u001b[0m \u001b[38;5;66;03m# apply doesn't have a `na_action` keyword and for backward compat reasons\u001b[39;00m\n\u001b[1;32m   1285\u001b[0m \u001b[38;5;66;03m# we need to give `na_action=\"ignore\"` for categorical data.\u001b[39;00m\n\u001b[1;32m   1286\u001b[0m \u001b[38;5;66;03m# TODO: remove the `na_action=\"ignore\"` when that default has been changed in\u001b[39;00m\n\u001b[1;32m   1287\u001b[0m \u001b[38;5;66;03m#  Categorical (GH51645).\u001b[39;00m\n\u001b[1;32m   1288\u001b[0m action \u001b[38;5;241m=\u001b[39m \u001b[38;5;124m\"\u001b[39m\u001b[38;5;124mignore\u001b[39m\u001b[38;5;124m\"\u001b[39m \u001b[38;5;28;01mif\u001b[39;00m \u001b[38;5;28misinstance\u001b[39m(obj\u001b[38;5;241m.\u001b[39mdtype, CategoricalDtype) \u001b[38;5;28;01melse\u001b[39;00m \u001b[38;5;28;01mNone\u001b[39;00m\n\u001b[0;32m-> 1289\u001b[0m mapped \u001b[38;5;241m=\u001b[39m \u001b[43mobj\u001b[49m\u001b[38;5;241;43m.\u001b[39;49m\u001b[43m_map_values\u001b[49m\u001b[43m(\u001b[49m\n\u001b[1;32m   1290\u001b[0m \u001b[43m    \u001b[49m\u001b[43mmapper\u001b[49m\u001b[38;5;241;43m=\u001b[39;49m\u001b[43mcurried\u001b[49m\u001b[43m,\u001b[49m\u001b[43m \u001b[49m\u001b[43mna_action\u001b[49m\u001b[38;5;241;43m=\u001b[39;49m\u001b[43maction\u001b[49m\u001b[43m,\u001b[49m\u001b[43m \u001b[49m\u001b[43mconvert\u001b[49m\u001b[38;5;241;43m=\u001b[39;49m\u001b[38;5;28;43mself\u001b[39;49m\u001b[38;5;241;43m.\u001b[39;49m\u001b[43mconvert_dtype\u001b[49m\n\u001b[1;32m   1291\u001b[0m \u001b[43m\u001b[49m\u001b[43m)\u001b[49m\n\u001b[1;32m   1293\u001b[0m \u001b[38;5;28;01mif\u001b[39;00m \u001b[38;5;28mlen\u001b[39m(mapped) \u001b[38;5;129;01mand\u001b[39;00m \u001b[38;5;28misinstance\u001b[39m(mapped[\u001b[38;5;241m0\u001b[39m], ABCSeries):\n\u001b[1;32m   1294\u001b[0m     \u001b[38;5;66;03m# GH#43986 Need to do list(mapped) in order to get treated as nested\u001b[39;00m\n\u001b[1;32m   1295\u001b[0m     \u001b[38;5;66;03m#  See also GH#25959 regarding EA support\u001b[39;00m\n\u001b[1;32m   1296\u001b[0m     \u001b[38;5;28;01mreturn\u001b[39;00m obj\u001b[38;5;241m.\u001b[39m_constructor_expanddim(\u001b[38;5;28mlist\u001b[39m(mapped), index\u001b[38;5;241m=\u001b[39mobj\u001b[38;5;241m.\u001b[39mindex)\n",
      "File \u001b[0;32m/projectnb/herbdl/faridkar/.conda/envs/farid-2024/lib/python3.11/site-packages/pandas/core/base.py:921\u001b[0m, in \u001b[0;36mIndexOpsMixin._map_values\u001b[0;34m(self, mapper, na_action, convert)\u001b[0m\n\u001b[1;32m    918\u001b[0m \u001b[38;5;28;01mif\u001b[39;00m \u001b[38;5;28misinstance\u001b[39m(arr, ExtensionArray):\n\u001b[1;32m    919\u001b[0m     \u001b[38;5;28;01mreturn\u001b[39;00m arr\u001b[38;5;241m.\u001b[39mmap(mapper, na_action\u001b[38;5;241m=\u001b[39mna_action)\n\u001b[0;32m--> 921\u001b[0m \u001b[38;5;28;01mreturn\u001b[39;00m \u001b[43malgorithms\u001b[49m\u001b[38;5;241;43m.\u001b[39;49m\u001b[43mmap_array\u001b[49m\u001b[43m(\u001b[49m\u001b[43marr\u001b[49m\u001b[43m,\u001b[49m\u001b[43m \u001b[49m\u001b[43mmapper\u001b[49m\u001b[43m,\u001b[49m\u001b[43m \u001b[49m\u001b[43mna_action\u001b[49m\u001b[38;5;241;43m=\u001b[39;49m\u001b[43mna_action\u001b[49m\u001b[43m,\u001b[49m\u001b[43m \u001b[49m\u001b[43mconvert\u001b[49m\u001b[38;5;241;43m=\u001b[39;49m\u001b[43mconvert\u001b[49m\u001b[43m)\u001b[49m\n",
      "File \u001b[0;32m/projectnb/herbdl/faridkar/.conda/envs/farid-2024/lib/python3.11/site-packages/pandas/core/algorithms.py:1814\u001b[0m, in \u001b[0;36mmap_array\u001b[0;34m(arr, mapper, na_action, convert)\u001b[0m\n\u001b[1;32m   1812\u001b[0m values \u001b[38;5;241m=\u001b[39m arr\u001b[38;5;241m.\u001b[39mastype(\u001b[38;5;28mobject\u001b[39m, copy\u001b[38;5;241m=\u001b[39m\u001b[38;5;28;01mFalse\u001b[39;00m)\n\u001b[1;32m   1813\u001b[0m \u001b[38;5;28;01mif\u001b[39;00m na_action \u001b[38;5;129;01mis\u001b[39;00m \u001b[38;5;28;01mNone\u001b[39;00m:\n\u001b[0;32m-> 1814\u001b[0m     \u001b[38;5;28;01mreturn\u001b[39;00m \u001b[43mlib\u001b[49m\u001b[38;5;241;43m.\u001b[39;49m\u001b[43mmap_infer\u001b[49m\u001b[43m(\u001b[49m\u001b[43mvalues\u001b[49m\u001b[43m,\u001b[49m\u001b[43m \u001b[49m\u001b[43mmapper\u001b[49m\u001b[43m,\u001b[49m\u001b[43m \u001b[49m\u001b[43mconvert\u001b[49m\u001b[38;5;241;43m=\u001b[39;49m\u001b[43mconvert\u001b[49m\u001b[43m)\u001b[49m\n\u001b[1;32m   1815\u001b[0m \u001b[38;5;28;01melse\u001b[39;00m:\n\u001b[1;32m   1816\u001b[0m     \u001b[38;5;28;01mreturn\u001b[39;00m lib\u001b[38;5;241m.\u001b[39mmap_infer_mask(\n\u001b[1;32m   1817\u001b[0m         values, mapper, mask\u001b[38;5;241m=\u001b[39misna(values)\u001b[38;5;241m.\u001b[39mview(np\u001b[38;5;241m.\u001b[39muint8), convert\u001b[38;5;241m=\u001b[39mconvert\n\u001b[1;32m   1818\u001b[0m     )\n",
      "File \u001b[0;32mlib.pyx:2926\u001b[0m, in \u001b[0;36mpandas._libs.lib.map_infer\u001b[0;34m()\u001b[0m\n",
      "Cell \u001b[0;32mIn[23], line 1\u001b[0m, in \u001b[0;36m<lambda>\u001b[0;34m(x)\u001b[0m\n\u001b[0;32m----> 1\u001b[0m df_astera[\u001b[38;5;124m'\u001b[39m\u001b[38;5;124mfamily\u001b[39m\u001b[38;5;124m'\u001b[39m] \u001b[38;5;241m=\u001b[39m df_astera[\u001b[38;5;124m'\u001b[39m\u001b[38;5;124mimage\u001b[39m\u001b[38;5;124m'\u001b[39m]\u001b[38;5;241m.\u001b[39mapply(\u001b[38;5;28;01mlambda\u001b[39;00m x: df[\u001b[43mdf\u001b[49m\u001b[43m[\u001b[49m\u001b[38;5;124;43m'\u001b[39;49m\u001b[38;5;124;43mfilename\u001b[39;49m\u001b[38;5;124;43m'\u001b[39;49m\u001b[43m]\u001b[49m\u001b[38;5;241;43m==\u001b[39;49m\u001b[43mx\u001b[49m][\u001b[38;5;124m'\u001b[39m\u001b[38;5;124mfamily\u001b[39m\u001b[38;5;124m'\u001b[39m]\u001b[38;5;241m.\u001b[39mvalues[\u001b[38;5;241m0\u001b[39m])\n",
      "File \u001b[0;32m/projectnb/herbdl/faridkar/.conda/envs/farid-2024/lib/python3.11/site-packages/pandas/core/ops/common.py:76\u001b[0m, in \u001b[0;36m_unpack_zerodim_and_defer.<locals>.new_method\u001b[0;34m(self, other)\u001b[0m\n\u001b[1;32m     72\u001b[0m             \u001b[38;5;28;01mreturn\u001b[39;00m \u001b[38;5;28mNotImplemented\u001b[39m\n\u001b[1;32m     74\u001b[0m other \u001b[38;5;241m=\u001b[39m item_from_zerodim(other)\n\u001b[0;32m---> 76\u001b[0m \u001b[38;5;28;01mreturn\u001b[39;00m \u001b[43mmethod\u001b[49m\u001b[43m(\u001b[49m\u001b[38;5;28;43mself\u001b[39;49m\u001b[43m,\u001b[49m\u001b[43m \u001b[49m\u001b[43mother\u001b[49m\u001b[43m)\u001b[49m\n",
      "File \u001b[0;32m/projectnb/herbdl/faridkar/.conda/envs/farid-2024/lib/python3.11/site-packages/pandas/core/arraylike.py:40\u001b[0m, in \u001b[0;36mOpsMixin.__eq__\u001b[0;34m(self, other)\u001b[0m\n\u001b[1;32m     38\u001b[0m \u001b[38;5;129m@unpack_zerodim_and_defer\u001b[39m(\u001b[38;5;124m\"\u001b[39m\u001b[38;5;124m__eq__\u001b[39m\u001b[38;5;124m\"\u001b[39m)\n\u001b[1;32m     39\u001b[0m \u001b[38;5;28;01mdef\u001b[39;00m \u001b[38;5;21m__eq__\u001b[39m(\u001b[38;5;28mself\u001b[39m, other):\n\u001b[0;32m---> 40\u001b[0m     \u001b[38;5;28;01mreturn\u001b[39;00m \u001b[38;5;28;43mself\u001b[39;49m\u001b[38;5;241;43m.\u001b[39;49m\u001b[43m_cmp_method\u001b[49m\u001b[43m(\u001b[49m\u001b[43mother\u001b[49m\u001b[43m,\u001b[49m\u001b[43m \u001b[49m\u001b[43moperator\u001b[49m\u001b[38;5;241;43m.\u001b[39;49m\u001b[43meq\u001b[49m\u001b[43m)\u001b[49m\n",
      "File \u001b[0;32m/projectnb/herbdl/faridkar/.conda/envs/farid-2024/lib/python3.11/site-packages/pandas/core/series.py:5803\u001b[0m, in \u001b[0;36mSeries._cmp_method\u001b[0;34m(self, other, op)\u001b[0m\n\u001b[1;32m   5800\u001b[0m lvalues \u001b[38;5;241m=\u001b[39m \u001b[38;5;28mself\u001b[39m\u001b[38;5;241m.\u001b[39m_values\n\u001b[1;32m   5801\u001b[0m rvalues \u001b[38;5;241m=\u001b[39m extract_array(other, extract_numpy\u001b[38;5;241m=\u001b[39m\u001b[38;5;28;01mTrue\u001b[39;00m, extract_range\u001b[38;5;241m=\u001b[39m\u001b[38;5;28;01mTrue\u001b[39;00m)\n\u001b[0;32m-> 5803\u001b[0m res_values \u001b[38;5;241m=\u001b[39m \u001b[43mops\u001b[49m\u001b[38;5;241;43m.\u001b[39;49m\u001b[43mcomparison_op\u001b[49m\u001b[43m(\u001b[49m\u001b[43mlvalues\u001b[49m\u001b[43m,\u001b[49m\u001b[43m \u001b[49m\u001b[43mrvalues\u001b[49m\u001b[43m,\u001b[49m\u001b[43m \u001b[49m\u001b[43mop\u001b[49m\u001b[43m)\u001b[49m\n\u001b[1;32m   5805\u001b[0m \u001b[38;5;28;01mreturn\u001b[39;00m \u001b[38;5;28mself\u001b[39m\u001b[38;5;241m.\u001b[39m_construct_result(res_values, name\u001b[38;5;241m=\u001b[39mres_name)\n",
      "File \u001b[0;32m/projectnb/herbdl/faridkar/.conda/envs/farid-2024/lib/python3.11/site-packages/pandas/core/ops/array_ops.py:346\u001b[0m, in \u001b[0;36mcomparison_op\u001b[0;34m(left, right, op)\u001b[0m\n\u001b[1;32m    343\u001b[0m     \u001b[38;5;28;01mreturn\u001b[39;00m invalid_comparison(lvalues, rvalues, op)\n\u001b[1;32m    345\u001b[0m \u001b[38;5;28;01melif\u001b[39;00m lvalues\u001b[38;5;241m.\u001b[39mdtype \u001b[38;5;241m==\u001b[39m \u001b[38;5;28mobject\u001b[39m \u001b[38;5;129;01mor\u001b[39;00m \u001b[38;5;28misinstance\u001b[39m(rvalues, \u001b[38;5;28mstr\u001b[39m):\n\u001b[0;32m--> 346\u001b[0m     res_values \u001b[38;5;241m=\u001b[39m \u001b[43mcomp_method_OBJECT_ARRAY\u001b[49m\u001b[43m(\u001b[49m\u001b[43mop\u001b[49m\u001b[43m,\u001b[49m\u001b[43m \u001b[49m\u001b[43mlvalues\u001b[49m\u001b[43m,\u001b[49m\u001b[43m \u001b[49m\u001b[43mrvalues\u001b[49m\u001b[43m)\u001b[49m\n\u001b[1;32m    348\u001b[0m \u001b[38;5;28;01melse\u001b[39;00m:\n\u001b[1;32m    349\u001b[0m     res_values \u001b[38;5;241m=\u001b[39m _na_arithmetic_op(lvalues, rvalues, op, is_cmp\u001b[38;5;241m=\u001b[39m\u001b[38;5;28;01mTrue\u001b[39;00m)\n",
      "File \u001b[0;32m/projectnb/herbdl/faridkar/.conda/envs/farid-2024/lib/python3.11/site-packages/pandas/core/ops/array_ops.py:131\u001b[0m, in \u001b[0;36mcomp_method_OBJECT_ARRAY\u001b[0;34m(op, x, y)\u001b[0m\n\u001b[1;32m    129\u001b[0m     result \u001b[38;5;241m=\u001b[39m libops\u001b[38;5;241m.\u001b[39mvec_compare(x\u001b[38;5;241m.\u001b[39mravel(), y\u001b[38;5;241m.\u001b[39mravel(), op)\n\u001b[1;32m    130\u001b[0m \u001b[38;5;28;01melse\u001b[39;00m:\n\u001b[0;32m--> 131\u001b[0m     result \u001b[38;5;241m=\u001b[39m \u001b[43mlibops\u001b[49m\u001b[38;5;241;43m.\u001b[39;49m\u001b[43mscalar_compare\u001b[49m\u001b[43m(\u001b[49m\u001b[43mx\u001b[49m\u001b[38;5;241;43m.\u001b[39;49m\u001b[43mravel\u001b[49m\u001b[43m(\u001b[49m\u001b[43m)\u001b[49m\u001b[43m,\u001b[49m\u001b[43m \u001b[49m\u001b[43my\u001b[49m\u001b[43m,\u001b[49m\u001b[43m \u001b[49m\u001b[43mop\u001b[49m\u001b[43m)\u001b[49m\n\u001b[1;32m    132\u001b[0m \u001b[38;5;28;01mreturn\u001b[39;00m result\u001b[38;5;241m.\u001b[39mreshape(x\u001b[38;5;241m.\u001b[39mshape)\n",
      "\u001b[0;31mKeyboardInterrupt\u001b[0m: "
     ]
    }
   ],
   "source": [
    "df_astera['family'] = df_astera['image'].apply(lambda x: df[df['filename']==x]['family'].values[0])"
   ]
  },
  {
   "cell_type": "code",
   "execution_count": null,
   "metadata": {},
   "outputs": [],
   "source": [
    "df_astera['genus'] = df_astera['image'].apply(lambda x: df[df['filename']==x]['genus'].values[0])\n",
    "df_astera['species'] = df_astera['image'].apply(lambda x: df[df['filename']==x]['species'].values[0])"
   ]
  },
  {
   "cell_type": "code",
   "execution_count": null,
   "metadata": {},
   "outputs": [
    {
     "data": {
      "text/html": [
       "<div>\n",
       "<style scoped>\n",
       "    .dataframe tbody tr th:only-of-type {\n",
       "        vertical-align: middle;\n",
       "    }\n",
       "\n",
       "    .dataframe tbody tr th {\n",
       "        vertical-align: top;\n",
       "    }\n",
       "\n",
       "    .dataframe thead th {\n",
       "        text-align: right;\n",
       "    }\n",
       "</style>\n",
       "<table border=\"1\" class=\"dataframe\">\n",
       "  <thead>\n",
       "    <tr style=\"text-align: right;\">\n",
       "      <th></th>\n",
       "      <th>image</th>\n",
       "      <th>caption</th>\n",
       "      <th>family</th>\n",
       "      <th>genus</th>\n",
       "      <th>species</th>\n",
       "    </tr>\n",
       "  </thead>\n",
       "  <tbody>\n",
       "    <tr>\n",
       "      <th>0</th>\n",
       "      <td>142/59/14259__031.jpg</td>\n",
       "      <td>17</td>\n",
       "      <td>Asteraceae</td>\n",
       "      <td>Symphyotrichum</td>\n",
       "      <td>fendleri</td>\n",
       "    </tr>\n",
       "    <tr>\n",
       "      <th>13</th>\n",
       "      <td>144/35/14435__041.jpg</td>\n",
       "      <td>17</td>\n",
       "      <td>Ranunculaceae</td>\n",
       "      <td>Thalictrum</td>\n",
       "      <td>fendleri</td>\n",
       "    </tr>\n",
       "    <tr>\n",
       "      <th>26</th>\n",
       "      <td>061/84/06184__026.jpg</td>\n",
       "      <td>17</td>\n",
       "      <td>Euphorbiaceae</td>\n",
       "      <td>Euphorbia</td>\n",
       "      <td>fendleri</td>\n",
       "    </tr>\n",
       "    <tr>\n",
       "      <th>52</th>\n",
       "      <td>071/74/07174__016.jpg</td>\n",
       "      <td>17</td>\n",
       "      <td>Pteridaceae</td>\n",
       "      <td>Hemionitis</td>\n",
       "      <td>fendleri</td>\n",
       "    </tr>\n",
       "    <tr>\n",
       "      <th>63</th>\n",
       "      <td>021/76/02176__064.jpg</td>\n",
       "      <td>17</td>\n",
       "      <td>Asteraceae</td>\n",
       "      <td>Brickelliastrum</td>\n",
       "      <td>fendleri</td>\n",
       "    </tr>\n",
       "    <tr>\n",
       "      <th>...</th>\n",
       "      <td>...</td>\n",
       "      <td>...</td>\n",
       "      <td>...</td>\n",
       "      <td>...</td>\n",
       "      <td>...</td>\n",
       "    </tr>\n",
       "    <tr>\n",
       "      <th>13584</th>\n",
       "      <td>097/95/09795__035.jpg</td>\n",
       "      <td>17</td>\n",
       "      <td>Brassicaceae</td>\n",
       "      <td>Noccaea</td>\n",
       "      <td>fendleri</td>\n",
       "    </tr>\n",
       "    <tr>\n",
       "      <th>13600</th>\n",
       "      <td>071/74/07174__067.jpg</td>\n",
       "      <td>17</td>\n",
       "      <td>Pteridaceae</td>\n",
       "      <td>Hemionitis</td>\n",
       "      <td>fendleri</td>\n",
       "    </tr>\n",
       "    <tr>\n",
       "      <th>13670</th>\n",
       "      <td>031/79/03179__065.jpg</td>\n",
       "      <td>17</td>\n",
       "      <td>Rhamnaceae</td>\n",
       "      <td>Ceanothus</td>\n",
       "      <td>fendleri</td>\n",
       "    </tr>\n",
       "    <tr>\n",
       "      <th>13682</th>\n",
       "      <td>021/76/02176__045.jpg</td>\n",
       "      <td>17</td>\n",
       "      <td>Asteraceae</td>\n",
       "      <td>Brickelliastrum</td>\n",
       "      <td>fendleri</td>\n",
       "    </tr>\n",
       "    <tr>\n",
       "      <th>13751</th>\n",
       "      <td>097/95/09795__095.jpg</td>\n",
       "      <td>17</td>\n",
       "      <td>Brassicaceae</td>\n",
       "      <td>Noccaea</td>\n",
       "      <td>fendleri</td>\n",
       "    </tr>\n",
       "  </tbody>\n",
       "</table>\n",
       "<p>341 rows × 5 columns</p>\n",
       "</div>"
      ],
      "text/plain": [
       "                       image  caption         family            genus  \\\n",
       "0      142/59/14259__031.jpg       17     Asteraceae   Symphyotrichum   \n",
       "13     144/35/14435__041.jpg       17  Ranunculaceae       Thalictrum   \n",
       "26     061/84/06184__026.jpg       17  Euphorbiaceae        Euphorbia   \n",
       "52     071/74/07174__016.jpg       17    Pteridaceae       Hemionitis   \n",
       "63     021/76/02176__064.jpg       17     Asteraceae  Brickelliastrum   \n",
       "...                      ...      ...            ...              ...   \n",
       "13584  097/95/09795__035.jpg       17   Brassicaceae          Noccaea   \n",
       "13600  071/74/07174__067.jpg       17    Pteridaceae       Hemionitis   \n",
       "13670  031/79/03179__065.jpg       17     Rhamnaceae        Ceanothus   \n",
       "13682  021/76/02176__045.jpg       17     Asteraceae  Brickelliastrum   \n",
       "13751  097/95/09795__095.jpg       17   Brassicaceae          Noccaea   \n",
       "\n",
       "        species  \n",
       "0      fendleri  \n",
       "13     fendleri  \n",
       "26     fendleri  \n",
       "52     fendleri  \n",
       "63     fendleri  \n",
       "...         ...  \n",
       "13584  fendleri  \n",
       "13600  fendleri  \n",
       "13670  fendleri  \n",
       "13682  fendleri  \n",
       "13751  fendleri  \n",
       "\n",
       "[341 rows x 5 columns]"
      ]
     },
     "execution_count": 82,
     "metadata": {},
     "output_type": "execute_result"
    }
   ],
   "source": [
    "df_astera[df_astera['caption']==17]"
   ]
  },
  {
   "cell_type": "code",
   "execution_count": 25,
   "metadata": {},
   "outputs": [
    {
     "data": {
      "text/html": [
       "<div>\n",
       "<style scoped>\n",
       "    .dataframe tbody tr th:only-of-type {\n",
       "        vertical-align: middle;\n",
       "    }\n",
       "\n",
       "    .dataframe tbody tr th {\n",
       "        vertical-align: top;\n",
       "    }\n",
       "\n",
       "    .dataframe thead th {\n",
       "        text-align: right;\n",
       "    }\n",
       "</style>\n",
       "<table border=\"1\" class=\"dataframe\">\n",
       "  <thead>\n",
       "    <tr style=\"text-align: right;\">\n",
       "      <th></th>\n",
       "      <th>image_id</th>\n",
       "      <th>filename</th>\n",
       "      <th>label</th>\n",
       "      <th>species</th>\n",
       "      <th>genus</th>\n",
       "      <th>family</th>\n",
       "      <th>scientific_name</th>\n",
       "    </tr>\n",
       "  </thead>\n",
       "  <tbody>\n",
       "    <tr>\n",
       "      <th>0</th>\n",
       "      <td>04108__101</td>\n",
       "      <td>/projectnb/herbdl/data/kaggle-herbaria/herbari...</td>\n",
       "      <td>16</td>\n",
       "      <td>acuminata</td>\n",
       "      <td>Crepis</td>\n",
       "      <td>Asteraceae</td>\n",
       "      <td>Crepis acuminata</td>\n",
       "    </tr>\n",
       "    <tr>\n",
       "      <th>1</th>\n",
       "      <td>08854__030</td>\n",
       "      <td>/projectnb/herbdl/data/kaggle-herbaria/herbari...</td>\n",
       "      <td>42</td>\n",
       "      <td>aphylla</td>\n",
       "      <td>Lygodesmia</td>\n",
       "      <td>Asteraceae</td>\n",
       "      <td>Lygodesmia aphylla</td>\n",
       "    </tr>\n",
       "    <tr>\n",
       "      <th>2</th>\n",
       "      <td>03503__013</td>\n",
       "      <td>/projectnb/herbdl/data/kaggle-herbaria/herbari...</td>\n",
       "      <td>14</td>\n",
       "      <td>mariana</td>\n",
       "      <td>Chrysopsis</td>\n",
       "      <td>Asteraceae</td>\n",
       "      <td>Chrysopsis mariana</td>\n",
       "    </tr>\n",
       "    <tr>\n",
       "      <th>3</th>\n",
       "      <td>14274__024</td>\n",
       "      <td>/projectnb/herbdl/data/kaggle-herbaria/herbari...</td>\n",
       "      <td>48</td>\n",
       "      <td>porteri</td>\n",
       "      <td>Symphyotrichum</td>\n",
       "      <td>Asteraceae</td>\n",
       "      <td>Symphyotrichum porteri</td>\n",
       "    </tr>\n",
       "    <tr>\n",
       "      <th>4</th>\n",
       "      <td>07266__037</td>\n",
       "      <td>/projectnb/herbdl/data/kaggle-herbaria/herbari...</td>\n",
       "      <td>35</td>\n",
       "      <td>polothrix</td>\n",
       "      <td>Heterotheca</td>\n",
       "      <td>Asteraceae</td>\n",
       "      <td>Heterotheca polothrix</td>\n",
       "    </tr>\n",
       "  </tbody>\n",
       "</table>\n",
       "</div>"
      ],
      "text/plain": [
       "     image_id                                           filename  label  \\\n",
       "0  04108__101  /projectnb/herbdl/data/kaggle-herbaria/herbari...     16   \n",
       "1  08854__030  /projectnb/herbdl/data/kaggle-herbaria/herbari...     42   \n",
       "2  03503__013  /projectnb/herbdl/data/kaggle-herbaria/herbari...     14   \n",
       "3  14274__024  /projectnb/herbdl/data/kaggle-herbaria/herbari...     48   \n",
       "4  07266__037  /projectnb/herbdl/data/kaggle-herbaria/herbari...     35   \n",
       "\n",
       "     species           genus      family         scientific_name  \n",
       "0  acuminata          Crepis  Asteraceae        Crepis acuminata  \n",
       "1    aphylla      Lygodesmia  Asteraceae      Lygodesmia aphylla  \n",
       "2    mariana      Chrysopsis  Asteraceae      Chrysopsis mariana  \n",
       "3    porteri  Symphyotrichum  Asteraceae  Symphyotrichum porteri  \n",
       "4  polothrix     Heterotheca  Asteraceae   Heterotheca polothrix  "
      ]
     },
     "execution_count": 25,
     "metadata": {},
     "output_type": "execute_result"
    }
   ],
   "source": [
    "df = pd.read_json(\"/projectnb/herbdl/workspaces/faridkar/herbdl/finetuning/datasets/train_astera_50.json\", lines=True)\n",
    "\n",
    "df.head()"
   ]
  },
  {
   "cell_type": "code",
   "execution_count": 26,
   "metadata": {},
   "outputs": [
    {
     "data": {
      "text/plain": [
       "scientific_name\n",
       "Bidens trichosperma           70\n",
       "Heterotheca pumila            69\n",
       "Pityopsis falcata             68\n",
       "Lorandersonia linifolia       68\n",
       "Erigeron tener                68\n",
       "Helianthus pumilus            68\n",
       "Erigeron vetensis             67\n",
       "Bidens eatonii                67\n",
       "Heterotheca polothrix         67\n",
       "Thelesperma subnudum          67\n",
       "Carphephorus odoratissimus    66\n",
       "Encelia californica           66\n",
       "Ageratina jucunda             66\n",
       "Crepis occidentalis           66\n",
       "Hymenoxys hoopesii            65\n",
       "Helianthus debilis            65\n",
       "Pterocaulon pycnostachyum     65\n",
       "Chrysopsis mariana            65\n",
       "Erigeron melanocephalus       65\n",
       "Eurybia divaricata            65\n",
       "Chrysopsis subulata           65\n",
       "Gaillardia spathulata         64\n",
       "Bidens vulgata                64\n",
       "Lepidospartum latisquamum     64\n",
       "Lygodesmia aphylla            64\n",
       "Symphyotrichum porteri        64\n",
       "Garberia heterophylla         64\n",
       "Arnica sororia                64\n",
       "Encelia virginensis           64\n",
       "Carphephorus paniculatus      64\n",
       "Bidens connata                63\n",
       "Crepis acuminata              63\n",
       "Erigeron vagus                62\n",
       "Symphyotrichum adnatum        62\n",
       "Erigeron pulcherrimus         62\n",
       "Crepis intermedia             62\n",
       "Eurybia radula                61\n",
       "Liatris pilosa                61\n",
       "Packera crocata               60\n",
       "Marshallia graminifolia       60\n",
       "Eutrochium dubium             60\n",
       "Liatris quadriflora           59\n",
       "Eurybia spectabilis           59\n",
       "Chaetadelpha wheeleri         58\n",
       "Adenophyllum cooperi          58\n",
       "Bidens beckii                 58\n",
       "Dieteria canescens            58\n",
       "Antennaria marginata          57\n",
       "Brickellia longifolia         57\n",
       "Arnica gracilis               56\n",
       "Name: count, dtype: int64"
      ]
     },
     "execution_count": 26,
     "metadata": {},
     "output_type": "execute_result"
    }
   ],
   "source": [
    "df['scientific_name'].value_counts()"
   ]
  },
  {
   "cell_type": "code",
   "execution_count": 27,
   "metadata": {},
   "outputs": [
    {
     "data": {
      "text/plain": [
       "(3170, 7)"
      ]
     },
     "execution_count": 27,
     "metadata": {},
     "output_type": "execute_result"
    }
   ],
   "source": [
    "df.shape"
   ]
  },
  {
   "cell_type": "code",
   "execution_count": 28,
   "metadata": {},
   "outputs": [
    {
     "data": {
      "text/plain": [
       "(793, 7)"
      ]
     },
     "execution_count": 28,
     "metadata": {},
     "output_type": "execute_result"
    }
   ],
   "source": [
    "val = pd.read_json(\"/projectnb/herbdl/workspaces/faridkar/herbdl/finetuning/datasets/val_astera_50.json\", lines=True)\n",
    "val.shape"
   ]
  },
  {
   "cell_type": "code",
   "execution_count": null,
   "metadata": {},
   "outputs": [],
   "source": []
  }
 ],
 "metadata": {
  "kernelspec": {
   "display_name": "farid-2024",
   "language": "python",
   "name": "python3"
  },
  "language_info": {
   "codemirror_mode": {
    "name": "ipython",
    "version": 3
   },
   "file_extension": ".py",
   "mimetype": "text/x-python",
   "name": "python",
   "nbconvert_exporter": "python",
   "pygments_lexer": "ipython3",
   "version": "3.11.6"
  }
 },
 "nbformat": 4,
 "nbformat_minor": 2
}
