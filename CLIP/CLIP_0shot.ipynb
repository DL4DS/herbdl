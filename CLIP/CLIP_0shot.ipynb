{
  "cells": [
    {
      "cell_type": "markdown",
      "metadata": {},
      "source": [
        "# **CLIP Zero-shot experiments and results**\n",
        "\n",
        "## **Using [OpenAI CLIP](https://github.com/openai/CLIP) ViT-B/32 model**"
      ]
    },
    {
      "cell_type": "code",
      "execution_count": null,
      "metadata": {
        "colab": {
          "base_uri": "https://localhost:8080/"
        },
        "id": "RBXPdwHbbijg",
        "outputId": "c8b1c2fe-33ee-4f97-a610-21694a26ed58"
      },
      "outputs": [
        {
          "name": "stdout",
          "output_type": "stream",
          "text": [
            "/bin/bash: line 1: conda: command not found\n",
            "Collecting ftfy\n",
            "  Downloading ftfy-6.2.0-py3-none-any.whl (54 kB)\n",
            "\u001b[2K     \u001b[90m━━━━━━━━━━━━━━━━━━━━━━━━━━━━━━━━━━━━━━━━\u001b[0m \u001b[32m54.4/54.4 kB\u001b[0m \u001b[31m963.4 kB/s\u001b[0m eta \u001b[36m0:00:00\u001b[0m\n",
            "\u001b[?25hRequirement already satisfied: regex in /usr/local/lib/python3.10/dist-packages (2023.12.25)\n",
            "Requirement already satisfied: tqdm in /usr/local/lib/python3.10/dist-packages (4.66.2)\n",
            "Requirement already satisfied: wcwidth<0.3.0,>=0.2.12 in /usr/local/lib/python3.10/dist-packages (from ftfy) (0.2.13)\n",
            "Installing collected packages: ftfy\n",
            "Successfully installed ftfy-6.2.0\n",
            "Collecting git+https://github.com/openai/CLIP.git\n",
            "  Cloning https://github.com/openai/CLIP.git to /tmp/pip-req-build-hpzaa9q4\n",
            "  Running command git clone --filter=blob:none --quiet https://github.com/openai/CLIP.git /tmp/pip-req-build-hpzaa9q4\n",
            "  Resolved https://github.com/openai/CLIP.git to commit a1d071733d7111c9c014f024669f959182114e33\n",
            "  Preparing metadata (setup.py) ... \u001b[?25l\u001b[?25hdone\n",
            "Requirement already satisfied: ftfy in /usr/local/lib/python3.10/dist-packages (from clip==1.0) (6.2.0)\n",
            "Requirement already satisfied: regex in /usr/local/lib/python3.10/dist-packages (from clip==1.0) (2023.12.25)\n",
            "Requirement already satisfied: tqdm in /usr/local/lib/python3.10/dist-packages (from clip==1.0) (4.66.2)\n",
            "Requirement already satisfied: torch in /usr/local/lib/python3.10/dist-packages (from clip==1.0) (2.2.1+cu121)\n",
            "Requirement already satisfied: torchvision in /usr/local/lib/python3.10/dist-packages (from clip==1.0) (0.17.1+cu121)\n",
            "Requirement already satisfied: wcwidth<0.3.0,>=0.2.12 in /usr/local/lib/python3.10/dist-packages (from ftfy->clip==1.0) (0.2.13)\n",
            "Requirement already satisfied: filelock in /usr/local/lib/python3.10/dist-packages (from torch->clip==1.0) (3.13.1)\n",
            "Requirement already satisfied: typing-extensions>=4.8.0 in /usr/local/lib/python3.10/dist-packages (from torch->clip==1.0) (4.10.0)\n",
            "Requirement already satisfied: sympy in /usr/local/lib/python3.10/dist-packages (from torch->clip==1.0) (1.12)\n",
            "Requirement already satisfied: networkx in /usr/local/lib/python3.10/dist-packages (from torch->clip==1.0) (3.2.1)\n",
            "Requirement already satisfied: jinja2 in /usr/local/lib/python3.10/dist-packages (from torch->clip==1.0) (3.1.3)\n",
            "Requirement already satisfied: fsspec in /usr/local/lib/python3.10/dist-packages (from torch->clip==1.0) (2023.6.0)\n",
            "Collecting nvidia-cuda-nvrtc-cu12==12.1.105 (from torch->clip==1.0)\n",
            "  Downloading nvidia_cuda_nvrtc_cu12-12.1.105-py3-none-manylinux1_x86_64.whl (23.7 MB)\n",
            "\u001b[2K     \u001b[90m━━━━━━━━━━━━━━━━━━━━━━━━━━━━━━━━━━━━━━━━\u001b[0m \u001b[32m23.7/23.7 MB\u001b[0m \u001b[31m45.4 MB/s\u001b[0m eta \u001b[36m0:00:00\u001b[0m\n",
            "\u001b[?25hCollecting nvidia-cuda-runtime-cu12==12.1.105 (from torch->clip==1.0)\n",
            "  Downloading nvidia_cuda_runtime_cu12-12.1.105-py3-none-manylinux1_x86_64.whl (823 kB)\n",
            "\u001b[2K     \u001b[90m━━━━━━━━━━━━━━━━━━━━━━━━━━━━━━━━━━━━━━━━\u001b[0m \u001b[32m823.6/823.6 kB\u001b[0m \u001b[31m64.7 MB/s\u001b[0m eta \u001b[36m0:00:00\u001b[0m\n",
            "\u001b[?25hCollecting nvidia-cuda-cupti-cu12==12.1.105 (from torch->clip==1.0)\n",
            "  Downloading nvidia_cuda_cupti_cu12-12.1.105-py3-none-manylinux1_x86_64.whl (14.1 MB)\n",
            "\u001b[2K     \u001b[90m━━━━━━━━━━━━━━━━━━━━━━━━━━━━━━━━━━━━━━━━\u001b[0m \u001b[32m14.1/14.1 MB\u001b[0m \u001b[31m48.6 MB/s\u001b[0m eta \u001b[36m0:00:00\u001b[0m\n",
            "\u001b[?25hCollecting nvidia-cudnn-cu12==8.9.2.26 (from torch->clip==1.0)\n",
            "  Downloading nvidia_cudnn_cu12-8.9.2.26-py3-none-manylinux1_x86_64.whl (731.7 MB)\n",
            "\u001b[2K     \u001b[90m━━━━━━━━━━━━━━━━━━━━━━━━━━━━━━━━━━━━━━━━\u001b[0m \u001b[32m731.7/731.7 MB\u001b[0m \u001b[31m2.1 MB/s\u001b[0m eta \u001b[36m0:00:00\u001b[0m\n",
            "\u001b[?25hCollecting nvidia-cublas-cu12==12.1.3.1 (from torch->clip==1.0)\n",
            "  Downloading nvidia_cublas_cu12-12.1.3.1-py3-none-manylinux1_x86_64.whl (410.6 MB)\n",
            "\u001b[2K     \u001b[90m━━━━━━━━━━━━━━━━━━━━━━━━━━━━━━━━━━━━━━━━\u001b[0m \u001b[32m410.6/410.6 MB\u001b[0m \u001b[31m2.7 MB/s\u001b[0m eta \u001b[36m0:00:00\u001b[0m\n",
            "\u001b[?25hCollecting nvidia-cufft-cu12==11.0.2.54 (from torch->clip==1.0)\n",
            "  Downloading nvidia_cufft_cu12-11.0.2.54-py3-none-manylinux1_x86_64.whl (121.6 MB)\n",
            "\u001b[2K     \u001b[90m━━━━━━━━━━━━━━━━━━━━━━━━━━━━━━━━━━━━━━━━\u001b[0m \u001b[32m121.6/121.6 MB\u001b[0m \u001b[31m8.2 MB/s\u001b[0m eta \u001b[36m0:00:00\u001b[0m\n",
            "\u001b[?25hCollecting nvidia-curand-cu12==10.3.2.106 (from torch->clip==1.0)\n",
            "  Downloading nvidia_curand_cu12-10.3.2.106-py3-none-manylinux1_x86_64.whl (56.5 MB)\n",
            "\u001b[2K     \u001b[90m━━━━━━━━━━━━━━━━━━━━━━━━━━━━━━━━━━━━━━━━\u001b[0m \u001b[32m56.5/56.5 MB\u001b[0m \u001b[31m11.7 MB/s\u001b[0m eta \u001b[36m0:00:00\u001b[0m\n",
            "\u001b[?25hCollecting nvidia-cusolver-cu12==11.4.5.107 (from torch->clip==1.0)\n",
            "  Downloading nvidia_cusolver_cu12-11.4.5.107-py3-none-manylinux1_x86_64.whl (124.2 MB)\n",
            "\u001b[2K     \u001b[90m━━━━━━━━━━━━━━━━━━━━━━━━━━━━━━━━━━━━━━━━\u001b[0m \u001b[32m124.2/124.2 MB\u001b[0m \u001b[31m6.0 MB/s\u001b[0m eta \u001b[36m0:00:00\u001b[0m\n",
            "\u001b[?25hCollecting nvidia-cusparse-cu12==12.1.0.106 (from torch->clip==1.0)\n",
            "  Downloading nvidia_cusparse_cu12-12.1.0.106-py3-none-manylinux1_x86_64.whl (196.0 MB)\n",
            "\u001b[2K     \u001b[90m━━━━━━━━━━━━━━━━━━━━━━━━━━━━━━━━━━━━━━━━\u001b[0m \u001b[32m196.0/196.0 MB\u001b[0m \u001b[31m5.2 MB/s\u001b[0m eta \u001b[36m0:00:00\u001b[0m\n",
            "\u001b[?25hCollecting nvidia-nccl-cu12==2.19.3 (from torch->clip==1.0)\n",
            "  Downloading nvidia_nccl_cu12-2.19.3-py3-none-manylinux1_x86_64.whl (166.0 MB)\n",
            "\u001b[2K     \u001b[90m━━━━━━━━━━━━━━━━━━━━━━━━━━━━━━━━━━━━━━━━\u001b[0m \u001b[32m166.0/166.0 MB\u001b[0m \u001b[31m3.7 MB/s\u001b[0m eta \u001b[36m0:00:00\u001b[0m\n",
            "\u001b[?25hCollecting nvidia-nvtx-cu12==12.1.105 (from torch->clip==1.0)\n",
            "  Downloading nvidia_nvtx_cu12-12.1.105-py3-none-manylinux1_x86_64.whl (99 kB)\n",
            "\u001b[2K     \u001b[90m━━━━━━━━━━━━━━━━━━━━━━━━━━━━━━━━━━━━━━━━\u001b[0m \u001b[32m99.1/99.1 kB\u001b[0m \u001b[31m6.0 MB/s\u001b[0m eta \u001b[36m0:00:00\u001b[0m\n",
            "\u001b[?25hRequirement already satisfied: triton==2.2.0 in /usr/local/lib/python3.10/dist-packages (from torch->clip==1.0) (2.2.0)\n",
            "Collecting nvidia-nvjitlink-cu12 (from nvidia-cusolver-cu12==11.4.5.107->torch->clip==1.0)\n",
            "  Downloading nvidia_nvjitlink_cu12-12.4.99-py3-none-manylinux2014_x86_64.whl (21.1 MB)\n",
            "\u001b[2K     \u001b[90m━━━━━━━━━━━━━━━━━━━━━━━━━━━━━━━━━━━━━━━━\u001b[0m \u001b[32m21.1/21.1 MB\u001b[0m \u001b[31m4.5 MB/s\u001b[0m eta \u001b[36m0:00:00\u001b[0m\n",
            "\u001b[?25hRequirement already satisfied: numpy in /usr/local/lib/python3.10/dist-packages (from torchvision->clip==1.0) (1.25.2)\n",
            "Requirement already satisfied: pillow!=8.3.*,>=5.3.0 in /usr/local/lib/python3.10/dist-packages (from torchvision->clip==1.0) (9.4.0)\n",
            "Requirement already satisfied: MarkupSafe>=2.0 in /usr/local/lib/python3.10/dist-packages (from jinja2->torch->clip==1.0) (2.1.5)\n",
            "Requirement already satisfied: mpmath>=0.19 in /usr/local/lib/python3.10/dist-packages (from sympy->torch->clip==1.0) (1.3.0)\n",
            "Building wheels for collected packages: clip\n",
            "  Building wheel for clip (setup.py) ... \u001b[?25l\u001b[?25hdone\n",
            "  Created wheel for clip: filename=clip-1.0-py3-none-any.whl size=1369499 sha256=df15cf2c27fc955dc23e373a3b2e59e6b6fe2484218a08d7dc75f4ff5026916f\n",
            "  Stored in directory: /tmp/pip-ephem-wheel-cache-op9xd5a7/wheels/da/2b/4c/d6691fa9597aac8bb85d2ac13b112deb897d5b50f5ad9a37e4\n",
            "Successfully built clip\n",
            "Installing collected packages: nvidia-nvtx-cu12, nvidia-nvjitlink-cu12, nvidia-nccl-cu12, nvidia-curand-cu12, nvidia-cufft-cu12, nvidia-cuda-runtime-cu12, nvidia-cuda-nvrtc-cu12, nvidia-cuda-cupti-cu12, nvidia-cublas-cu12, nvidia-cusparse-cu12, nvidia-cudnn-cu12, nvidia-cusolver-cu12, clip\n",
            "Successfully installed clip-1.0 nvidia-cublas-cu12-12.1.3.1 nvidia-cuda-cupti-cu12-12.1.105 nvidia-cuda-nvrtc-cu12-12.1.105 nvidia-cuda-runtime-cu12-12.1.105 nvidia-cudnn-cu12-8.9.2.26 nvidia-cufft-cu12-11.0.2.54 nvidia-curand-cu12-10.3.2.106 nvidia-cusolver-cu12-11.4.5.107 nvidia-cusparse-cu12-12.1.0.106 nvidia-nccl-cu12-2.19.3 nvidia-nvjitlink-cu12-12.4.99 nvidia-nvtx-cu12-12.1.105\n"
          ]
        }
      ],
      "source": [
        "! conda install --yes -c pytorch pytorch=1.7.1 torchvision cudatoolkit=11.0\n",
        "! pip install ftfy regex tqdm\n",
        "! pip install git+https://github.com/openai/CLIP.git"
      ]
    },
    {
      "cell_type": "code",
      "execution_count": null,
      "metadata": {
        "id": "m-gi1-omaney"
      },
      "outputs": [],
      "source": [
        "import os\n",
        "import clip\n",
        "import torch\n",
        "from PIL import Image"
      ]
    },
    {
      "cell_type": "code",
      "execution_count": null,
      "metadata": {
        "colab": {
          "base_uri": "https://localhost:8080/"
        },
        "id": "fTxE7-AjauyN",
        "outputId": "bc00a5b3-55bf-4aff-979f-00178f0a40be"
      },
      "outputs": [
        {
          "name": "stderr",
          "output_type": "stream",
          "text": [
            "100%|███████████████████████████████████████| 338M/338M [00:03<00:00, 98.0MiB/s]\n"
          ]
        }
      ],
      "source": [
        "# Load the model\n",
        "device = \"cuda\" if torch.cuda.is_available() else \"cpu\"\n",
        "model, preprocess = clip.load('ViT-B/32', device)\n",
        "\n"
      ]
    },
    {
      "cell_type": "markdown",
      "metadata": {},
      "source": [
        "## **Experiment 1 : Basic classification to distinguish herbaria plant sample from bigger varied classes**"
      ]
    },
    {
      "cell_type": "code",
      "execution_count": null,
      "metadata": {
        "id": "WqgTn_3yau1o"
      },
      "outputs": [],
      "source": [
        "# Download the dataset\n",
        "cifar100 = \"sample.jpg\"\n",
        "\n",
        "# Prepare the inputs\n",
        "image, class_id = cifar100, \"plant\"\n",
        "classes = [\"flower\", \"rock\", \"herb\", \"man\", \"tree\", \"paper\"]\n",
        "image_input = preprocess(Image.open(image)).unsqueeze(0).to(device)\n",
        "text_inputs = torch.cat([clip.tokenize(f\"a photo of a {c}\") for c in classes]).to(device)\n",
        "\n"
      ]
    },
    {
      "cell_type": "code",
      "execution_count": null,
      "metadata": {
        "id": "ts3jeW3zazRT"
      },
      "outputs": [],
      "source": [
        "# Calculate features\n",
        "with torch.no_grad():\n",
        "    image_features = model.encode_image(image_input)\n",
        "    text_features = model.encode_text(text_inputs)\n"
      ]
    },
    {
      "cell_type": "code",
      "execution_count": null,
      "metadata": {
        "id": "BESN_f3pa3iZ"
      },
      "outputs": [],
      "source": [
        "# Pick the top 5 most similar labels for the image\n",
        "image_features /= image_features.norm(dim=-1, keepdim=True)\n",
        "text_features /= text_features.norm(dim=-1, keepdim=True)\n",
        "similarity = (100.0 * image_features @ text_features.T).softmax(dim=-1)\n",
        "values, indices = similarity[0].topk(5)"
      ]
    },
    {
      "cell_type": "code",
      "execution_count": null,
      "metadata": {
        "colab": {
          "base_uri": "https://localhost:8080/"
        },
        "id": "EHkV2baqazUt",
        "outputId": "84e6b29c-4df3-4d28-aafa-b022a2274788"
      },
      "outputs": [
        {
          "name": "stdout",
          "output_type": "stream",
          "text": [
            "\n",
            "Top predictions:\n",
            "\n",
            "            herb: 68.75%\n",
            "            tree: 23.03%\n",
            "          flower: 5.47%\n",
            "           paper: 2.08%\n",
            "             man: 0.61%\n"
          ]
        }
      ],
      "source": [
        "# Print the result\n",
        "print(\"\\nTop predictions:\\n\")\n",
        "for value, index in zip(values, indices):\n",
        "    print(f\"{classes[index]:>16s}: {100 * value.item():.2f}%\")"
      ]
    },
    {
      "cell_type": "markdown",
      "metadata": {},
      "source": [
        "**Observation : CLIP performs excellently with high variance class labels and clear distinguishing features between samples**"
      ]
    },
    {
      "cell_type": "markdown",
      "metadata": {
        "id": "ryC8iy75eSCJ"
      },
      "source": [
        "## **Experiment 2 : Test with actual name and different specimen**"
      ]
    },
    {
      "cell_type": "code",
      "execution_count": null,
      "metadata": {
        "id": "BBCKg_dNfrz0"
      },
      "outputs": [],
      "source": [
        "# Download the dataset\n",
        "cifar100 = \"sample.jpg\"\n",
        "\n",
        "# Prepare the inputs\n",
        "image = cifar100\n",
        "classes = [\"Elymus hystrix\", \"Carex crinita\", \"Embelia pacifica\", \"Odontites luteus\", \"Phyllanthus urinaria\", \"Malvella lepidota\"]\n",
        "image_input = preprocess(Image.open(image)).unsqueeze(0).to(device)\n",
        "text_inputs = torch.cat([clip.tokenize(f\"a photo of plant species {c}\") for c in classes]).to(device)\n",
        "\n"
      ]
    },
    {
      "cell_type": "code",
      "execution_count": null,
      "metadata": {
        "id": "UYOmA8Jzfrz6"
      },
      "outputs": [],
      "source": [
        "# Calculate features\n",
        "with torch.no_grad():\n",
        "    image_features = model.encode_image(image_input)\n",
        "    text_features = model.encode_text(text_inputs)\n"
      ]
    },
    {
      "cell_type": "code",
      "execution_count": null,
      "metadata": {
        "id": "jWwvvSqLfrz6"
      },
      "outputs": [],
      "source": [
        "# Pick the top 5 most similar labels for the image\n",
        "image_features /= image_features.norm(dim=-1, keepdim=True)\n",
        "text_features /= text_features.norm(dim=-1, keepdim=True)\n",
        "similarity = (100.0 * image_features @ text_features.T).softmax(dim=-1)\n",
        "values, indices = similarity[0].topk(5)"
      ]
    },
    {
      "cell_type": "code",
      "execution_count": null,
      "metadata": {
        "colab": {
          "base_uri": "https://localhost:8080/"
        },
        "id": "-p0bJ9cbfrz6",
        "outputId": "64389baf-8b86-4805-b747-399b90c62a0b"
      },
      "outputs": [
        {
          "name": "stdout",
          "output_type": "stream",
          "text": [
            "\n",
            "Top predictions:\n",
            "\n",
            "Odontites luteus: 71.04%\n",
            "Malvella lepidota: 13.15%\n",
            "Embelia pacifica: 11.97%\n",
            "Phyllanthus urinaria: 3.71%\n",
            "Elymus hystrix: 0.10%\n"
          ]
        }
      ],
      "source": [
        "# Print the result\n",
        "print(\"\\nTop predictions:\\n\")\n",
        "for value, index in zip(values, indices):\n",
        "    print(f\"{classes[index]:}: {100 * value.item():.2f}%\")"
      ]
    },
    {
      "cell_type": "markdown",
      "metadata": {},
      "source": [
        "**Observation : CLIP performs inconsistently depending on sample features and gives varied levels of correctness not suitable for evaluation**"
      ]
    },
    {
      "cell_type": "markdown",
      "metadata": {
        "id": "kh4bKGL3lam_"
      },
      "source": [
        "## **Experiment 3 : Test with 10 images**"
      ]
    },
    {
      "cell_type": "markdown",
      "metadata": {
        "id": "x-Dj9SKGrCrA"
      },
      "source": [
        "Get ground truth taxon labels and set as classes"
      ]
    },
    {
      "cell_type": "code",
      "execution_count": null,
      "metadata": {
        "id": "QV2LLnhomRv_"
      },
      "outputs": [],
      "source": [
        "import pandas as pd\n",
        "import os"
      ]
    },
    {
      "cell_type": "code",
      "execution_count": null,
      "metadata": {
        "id": "sgn6-qMwlilw"
      },
      "outputs": [],
      "source": [
        "path = \"drive/MyDrive/testing/\"\n",
        "\n",
        "gt = pd.DataFrame(columns=['ID'])\n",
        "\n",
        "temp=[]\n",
        "for f in os.listdir(path):\n",
        "    if f.endswith(\"jpg\"):\n",
        "      temp.append(f[:-4])\n",
        "\n",
        "gt['ID'] = temp\n",
        "\n",
        "with open(path+\"taxon_gt.txt\", 'r') as tf:\n",
        "    t = []\n",
        "    classes = []\n",
        "    for line in tf:\n",
        "        id = line.rstrip('\\n').split(\":\")[0]\n",
        "        if id in list(gt['ID']):\n",
        "          t.append(line.rstrip('\\n').split(\":\")[1].lstrip())\n",
        "        classes.append(line.rstrip('\\n').split(\":\")[1].lstrip())\n"
      ]
    },
    {
      "cell_type": "code",
      "execution_count": null,
      "metadata": {
        "id": "803Bbc0XmDKD"
      },
      "outputs": [],
      "source": [
        "gt['Taxon'] = t"
      ]
    },
    {
      "cell_type": "code",
      "execution_count": null,
      "metadata": {
        "colab": {
          "base_uri": "https://localhost:8080/",
          "height": 363
        },
        "id": "Ol3eTEvze12j",
        "outputId": "5f268138-b08e-4648-d3ea-1cbb91b4fb81"
      },
      "outputs": [
        {
          "data": {
            "application/vnd.google.colaboratory.intrinsic+json": {
              "summary": "{\n  \"name\": \"gt\",\n  \"rows\": 10,\n  \"fields\": [\n    {\n      \"column\": \"ID\",\n      \"properties\": {\n        \"dtype\": \"string\",\n        \"num_unique_values\": 10,\n        \"samples\": [\n          \"1317746297\",\n          \"1318027385\",\n          \"1318182025\"\n        ],\n        \"semantic_type\": \"\",\n        \"description\": \"\"\n      }\n    },\n    {\n      \"column\": \"Taxon\",\n      \"properties\": {\n        \"dtype\": \"string\",\n        \"num_unique_values\": 10,\n        \"samples\": [\n          \"Elymus hystrix\",\n          \"Tigridia pavonia\",\n          \"Cyathea squamipes\"\n        ],\n        \"semantic_type\": \"\",\n        \"description\": \"\"\n      }\n    }\n  ]\n}",
              "type": "dataframe",
              "variable_name": "gt"
            },
            "text/html": [
              "\n",
              "  <div id=\"df-84077e5d-646b-4cdc-b739-e4105808196b\" class=\"colab-df-container\">\n",
              "    <div>\n",
              "<style scoped>\n",
              "    .dataframe tbody tr th:only-of-type {\n",
              "        vertical-align: middle;\n",
              "    }\n",
              "\n",
              "    .dataframe tbody tr th {\n",
              "        vertical-align: top;\n",
              "    }\n",
              "\n",
              "    .dataframe thead th {\n",
              "        text-align: right;\n",
              "    }\n",
              "</style>\n",
              "<table border=\"1\" class=\"dataframe\">\n",
              "  <thead>\n",
              "    <tr style=\"text-align: right;\">\n",
              "      <th></th>\n",
              "      <th>ID</th>\n",
              "      <th>Taxon</th>\n",
              "    </tr>\n",
              "  </thead>\n",
              "  <tbody>\n",
              "    <tr>\n",
              "      <th>0</th>\n",
              "      <td>1317840733</td>\n",
              "      <td>Cordia sulcata</td>\n",
              "    </tr>\n",
              "    <tr>\n",
              "      <th>1</th>\n",
              "      <td>1318027385</td>\n",
              "      <td>Tigridia pavonia</td>\n",
              "    </tr>\n",
              "    <tr>\n",
              "      <th>2</th>\n",
              "      <td>1212567865</td>\n",
              "      <td>Sidalcea asprella</td>\n",
              "    </tr>\n",
              "    <tr>\n",
              "      <th>3</th>\n",
              "      <td>1317726996</td>\n",
              "      <td>Hohenbergia antillana</td>\n",
              "    </tr>\n",
              "    <tr>\n",
              "      <th>4</th>\n",
              "      <td>437160969</td>\n",
              "      <td>Cuscuta gronovii</td>\n",
              "    </tr>\n",
              "    <tr>\n",
              "      <th>5</th>\n",
              "      <td>1318182025</td>\n",
              "      <td>Cyathea squamipes</td>\n",
              "    </tr>\n",
              "    <tr>\n",
              "      <th>6</th>\n",
              "      <td>1318293083</td>\n",
              "      <td>Croton californicus</td>\n",
              "    </tr>\n",
              "    <tr>\n",
              "      <th>7</th>\n",
              "      <td>1318212360</td>\n",
              "      <td>Clermontia persicifolia</td>\n",
              "    </tr>\n",
              "    <tr>\n",
              "      <th>8</th>\n",
              "      <td>1317746297</td>\n",
              "      <td>Elymus hystrix</td>\n",
              "    </tr>\n",
              "    <tr>\n",
              "      <th>9</th>\n",
              "      <td>1317278320</td>\n",
              "      <td>Myrtopsis pomaderridifolia</td>\n",
              "    </tr>\n",
              "  </tbody>\n",
              "</table>\n",
              "</div>\n",
              "    <div class=\"colab-df-buttons\">\n",
              "\n",
              "  <div class=\"colab-df-container\">\n",
              "    <button class=\"colab-df-convert\" onclick=\"convertToInteractive('df-84077e5d-646b-4cdc-b739-e4105808196b')\"\n",
              "            title=\"Convert this dataframe to an interactive table.\"\n",
              "            style=\"display:none;\">\n",
              "\n",
              "  <svg xmlns=\"http://www.w3.org/2000/svg\" height=\"24px\" viewBox=\"0 -960 960 960\">\n",
              "    <path d=\"M120-120v-720h720v720H120Zm60-500h600v-160H180v160Zm220 220h160v-160H400v160Zm0 220h160v-160H400v160ZM180-400h160v-160H180v160Zm440 0h160v-160H620v160ZM180-180h160v-160H180v160Zm440 0h160v-160H620v160Z\"/>\n",
              "  </svg>\n",
              "    </button>\n",
              "\n",
              "  <style>\n",
              "    .colab-df-container {\n",
              "      display:flex;\n",
              "      gap: 12px;\n",
              "    }\n",
              "\n",
              "    .colab-df-convert {\n",
              "      background-color: #E8F0FE;\n",
              "      border: none;\n",
              "      border-radius: 50%;\n",
              "      cursor: pointer;\n",
              "      display: none;\n",
              "      fill: #1967D2;\n",
              "      height: 32px;\n",
              "      padding: 0 0 0 0;\n",
              "      width: 32px;\n",
              "    }\n",
              "\n",
              "    .colab-df-convert:hover {\n",
              "      background-color: #E2EBFA;\n",
              "      box-shadow: 0px 1px 2px rgba(60, 64, 67, 0.3), 0px 1px 3px 1px rgba(60, 64, 67, 0.15);\n",
              "      fill: #174EA6;\n",
              "    }\n",
              "\n",
              "    .colab-df-buttons div {\n",
              "      margin-bottom: 4px;\n",
              "    }\n",
              "\n",
              "    [theme=dark] .colab-df-convert {\n",
              "      background-color: #3B4455;\n",
              "      fill: #D2E3FC;\n",
              "    }\n",
              "\n",
              "    [theme=dark] .colab-df-convert:hover {\n",
              "      background-color: #434B5C;\n",
              "      box-shadow: 0px 1px 3px 1px rgba(0, 0, 0, 0.15);\n",
              "      filter: drop-shadow(0px 1px 2px rgba(0, 0, 0, 0.3));\n",
              "      fill: #FFFFFF;\n",
              "    }\n",
              "  </style>\n",
              "\n",
              "    <script>\n",
              "      const buttonEl =\n",
              "        document.querySelector('#df-84077e5d-646b-4cdc-b739-e4105808196b button.colab-df-convert');\n",
              "      buttonEl.style.display =\n",
              "        google.colab.kernel.accessAllowed ? 'block' : 'none';\n",
              "\n",
              "      async function convertToInteractive(key) {\n",
              "        const element = document.querySelector('#df-84077e5d-646b-4cdc-b739-e4105808196b');\n",
              "        const dataTable =\n",
              "          await google.colab.kernel.invokeFunction('convertToInteractive',\n",
              "                                                    [key], {});\n",
              "        if (!dataTable) return;\n",
              "\n",
              "        const docLinkHtml = 'Like what you see? Visit the ' +\n",
              "          '<a target=\"_blank\" href=https://colab.research.google.com/notebooks/data_table.ipynb>data table notebook</a>'\n",
              "          + ' to learn more about interactive tables.';\n",
              "        element.innerHTML = '';\n",
              "        dataTable['output_type'] = 'display_data';\n",
              "        await google.colab.output.renderOutput(dataTable, element);\n",
              "        const docLink = document.createElement('div');\n",
              "        docLink.innerHTML = docLinkHtml;\n",
              "        element.appendChild(docLink);\n",
              "      }\n",
              "    </script>\n",
              "  </div>\n",
              "\n",
              "\n",
              "<div id=\"df-852f4929-d37e-44fd-8a0f-183c05c21ef9\">\n",
              "  <button class=\"colab-df-quickchart\" onclick=\"quickchart('df-852f4929-d37e-44fd-8a0f-183c05c21ef9')\"\n",
              "            title=\"Suggest charts\"\n",
              "            style=\"display:none;\">\n",
              "\n",
              "<svg xmlns=\"http://www.w3.org/2000/svg\" height=\"24px\"viewBox=\"0 0 24 24\"\n",
              "     width=\"24px\">\n",
              "    <g>\n",
              "        <path d=\"M19 3H5c-1.1 0-2 .9-2 2v14c0 1.1.9 2 2 2h14c1.1 0 2-.9 2-2V5c0-1.1-.9-2-2-2zM9 17H7v-7h2v7zm4 0h-2V7h2v10zm4 0h-2v-4h2v4z\"/>\n",
              "    </g>\n",
              "</svg>\n",
              "  </button>\n",
              "\n",
              "<style>\n",
              "  .colab-df-quickchart {\n",
              "      --bg-color: #E8F0FE;\n",
              "      --fill-color: #1967D2;\n",
              "      --hover-bg-color: #E2EBFA;\n",
              "      --hover-fill-color: #174EA6;\n",
              "      --disabled-fill-color: #AAA;\n",
              "      --disabled-bg-color: #DDD;\n",
              "  }\n",
              "\n",
              "  [theme=dark] .colab-df-quickchart {\n",
              "      --bg-color: #3B4455;\n",
              "      --fill-color: #D2E3FC;\n",
              "      --hover-bg-color: #434B5C;\n",
              "      --hover-fill-color: #FFFFFF;\n",
              "      --disabled-bg-color: #3B4455;\n",
              "      --disabled-fill-color: #666;\n",
              "  }\n",
              "\n",
              "  .colab-df-quickchart {\n",
              "    background-color: var(--bg-color);\n",
              "    border: none;\n",
              "    border-radius: 50%;\n",
              "    cursor: pointer;\n",
              "    display: none;\n",
              "    fill: var(--fill-color);\n",
              "    height: 32px;\n",
              "    padding: 0;\n",
              "    width: 32px;\n",
              "  }\n",
              "\n",
              "  .colab-df-quickchart:hover {\n",
              "    background-color: var(--hover-bg-color);\n",
              "    box-shadow: 0 1px 2px rgba(60, 64, 67, 0.3), 0 1px 3px 1px rgba(60, 64, 67, 0.15);\n",
              "    fill: var(--button-hover-fill-color);\n",
              "  }\n",
              "\n",
              "  .colab-df-quickchart-complete:disabled,\n",
              "  .colab-df-quickchart-complete:disabled:hover {\n",
              "    background-color: var(--disabled-bg-color);\n",
              "    fill: var(--disabled-fill-color);\n",
              "    box-shadow: none;\n",
              "  }\n",
              "\n",
              "  .colab-df-spinner {\n",
              "    border: 2px solid var(--fill-color);\n",
              "    border-color: transparent;\n",
              "    border-bottom-color: var(--fill-color);\n",
              "    animation:\n",
              "      spin 1s steps(1) infinite;\n",
              "  }\n",
              "\n",
              "  @keyframes spin {\n",
              "    0% {\n",
              "      border-color: transparent;\n",
              "      border-bottom-color: var(--fill-color);\n",
              "      border-left-color: var(--fill-color);\n",
              "    }\n",
              "    20% {\n",
              "      border-color: transparent;\n",
              "      border-left-color: var(--fill-color);\n",
              "      border-top-color: var(--fill-color);\n",
              "    }\n",
              "    30% {\n",
              "      border-color: transparent;\n",
              "      border-left-color: var(--fill-color);\n",
              "      border-top-color: var(--fill-color);\n",
              "      border-right-color: var(--fill-color);\n",
              "    }\n",
              "    40% {\n",
              "      border-color: transparent;\n",
              "      border-right-color: var(--fill-color);\n",
              "      border-top-color: var(--fill-color);\n",
              "    }\n",
              "    60% {\n",
              "      border-color: transparent;\n",
              "      border-right-color: var(--fill-color);\n",
              "    }\n",
              "    80% {\n",
              "      border-color: transparent;\n",
              "      border-right-color: var(--fill-color);\n",
              "      border-bottom-color: var(--fill-color);\n",
              "    }\n",
              "    90% {\n",
              "      border-color: transparent;\n",
              "      border-bottom-color: var(--fill-color);\n",
              "    }\n",
              "  }\n",
              "</style>\n",
              "\n",
              "  <script>\n",
              "    async function quickchart(key) {\n",
              "      const quickchartButtonEl =\n",
              "        document.querySelector('#' + key + ' button');\n",
              "      quickchartButtonEl.disabled = true;  // To prevent multiple clicks.\n",
              "      quickchartButtonEl.classList.add('colab-df-spinner');\n",
              "      try {\n",
              "        const charts = await google.colab.kernel.invokeFunction(\n",
              "            'suggestCharts', [key], {});\n",
              "      } catch (error) {\n",
              "        console.error('Error during call to suggestCharts:', error);\n",
              "      }\n",
              "      quickchartButtonEl.classList.remove('colab-df-spinner');\n",
              "      quickchartButtonEl.classList.add('colab-df-quickchart-complete');\n",
              "    }\n",
              "    (() => {\n",
              "      let quickchartButtonEl =\n",
              "        document.querySelector('#df-852f4929-d37e-44fd-8a0f-183c05c21ef9 button');\n",
              "      quickchartButtonEl.style.display =\n",
              "        google.colab.kernel.accessAllowed ? 'block' : 'none';\n",
              "    })();\n",
              "  </script>\n",
              "</div>\n",
              "    </div>\n",
              "  </div>\n"
            ],
            "text/plain": [
              "           ID                       Taxon\n",
              "0  1317840733              Cordia sulcata\n",
              "1  1318027385            Tigridia pavonia\n",
              "2  1212567865           Sidalcea asprella\n",
              "3  1317726996       Hohenbergia antillana\n",
              "4   437160969            Cuscuta gronovii\n",
              "5  1318182025           Cyathea squamipes\n",
              "6  1318293083         Croton californicus\n",
              "7  1318212360     Clermontia persicifolia\n",
              "8  1317746297              Elymus hystrix\n",
              "9  1317278320  Myrtopsis pomaderridifolia"
            ]
          },
          "execution_count": 87,
          "metadata": {},
          "output_type": "execute_result"
        }
      ],
      "source": [
        "gt"
      ]
    },
    {
      "cell_type": "markdown",
      "metadata": {
        "id": "sopRLyFDrImM"
      },
      "source": [
        "Function for zero shot classification for 1 image:"
      ]
    },
    {
      "cell_type": "code",
      "execution_count": null,
      "metadata": {
        "id": "llfn1JJ0oqG-"
      },
      "outputs": [],
      "source": [
        "def CLIP_zero_shot(image):\n",
        "  image_input = preprocess(Image.open(path+image+\".jpg\")).unsqueeze(0).to(device)\n",
        "  text_inputs = torch.cat([clip.tokenize(f\"a photo of plant species {c}\") for c in classes]).to(device)\n",
        "\n",
        "  # Calculate features\n",
        "  with torch.no_grad():\n",
        "      image_features = model.encode_image(image_input)\n",
        "      text_features = model.encode_text(text_inputs)\n",
        "\n",
        "  # Pick the top 5 most similar labels for the image\n",
        "  image_features /= image_features.norm(dim=-1, keepdim=True)\n",
        "  text_features /= text_features.norm(dim=-1, keepdim=True)\n",
        "  similarity = (100.0 * image_features @ text_features.T).softmax(dim=-1)\n",
        "  values, indices = similarity[0].topk(10)\n",
        "\n",
        "  # Print the result\n",
        "  pred = []\n",
        "  print(\"\\nTop predictions:\\n\")\n",
        "  for value, index in zip(values, indices):\n",
        "      print(f\"{classes[index]:>16s}: {100 * value.item():.2f}%\")\n",
        "      pred.append(classes[index])\n",
        "\n",
        "  return pred"
      ]
    },
    {
      "cell_type": "code",
      "execution_count": null,
      "metadata": {
        "colab": {
          "base_uri": "https://localhost:8080/"
        },
        "id": "uYQywfxBb0mV",
        "outputId": "460046d6-e257-4397-a1fe-2e13f623ed11"
      },
      "outputs": [
        {
          "name": "stdout",
          "output_type": "stream",
          "text": [
            "\n",
            "Top predictions:\n",
            "\n",
            "Muhlenbergia richardsonis: 3.26%\n",
            "  Elymus hystrix: 2.13%\n",
            " Juncus interior: 1.91%\n",
            "Isochilus linearis: 1.86%\n",
            "    Neuropoa fax: 1.72%\n",
            "  Carex leptalea: 1.66%\n",
            "Andropogon floridanus: 1.61%\n",
            "Bromus hordeaceus: 1.51%\n",
            "Bromus commutatus: 1.42%\n",
            "Triticum turgidum: 1.40%\n",
            "\n",
            "Top predictions:\n",
            "\n",
            "Lawsonia inermis: 1.90%\n",
            "Sceptridium dissectum: 1.51%\n",
            "   Crateva magna: 1.41%\n",
            "Betula alleghaniensis: 1.33%\n",
            "Diplazium sylvaticum: 1.19%\n",
            "Asplenium platyneuron: 1.12%\n",
            "Ribes hudsonianum: 1.08%\n",
            "Rubus allegheniensis: 0.75%\n",
            "Plagiomnium medium: 0.73%\n",
            "Rhizomnium glabrescens: 0.70%\n",
            "\n",
            "Top predictions:\n",
            "\n",
            "Triticum turgidum: 4.38%\n",
            "Sceptridium dissectum: 2.20%\n",
            "   Crateva magna: 1.85%\n",
            "Lawsonia inermis: 1.32%\n",
            "Calamagrostis canadensis: 1.18%\n",
            "Bromus commutatus: 1.12%\n",
            "Neodolichomitra yunnanensis: 1.02%\n",
            "Eriochloa acuminata: 0.89%\n",
            "Bromus hordeaceus: 0.79%\n",
            "Aristida nemorivaga: 0.77%\n",
            "\n",
            "Top predictions:\n",
            "\n",
            "   Crateva magna: 3.38%\n",
            "Diplazium sylvaticum: 1.70%\n",
            "Plagiomnium medium: 1.50%\n",
            "Philodendron sagittifolium: 1.43%\n",
            "Justicia mediocris: 1.31%\n",
            "Lawsonia inermis: 1.23%\n",
            "Potamogeton nodosus: 1.17%\n",
            "Croton cordiifolius: 0.90%\n",
            "Bartonia paniculata: 0.83%\n",
            "Arceuthobium americanum: 0.79%\n",
            "\n",
            "Top predictions:\n",
            "\n",
            "Sceptridium dissectum: 3.79%\n",
            "Angadenia berteroi: 3.00%\n",
            "Justicia mediocris: 1.82%\n",
            "Potamogeton nodosus: 1.33%\n",
            "   Crateva magna: 1.21%\n",
            "Handroanthus impetiginosum: 1.12%\n",
            "Rhabdodendron macrophyllum: 1.10%\n",
            "Adenia cissampeloides: 1.10%\n",
            "Miconia coniophora: 1.00%\n",
            "Neodolichomitra yunnanensis: 0.97%\n",
            "\n",
            "Top predictions:\n",
            "\n",
            "Triticum turgidum: 3.93%\n",
            "   Crateva magna: 2.78%\n",
            "Justicia mediocris: 2.66%\n",
            "Lawsonia inermis: 1.74%\n",
            "Diplazium sylvaticum: 1.30%\n",
            "Micranthes nivalis: 1.18%\n",
            "   Chara braunii: 0.96%\n",
            "Calamus marginatus: 0.95%\n",
            "Equisetum sylvaticum: 0.81%\n",
            " Gnidia linearis: 0.77%\n",
            "\n",
            "Top predictions:\n",
            "\n",
            "Betula alleghaniensis: 7.34%\n",
            " Tilia americana: 5.12%\n",
            "   Tilia moltkei: 4.59%\n",
            "   Populus nigra: 3.01%\n",
            "Celtis laevigata: 2.87%\n",
            "Celtis mildbraedii: 2.42%\n",
            "Dioscorea pilosiuscula: 2.01%\n",
            "   Crateva magna: 1.97%\n",
            "Justicia mediocris: 1.56%\n",
            "Abutilon theophrasti: 1.34%\n",
            "\n",
            "Top predictions:\n",
            "\n",
            "Athyrium filix-femina: 6.27%\n",
            "Athyrium arcuatum: 5.45%\n",
            "Polystichum lonchitis: 5.28%\n",
            "Dryopteris filix-mas: 5.04%\n",
            "Pteris altissima: 4.05%\n",
            "Pteris quadriaurita: 3.86%\n",
            "Asplenium platyneuron: 3.74%\n",
            "Dryopteris intermedia: 3.63%\n",
            "Pteris semipinnata: 2.57%\n",
            "Dryopteris villarii: 2.13%\n",
            "\n",
            "Top predictions:\n",
            "\n",
            "Angraecum rostratum: 1.47%\n",
            "Sophora alopecuroides: 1.40%\n",
            "Polygala verticillata: 1.22%\n",
            "Asplenium platyneuron: 1.09%\n",
            "Bartonia paniculata: 0.95%\n",
            "Digitaria hololeuca: 0.81%\n",
            "Pterygoneurum subsessile: 0.80%\n",
            "Angadenia berteroi: 0.70%\n",
            "   Crateva magna: 0.70%\n",
            "Epidendrum difforme: 0.69%\n",
            "\n",
            "Top predictions:\n",
            "\n",
            "Ribes hudsonianum: 10.77%\n",
            "Vitis aestivalis: 2.40%\n",
            "Rubus amygdalanthus: 2.29%\n",
            "     Ficus ribes: 2.09%\n",
            "Thalictrum simplex: 1.81%\n",
            "Rubus allegheniensis: 1.70%\n",
            "Philadelphus coulteri: 1.33%\n",
            "Diplazium sylvaticum: 1.14%\n",
            "Epilobium palustre: 1.07%\n",
            "   Crateva magna: 1.00%\n"
          ]
        }
      ],
      "source": [
        "preds = {}\n",
        "\n",
        "for f in gt['ID']:\n",
        "      p = CLIP_zero_shot(f)\n",
        "      preds[f] = p"
      ]
    },
    {
      "cell_type": "code",
      "execution_count": null,
      "metadata": {
        "id": "50xWZ1-2r08t"
      },
      "outputs": [],
      "source": [
        "def evaluate(gt, pred):\n",
        "  acc = 0\n",
        "  for i in pred:\n",
        "    if gt[gt['ID']==i]['Taxon'].item() in pred[i]:\n",
        "      acc+=1\n",
        "\n",
        "  acc = acc/len(pred)*100\n",
        "  print(f\"Accuracy : {acc}%\")"
      ]
    },
    {
      "cell_type": "code",
      "execution_count": null,
      "metadata": {
        "colab": {
          "base_uri": "https://localhost:8080/"
        },
        "id": "e1kKjWt9fSHv",
        "outputId": "36127f46-3da5-4e12-e4e6-141b05f71b0d"
      },
      "outputs": [
        {
          "name": "stdout",
          "output_type": "stream",
          "text": [
            "Accuracy : 0.0%\n"
          ]
        }
      ],
      "source": [
        "evaluate(gt, preds)"
      ]
    }
  ],
  "metadata": {
    "accelerator": "GPU",
    "colab": {
      "gpuType": "T4",
      "provenance": []
    },
    "kernelspec": {
      "display_name": "Python 3",
      "name": "python3"
    },
    "language_info": {
      "name": "python"
    }
  },
  "nbformat": 4,
  "nbformat_minor": 0
}
